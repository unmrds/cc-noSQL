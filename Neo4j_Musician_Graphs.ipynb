{
 "cells": [
  {
   "cell_type": "markdown",
   "metadata": {},
   "source": [
    "# Graphing Relationships with Neo4j\n",
    "--------------------------------------------------------------------------\n",
    "\n",
    "This tutorial makes use of the _Musicbrainz_ database: [https://musicbrainz.org/](https://musicbrainz.org/)"
   ]
  },
  {
   "cell_type": "code",
   "execution_count": 1,
   "metadata": {
    "collapsed": true
   },
   "outputs": [],
   "source": [
    "#!pip install py2neo\n",
    "#!pip install neo4j-driver===1.6.2\n",
    "#!pip install pymongo"
   ]
  },
  {
   "cell_type": "code",
   "execution_count": 2,
   "metadata": {
    "collapsed": true
   },
   "outputs": [],
   "source": [
    "from neo4j import *\n",
    "from py2neo import *\n",
    "from pymongo import MongoClient"
   ]
  },
  {
   "cell_type": "code",
   "execution_count": 3,
   "metadata": {
    "collapsed": true
   },
   "outputs": [],
   "source": [
    "# http://localhost:7474\n",
    "# https://neo4j.com/docs/"
   ]
  },
  {
   "cell_type": "code",
   "execution_count": 5,
   "metadata": {
    "collapsed": true
   },
   "outputs": [],
   "source": [
    "#db = Database(\"http://cc.unmrds.net:7474/db/data/\")\n",
    "db = Database(\"http://localhost:7474/db/data/\", user=\"neo4j\", password='neo4j2')"
   ]
  },
  {
   "cell_type": "code",
   "execution_count": 6,
   "metadata": {
    "collapsed": true
   },
   "outputs": [],
   "source": [
    "from py2neo import Graph, Path\n",
    "#graph = Graph(\"http://cc.unmrds.net:7474/db/data/\")\n",
    "graph = Graph(\"http://localhost:7474/db/data/\", user=\"neo4j\", password='neo4j2')"
   ]
  },
  {
   "cell_type": "code",
   "execution_count": 8,
   "metadata": {
    "collapsed": true
   },
   "outputs": [],
   "source": [
    "#client = MongoClient('mongo', 27017)\n",
    "client = MongoClient('localhost', 27017)"
   ]
  },
  {
   "cell_type": "code",
   "execution_count": 9,
   "metadata": {
    "collapsed": true
   },
   "outputs": [],
   "source": [
    "db = client.jazz_catalog"
   ]
  },
  {
   "cell_type": "code",
   "execution_count": 10,
   "metadata": {},
   "outputs": [
    {
     "name": "stderr",
     "output_type": "stream",
     "text": [
      "/usr/lib/python3/dist-packages/ipykernel_launcher.py:1: DeprecationWarning: count is deprecated. Use estimated_document_count or count_documents instead. Please note that $where must be replaced by $expr, $near must be replaced by $geoWithin with $center, and $nearSphere must be replaced by $geoWithin with $centerSphere\n",
      "  \"\"\"Entry point for launching an IPython kernel.\n"
     ]
    },
    {
     "data": {
      "text/plain": [
       "1504"
      ]
     },
     "execution_count": 10,
     "metadata": {},
     "output_type": "execute_result"
    }
   ],
   "source": [
    "db.artists.count()"
   ]
  },
  {
   "cell_type": "code",
   "execution_count": 11,
   "metadata": {
    "collapsed": true
   },
   "outputs": [],
   "source": [
    "# use MERGE for unique\n",
    "\n",
    "#for artist in db.artists.find():\n",
    "#    graph.run(\"MERGE (artist:Artist {name:{name}, id:{id}}) RETURN artist\", name=artist['name'], id=artist['id'])"
   ]
  },
  {
   "cell_type": "code",
   "execution_count": 12,
   "metadata": {
    "collapsed": true
   },
   "outputs": [],
   "source": [
    "c = graph.run(\"MATCH (n:Artist) WHERE n.name = 'Miles Davis' RETURN n.id\")"
   ]
  },
  {
   "cell_type": "code",
   "execution_count": 13,
   "metadata": {},
   "outputs": [
    {
     "name": "stdout",
     "output_type": "stream",
     "text": [
      "<Record n.id='561d854a-6a28-4aa7-8c99-323e6ce46c2a'>\n"
     ]
    }
   ],
   "source": [
    "for i in c:\n",
    "    print(i)"
   ]
  },
  {
   "cell_type": "markdown",
   "metadata": {
    "collapsed": true
   },
   "source": [
    "```\n",
    "# set instruments for artists\n",
    "# create node for instruments and add 'plays' relationship\n",
    "\n",
    "run_merge = \"MERGE (instrument:Instrument {name: {name}}) RETURN instrument.name\"\n",
    "run_match = \"MATCH (a:Artist), (b:Instrument) WHERE a.id = {aid} AND b.name = {name} MERGE (a)-[r:PLAYS {name: a.name + '->' + b.name}]->(b)\"\n",
    "\n",
    "for r in db.releases.find():\n",
    "    if 'medium-list' in r:\n",
    "        media = r['medium-list']\n",
    "        for m in media:\n",
    "            if 'track-list' in m:\n",
    "                tracks = m['track-list']\n",
    "                for each in tracks:\n",
    "                    if 'recording' in each.keys():\n",
    "                        if 'artist-relation-list' in each['recording'].keys():\n",
    "                            artist_list = each['recording']['artist-relation-list']\n",
    "                            for a in artist_list:\n",
    "                                artist_id = a['artist']['id']\n",
    "                                if 'attribute-list' in a.keys():\n",
    "                                    instruments = a['attribute-list']\n",
    "                                    for inst in instruments:\n",
    "                                        graph.run(run_merge, name=inst)\n",
    "                                        graph.run(run_match, aid=artist_id, name=inst)\n",
    "```"
   ]
  },
  {
   "cell_type": "markdown",
   "metadata": {
    "collapsed": true
   },
   "source": [
    "## CRUD Operations\n",
    "\n",
    "The basic operations can be demonstrated in the Neo4j browser: [http://localhost:7474/browser/](http://localhost:7474/browser/).\n",
    "\n",
    "**Create**\n",
    "\n",
    "Neo4j's _Cypher_ query language provides a CREATE clause, but we use the MERGE statement to enforce uniqueness.\n",
    "\n",
    "```\n",
    "CREATE (artist:Artist {name: 'Billie Holiday', id: 'd59c4cda-11d9-48db-8bfe-b557ee602aed'}) RETURN artist\n",
    "\n",
    "MERGE (artist:Artist {name: 'Billie Holiday', id: 'd59c4cda-11d9-48db-8bfe-b557ee602aed'}) RETURN artist\n",
    "\n",
    "MERGE (instrument:Instrument {name: 'voice'}) RETURN instrument\n",
    "\n",
    "MATCH (a:Artist), (b:Instrument) WHERE a.name = 'Billie Holiday' AND b.name = 'voice' MERGE (a)-[r:PLAYS {name: a.name + '->' + b.name}]->(b)\"\n",
    "```\n",
    "\n",
    "**Retrieve**\n",
    "\n",
    "```\n",
    "MATCH (n) RETURN n LIMIT 100\n",
    "\n",
    "MATCH (n:Instrument) RETURN n LIMIT 100\n",
    "\n",
    "MATCH (:Artist { name: 'Billie Holiday' })--(instrument) RETURN instrument.name\n",
    "\n",
    "MATCH (:Artist { name: 'Ron Carter' })--(instrument) RETURN instrument.name\n",
    "```\n",
    "\n",
    "That last query in pseudo-SQL:\n",
    "\n",
    "```\n",
    "SELECT artist.name, instrument.name\n",
    "FROM artist\n",
    "INNER JOIN instrument ON artist.id = instrument.artist_id\n",
    "WHERE artist.name == 'Ron Carter'\n",
    "```\n",
    "\n",
    "Retrieve relationships:\n",
    "\n",
    "```\n",
    "MATCH (:Artist { name: 'Billie Holiday' })-[r]->(instrument) RETURN type(r)\n",
    "\n",
    "MATCH (:Artist { name: 'Ron Carter' })-[r]->(instrument) RETURN type(r)\n",
    "\n",
    "MATCH p=(:Artist { name: 'Billie Holiday' })-[r:PLAYS]->() RETURN p\n",
    "\n",
    "MATCH p=(:Artist { name: 'Ron Carter' })-[r:PLAYS]->() RETURN p\n",
    "\n",
    "MATCH p=()-[r:PLAYS]->(:Instrument { name: 'bass' }) RETURN p LIMIT 50\n",
    "```\n",
    "\n",
    "**Update**\n",
    "\n",
    "Add a property:\n",
    "\n",
    "```\n",
    "MATCH (n:Artist { name: 'Miles Davis' }) SET n.dbseed = TRUE RETURN n.name, n.dbseed\n",
    "\n",
    "then try\n",
    "\n",
    "MATCH (n:Artist { name: 'Miles Davis' }) RETURN n\n",
    "```\n",
    "\n",
    "Remove a property:\n",
    "\n",
    "```\n",
    "MATCH (n:Artist { name: 'Miles Davis' }) SET n.dbseed = NULL RETURN n.name\n",
    "```\n",
    "\n",
    "Note that there is also a REMOVE clause that provides similar functionality.\n",
    "\n",
    "**Delete**\n",
    "\n",
    "Deletes nodes, relationships, or paths.\n",
    "\n",
    "```\n",
    "MATCH (n:Artist { name: 'Romeo Penque' }) DELETE n\n",
    "\n",
    "MATCH (n:Artist { name: 'Romeo Penque' }) DETACH DELETE n\n",
    "\n",
    "MATCH (n:Artist { name: 'Frank Rehak' })-[r:PLAYS]->() DELETE r\n",
    "\n",
    "MATCH (n:Artist { name: 'Frank Rehak' }) DELETE n\n",
    "```\n",
    "\n",
    "**Remove**\n",
    "\n",
    "Removes properties and labels.\n",
    "\n",
    "```\n",
    "MATCH (n:Artist { name: 'Miles Davis' }) SET n.dbseed = TRUE RETURN n.name, n.dbseed\n",
    "\n",
    "MATCH (n:Artist { name: 'Miles Davis' }) REMOVE n.dbseed RETURN n.name\n",
    "```"
   ]
  },
  {
   "cell_type": "code",
   "execution_count": 14,
   "metadata": {
    "collapsed": true,
    "scrolled": false
   },
   "outputs": [],
   "source": [
    "rt = db.releases.find_one()"
   ]
  },
  {
   "cell_type": "code",
   "execution_count": 15,
   "metadata": {},
   "outputs": [
    {
     "data": {
      "text/plain": [
       "'1954'"
      ]
     },
     "execution_count": 15,
     "metadata": {},
     "output_type": "execute_result"
    }
   ],
   "source": [
    "rt['release-event-list'][0]['date']"
   ]
  },
  {
   "cell_type": "markdown",
   "metadata": {},
   "source": [
    "```\n",
    "# created 'played_for' and 'played_with' relationships\n",
    "# for each release\n",
    "#    - store credited_artist_id (c)\n",
    "#    - store artist_rel_ids (a)\n",
    "# if c == a then pass\n",
    "# for every a: a played_for -> c and a played_with -> other a\n",
    "'''\n",
    "play_for = \"MATCH (a:Artist), (b:Artist) WHERE a.id = {aid} AND b.id = {bid} MERGE (a)-[r:PLAYED_FOR {name: a.name + '<->' + b.name, date: {rdate}}]->(b)\"\n",
    "play_with = \"MATCH (a:Artist), (b:Artist) WHERE a.id = {aid} AND b.id = {bid} MERGE (a)-[r:PLAYED_WITH {name: a.name + '<->' + b.name, date: {rdate}}]->(b)\"\n",
    "\n",
    "count = 1\n",
    "\n",
    "for r in db.releases.find():\n",
    "    try:\n",
    "        bandmate_ids = []\n",
    "        bandleader = ''\n",
    "        release_year = ''\n",
    "        if 'artist-credit' in r:\n",
    "            bandleader = r['artist-credit'][0]['artist']['id']\n",
    "        if 'release-event-list' in r:\n",
    "            release_year = r['release-event-list'][0]['date']\n",
    "        if 'medium-list' in r:\n",
    "            media = r['medium-list']\n",
    "            for m in media:\n",
    "                if 'track-list' in m:\n",
    "                    tracks = m['track-list']\n",
    "                    for each in tracks:\n",
    "                        if 'recording' in each.keys():\n",
    "                            if 'artist-relation-list' in each['recording'].keys():\n",
    "                                artist_list = each['recording']['artist-relation-list']\n",
    "                                for a in artist_list:\n",
    "                                    if a['artist']['id'] == bandleader:\n",
    "                                        pass\n",
    "                                    else:\n",
    "                                        bandmate_ids.append(a['artist']['id'])\n",
    "        for musician in bandmate_ids:\n",
    "            graph.run(play_for, aid = musician, bid = bandleader, rdate = release_year)\n",
    "            for bandmates in bandmate_ids:\n",
    "                if bandmates == musician:\n",
    "                    pass\n",
    "                else:\n",
    "                    graph.run(play_with, aid = musician, bid = bandmates, rdate= release_year)\n",
    "    except Exception as e:\n",
    "        print(e)\n",
    "        pass\n",
    "'''\n",
    "```"
   ]
  },
  {
   "cell_type": "markdown",
   "metadata": {},
   "source": [
    "## Querying Paths\n",
    "\n",
    "Query relationships:\n",
    "\n",
    "```\n",
    "MATCH (a:Artist)-[:PLAYED_FOR_WHEN]-(bandleaders)\n",
    "WHERE a.name = \"Wayne Shorter\" \n",
    "RETURN a, bandleaders\n",
    "\n",
    "MATCH (a:Artist)-[:PLAYED_WITH]-(bandmates)\n",
    "WHERE a.name = \"Wayne Shorter\" \n",
    "RETURN a, bandmates\n",
    "\n",
    "MATCH (a:Artist)-[:PLAYED_FOR]->(bandleader1)-[:PLAYED_FOR]->(bandleader2)\n",
    "RETURN a.name, bandleader1.name, bandleader2.name\n",
    "\n",
    "MATCH (a:Artist)-[:PLAYED_WITH*..2]->(player)-[:PLAYS]->(i:Instrument)\n",
    "WHERE a.name = 'Miles Davis' AND i.name = 'piano'\n",
    "RETURN player.name\n",
    "```\n",
    "\n",
    "Query paths\n",
    "\n",
    "```\n",
    "MATCH p=(a:Artist)-[r:PLAYED_FOR_WHEN]->(bandleader1)-[s:PLAYED_FOR_WHEN]->(bandleader2)\n",
    "WHERE s.date = '1963'\n",
    "RETURN p LIMIT 5\n",
    "\n",
    "MATCH p=(a:Artist)-[r:PLAYED_FOR*..2]->()\n",
    "WHERE a.name = 'Herbie Hancock'\n",
    "RETURN p\n",
    "\n",
    "MATCH p=(a:Artist)-[r:PLAYED_FOR*..2]->(bandleader)\n",
    "WHERE a.name = 'Herbie Hancock'\n",
    "RETURN bandleader.name, p\n",
    "\n",
    "MATCH p=(a:Artist)-[:PLAYED_WITH*..2]->(player)-[:PLAYS]->(i:Instrument)\n",
    "WHERE a.name = 'Miles Davis' AND i.name = 'piano'\n",
    "RETURN p\n",
    "\n",
    "MATCH p=(a:Artist)-[:PLAYED_WITH*..2]->(player)-[:PLAYS]->(i:Instrument)\n",
    "WHERE a.name = 'Miles Davis' AND i.name = 'piano'\n",
    "RETURN p\n",
    "\n",
    "MATCH p=(a:Artist)-[:PLAYED_WITH*..2]->(b:Artist)-[:PLAYS]->(i:Instrument)\n",
    "WHERE a.name = 'Lee Konitz' AND b.name = 'Hank Jones' AND i.name = 'piano'\n",
    "RETURN p\n",
    "\n",
    "MATCH p = shortestPath((a:Artist)-[:PLAYED_WITH*..5]-(b:Artist))\n",
    "WHERE a.name = 'Lee Konitz' AND b.name = 'Hank Jones'\n",
    "RETURN p\n",
    "\n",
    "MATCH (a:Artist { name: 'Lee Konitz' }),(i:Instrument { name: 'piano' }), p = allShortestPaths((a)-[*]-(i))\n",
    "RETURN p\n",
    "\n",
    "\"Friend of a friend\"\n",
    "\n",
    "MATCH (a:Artist { name: 'Lee Konitz' }),(b:Artist{name: \"Herbie Hancock\"}), p = shortestPath((a)-[*]-(b))\n",
    "RETURN p\n",
    "\n",
    "MATCH (a:Artist { name: 'Lee Konitz' }),(b:Artist{name: \"Herbie Hancock\"}), p = shortestPath((a)-[*]->(b))\n",
    "RETURN p\n",
    "```"
   ]
  },
  {
   "cell_type": "code",
   "execution_count": null,
   "metadata": {
    "collapsed": true
   },
   "outputs": [],
   "source": []
  }
 ],
 "metadata": {
  "kernelspec": {
   "display_name": "Python 3",
   "language": "python",
   "name": "python3"
  },
  "language_info": {
   "codemirror_mode": {
    "name": "ipython",
    "version": 3
   },
   "file_extension": ".py",
   "mimetype": "text/x-python",
   "name": "python",
   "nbconvert_exporter": "python",
   "pygments_lexer": "ipython3",
   "version": "3.6.1"
  }
 },
 "nbformat": 4,
 "nbformat_minor": 2
}
