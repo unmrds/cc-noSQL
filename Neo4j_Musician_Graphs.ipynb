{
 "cells": [
  {
   "cell_type": "code",
   "execution_count": 1,
   "metadata": {},
   "outputs": [],
   "source": [
    "#!pip3 install neo4j-driver\n",
    "#!pip3 install py2neo\n",
    "#!pip3 install neo4j-driver===1.6.2"
   ]
  },
  {
   "cell_type": "code",
   "execution_count": 2,
   "metadata": {},
   "outputs": [],
   "source": [
    "from neo4j import *\n",
    "from py2neo import *\n",
    "from pymongo import MongoClient"
   ]
  },
  {
   "cell_type": "code",
   "execution_count": 3,
   "metadata": {},
   "outputs": [],
   "source": [
    "# http://localhost:7474\n",
    "# default password: neo4j\n",
    "# updated password: neo4j2\n",
    "\n",
    "# https://neo4j.com/docs/"
   ]
  },
  {
   "cell_type": "code",
   "execution_count": 4,
   "metadata": {},
   "outputs": [],
   "source": [
    "db = Database(\"http://localhost:7474/db/data/\", user=\"neo4j\", password=\"neo4j2\")"
   ]
  },
  {
   "cell_type": "code",
   "execution_count": 6,
   "metadata": {},
   "outputs": [],
   "source": [
    "from py2neo import Graph, Path\n",
    "graph = Graph(password=\"neo4j2\")"
   ]
  },
  {
   "cell_type": "code",
   "execution_count": 7,
   "metadata": {},
   "outputs": [],
   "source": [
    "client = MongoClient('localhost', 27017)"
   ]
  },
  {
   "cell_type": "code",
   "execution_count": 8,
   "metadata": {},
   "outputs": [],
   "source": [
    "db = client.jazz_catalog"
   ]
  },
  {
   "cell_type": "code",
   "execution_count": 9,
   "metadata": {},
   "outputs": [
    {
     "name": "stderr",
     "output_type": "stream",
     "text": [
      "/usr/lib/python3/dist-packages/ipykernel_launcher.py:1: DeprecationWarning: count is deprecated. Use estimated_document_count or count_documents instead. Please note that $where must be replaced by $expr, $near must be replaced by $geoWithin with $center, and $nearSphere must be replaced by $geoWithin with $centerSphere\n",
      "  \"\"\"Entry point for launching an IPython kernel.\n"
     ]
    },
    {
     "data": {
      "text/plain": [
       "1504"
      ]
     },
     "execution_count": 9,
     "metadata": {},
     "output_type": "execute_result"
    }
   ],
   "source": [
    "db.artists.count()"
   ]
  },
  {
   "cell_type": "code",
   "execution_count": 10,
   "metadata": {},
   "outputs": [],
   "source": [
    "# use MERGE for unique\n",
    "\n",
    "for artist in db.artists.find():\n",
    "    graph.run(\"MERGE (artist:Artist {name:{name}, id:{id}}) RETURN artist\", name=artist['name'], id=artist['id'])"
   ]
  },
  {
   "cell_type": "code",
   "execution_count": 11,
   "metadata": {},
   "outputs": [],
   "source": [
    "c = graph.run(\"MATCH (n:Artist) WHERE n.name = 'Miles Davis' RETURN n.id\")"
   ]
  },
  {
   "cell_type": "code",
   "execution_count": 12,
   "metadata": {},
   "outputs": [
    {
     "name": "stdout",
     "output_type": "stream",
     "text": [
      "<Record n.id='561d854a-6a28-4aa7-8c99-323e6ce46c2a'>\n"
     ]
    }
   ],
   "source": [
    "for i in c:\n",
    "    print(i)"
   ]
  },
  {
   "cell_type": "code",
   "execution_count": 13,
   "metadata": {},
   "outputs": [],
   "source": [
    "# set instruments for artists\n",
    "# create node for instruments and add 'plays' relationship\n",
    "\n",
    "run_merge = \"MERGE (instrument:Instrument {name: {name}}) RETURN instrument.name\"\n",
    "run_match = \"MATCH (a:Artist), (b:Instrument) WHERE a.id = {aid} AND b.name = {name} MERGE (a)-[r:PLAYS {name: a.name + '->' + b.name}]->(b)\"\n",
    "\n",
    "for r in db.releases.find():\n",
    "    if 'medium-list' in r:\n",
    "        media = r['medium-list']\n",
    "        for m in media:\n",
    "            if 'track-list' in m:\n",
    "                tracks = m['track-list']\n",
    "                for each in tracks:\n",
    "                    if 'recording' in each.keys():\n",
    "                        if 'artist-relation-list' in each['recording'].keys():\n",
    "                            artist_list = each['recording']['artist-relation-list']\n",
    "                            for a in artist_list:\n",
    "                                artist_id = a['artist']['id']\n",
    "                                if 'attribute-list' in a.keys():\n",
    "                                    instruments = a['attribute-list']\n",
    "                                    for inst in instruments:\n",
    "                                        graph.run(run_merge, name=inst)\n",
    "                                        graph.run(run_match, aid=artist_id, name=inst)\n"
   ]
  },
  {
   "cell_type": "markdown",
   "metadata": {
    "collapsed": true
   },
   "source": [
    "## CRUD Operations\n",
    "\n",
    "The basic operations can be demonstrated in the Neo4j browser: [http://localhost:7474/browser/](http://localhost:7474/browser/).\n",
    "\n",
    "**Create**\n",
    "\n",
    "Neo4j's _Cypher_ query language provides a CREATE clause, but we use the MERGE statement to enforce uniqueness.\n",
    "\n",
    "```\n",
    "CREATE (artist:Artist {name: 'Billie Holiday', id: 'd59c4cda-11d9-48db-8bfe-b557ee602aed'}) RETURN artist\n",
    "\n",
    "MERGE (artist:Artist {name: 'Billie Holiday', id: 'd59c4cda-11d9-48db-8bfe-b557ee602aed'}) RETURN artist\n",
    "\n",
    "MERGE (instrument:Instrument {name: 'voice'}) RETURN instrument\n",
    "\n",
    "MATCH (a:Artist), (b:Instrument) WHERE a.name = 'Billie Holiday' AND b.name = 'voice' MERGE (a)-[r:PLAYS {name: a.name + '->' + b.name}]->(b)\"\n",
    "```\n",
    "\n",
    "**Retrieve**\n",
    "\n",
    "```\n",
    "MATCH (n) RETURN n LIMIT 100\n",
    "\n",
    "MATCH (n:Instrument) RETURN n LIMIT 100\n",
    "\n",
    "MATCH (:Artist { name: 'Billie Holiday' })--(instrument) RETURN instrument.name\n",
    "\n",
    "MATCH (:Artist { name: 'Ron Carter' })--(instrument) RETURN instrument.name\n",
    "```\n",
    "\n",
    "That last query in pseudo-SQL:\n",
    "\n",
    "```\n",
    "SELECT artist.name, instrument.name\n",
    "FROM artist\n",
    "INNER JOIN instrument ON artist.id = instrument.artist_id\n",
    "WHERE artist.name == 'Ron Carter'\n",
    "```\n",
    "\n",
    "Retrieve relationships:\n",
    "\n",
    "```\n",
    "MATCH (:Artist { name: 'Billie Holiday' })-[r]->(instrument) RETURN type(r)\n",
    "\n",
    "MATCH (:Artist { name: 'Ron Carter' })-[r]->(instrument) RETURN type(r)\n",
    "\n",
    "MATCH p=(:Artist { name: 'Billie Holiday' })-[r:PLAYS]->() RETURN p\n",
    "\n",
    "MATCH p=(:Artist { name: 'Ron Carter' })-[r:PLAYS]->() RETURN p\n",
    "\n",
    "MATCH p=()-[r:PLAYS]->(:Instrument { name: 'bass' }) RETURN p LIMIT 50\n",
    "```\n",
    "\n",
    "**Update**\n",
    "\n",
    "Add a property:\n",
    "\n",
    "```\n",
    "MATCH (n:Artist { name: 'Miles Davis' }) SET n.dbseed = TRUE RETURN n.name, n.dbseed\n",
    "\n",
    "then try\n",
    "\n",
    "MATCH (n:Artist { name: 'Miles Davis' }) RETURN n\n",
    "```\n",
    "\n",
    "Remove a property:\n",
    "\n",
    "```\n",
    "MATCH (n:Artist { name: 'Miles Davis' }) SET n.dbseed = NULL RETURN n.name\n",
    "```\n",
    "\n",
    "Note that there is also a REMOVE clause that provides similar functionality.\n",
    "\n",
    "**Delete**\n",
    "\n",
    "Deletes nodes, relationships, or paths.\n",
    "\n",
    "```\n",
    "MATCH (n:Artist { name: 'Romeo Penque' }) DELETE n\n",
    "\n",
    "MATCH (n:Artist { name: 'Romeo Penque' }) DETACH DELETE n\n",
    "\n",
    "MATCH (n:Artist { name: 'Frank Rehak' })-[r:PLAYS]->() DELETE r\n",
    "\n",
    "MATCH (n:Artist { name: 'Frank Rehak' }) DELETE n\n",
    "```\n",
    "\n",
    "**Remove**\n",
    "\n",
    "Removes properties and labels.\n",
    "\n",
    "```\n",
    "MATCH (n:Artist { name: 'Miles Davis' }) SET n.dbseed = TRUE RETURN n.name, n.dbseed\n",
    "\n",
    "MATCH (n:Artist { name: 'Miles Davis' }) REMOVE n.dbseed RETURN n.name\n",
    "```"
   ]
  },
  {
   "cell_type": "code",
   "execution_count": 18,
   "metadata": {
    "scrolled": false
   },
   "outputs": [],
   "source": [
    "rt = db.releases.find_one()"
   ]
  },
  {
   "cell_type": "code",
   "execution_count": 19,
   "metadata": {},
   "outputs": [
    {
     "data": {
      "text/plain": [
       "'1954'"
      ]
     },
     "execution_count": 19,
     "metadata": {},
     "output_type": "execute_result"
    }
   ],
   "source": [
    "rt['release-event-list'][0]['date']"
   ]
  },
  {
   "cell_type": "code",
   "execution_count": 16,
   "metadata": {},
   "outputs": [
    {
     "data": {
      "text/plain": [
       "'\\nplay_for = \"MATCH (a:Artist), (b:Artist) WHERE a.id = {aid} AND b.id = {bid} MERGE (a)-[r:PLAYED_FOR {name: a.name + \\'->\\' + b.name}]->(b)\"\\nplay_with = \"MATCH (a:Artist), (b:Artist) WHERE a.id = {aid} AND b.id = {bid} MERGE (a)-[r:PLAYED_WITH {name: a.name + \\'->\\' + b.name}]->(b)\"\\n\\ncount = 1\\n\\nfor r in db.releases.find():\\n    try:\\n        bandmate_ids = []\\n        bandleader = \\'\\'\\n        if \\'artist-credit\\' in r:\\n            bandleader = r[\\'artist-credit\\'][0][\\'artist\\'][\\'id\\']\\n        if \\'medium-list\\' in r:\\n            media = r[\\'medium-list\\']\\n            for m in media:\\n                if \\'track-list\\' in m:\\n                    tracks = m[\\'track-list\\']\\n                    for each in tracks:\\n                        if \\'recording\\' in each.keys():\\n                            if \\'artist-relation-list\\' in each[\\'recording\\'].keys():\\n                                artist_list = each[\\'recording\\'][\\'artist-relation-list\\']\\n                                for a in artist_list:\\n                                    if a[\\'artist\\'][\\'id\\'] == bandleader:\\n                                        pass\\n                                    else:\\n                                        bandmate_ids.append(a[\\'artist\\'][\\'id\\'])\\n        for musician in bandmate_ids:\\n            graph.run(play_for, aid = musician, bid = bandleader)\\n            for bandmates in bandmate_ids:\\n                if bandmates == musician:\\n                    pass\\n                else:\\n                    graph.run(play_with, aid = musician, bid = bandmates)\\n    except Exception as e:\\n        print(e)\\n        pass\\n'"
      ]
     },
     "execution_count": 16,
     "metadata": {},
     "output_type": "execute_result"
    }
   ],
   "source": [
    "# created 'played_for' and 'played_with' relationships\n",
    "# for each release\n",
    "#    - store credited_artist_id (c)\n",
    "#    - store artist_rel_ids (a)\n",
    "# if c == a then pass\n",
    "# for every a: a played_for -> c and a played_with -> other a\n",
    "\n",
    "'''\n",
    "play_for = \"MATCH (a:Artist), (b:Artist) WHERE a.id = {aid} AND b.id = {bid} MERGE (a)-[r:PLAYED_FOR {name: a.name + '->' + b.name}]->(b)\"\n",
    "play_with = \"MATCH (a:Artist), (b:Artist) WHERE a.id = {aid} AND b.id = {bid} MERGE (a)-[r:PLAYED_WITH {name: a.name + '->' + b.name}]->(b)\"\n",
    "\n",
    "count = 1\n",
    "\n",
    "for r in db.releases.find():\n",
    "    try:\n",
    "        bandmate_ids = []\n",
    "        bandleader = ''\n",
    "        if 'artist-credit' in r:\n",
    "            bandleader = r['artist-credit'][0]['artist']['id']\n",
    "        if 'medium-list' in r:\n",
    "            media = r['medium-list']\n",
    "            for m in media:\n",
    "                if 'track-list' in m:\n",
    "                    tracks = m['track-list']\n",
    "                    for each in tracks:\n",
    "                        if 'recording' in each.keys():\n",
    "                            if 'artist-relation-list' in each['recording'].keys():\n",
    "                                artist_list = each['recording']['artist-relation-list']\n",
    "                                for a in artist_list:\n",
    "                                    if a['artist']['id'] == bandleader:\n",
    "                                        pass\n",
    "                                    else:\n",
    "                                        bandmate_ids.append(a['artist']['id'])\n",
    "        for musician in bandmate_ids:\n",
    "            graph.run(play_for, aid = musician, bid = bandleader)\n",
    "            for bandmates in bandmate_ids:\n",
    "                if bandmates == musician:\n",
    "                    pass\n",
    "                else:\n",
    "                    graph.run(play_with, aid = musician, bid = bandmates)\n",
    "    except Exception as e:\n",
    "        print(e)\n",
    "        pass\n",
    "'''"
   ]
  },
  {
   "cell_type": "code",
   "execution_count": 20,
   "metadata": {},
   "outputs": [
    {
     "ename": "CursorNotFound",
     "evalue": "cursor id 35732464418 not found",
     "output_type": "error",
     "traceback": [
      "\u001b[0;31m---------------------------------------------------------------------------\u001b[0m",
      "\u001b[0;31mCursorNotFound\u001b[0m                            Traceback (most recent call last)",
      "\u001b[0;32m<ipython-input-20-49ee9125a898>\u001b[0m in \u001b[0;36m<module>\u001b[0;34m\u001b[0m\n\u001b[1;32m     11\u001b[0m \u001b[0mcount\u001b[0m \u001b[0;34m=\u001b[0m \u001b[0;36m1\u001b[0m\u001b[0;34m\u001b[0m\u001b[0;34m\u001b[0m\u001b[0m\n\u001b[1;32m     12\u001b[0m \u001b[0;34m\u001b[0m\u001b[0m\n\u001b[0;32m---> 13\u001b[0;31m \u001b[0;32mfor\u001b[0m \u001b[0mr\u001b[0m \u001b[0;32min\u001b[0m \u001b[0mdb\u001b[0m\u001b[0;34m.\u001b[0m\u001b[0mreleases\u001b[0m\u001b[0;34m.\u001b[0m\u001b[0mfind\u001b[0m\u001b[0;34m(\u001b[0m\u001b[0;34m)\u001b[0m\u001b[0;34m:\u001b[0m\u001b[0;34m\u001b[0m\u001b[0;34m\u001b[0m\u001b[0m\n\u001b[0m\u001b[1;32m     14\u001b[0m     \u001b[0;32mtry\u001b[0m\u001b[0;34m:\u001b[0m\u001b[0;34m\u001b[0m\u001b[0;34m\u001b[0m\u001b[0m\n\u001b[1;32m     15\u001b[0m         \u001b[0mbandmate_ids\u001b[0m \u001b[0;34m=\u001b[0m \u001b[0;34m[\u001b[0m\u001b[0;34m]\u001b[0m\u001b[0;34m\u001b[0m\u001b[0;34m\u001b[0m\u001b[0m\n",
      "\u001b[0;32m~/.local/lib/python3.6/site-packages/pymongo/cursor.py\u001b[0m in \u001b[0;36mnext\u001b[0;34m(self)\u001b[0m\n\u001b[1;32m   1187\u001b[0m         \u001b[0;32mif\u001b[0m \u001b[0mself\u001b[0m\u001b[0;34m.\u001b[0m\u001b[0m__empty\u001b[0m\u001b[0;34m:\u001b[0m\u001b[0;34m\u001b[0m\u001b[0;34m\u001b[0m\u001b[0m\n\u001b[1;32m   1188\u001b[0m             \u001b[0;32mraise\u001b[0m \u001b[0mStopIteration\u001b[0m\u001b[0;34m\u001b[0m\u001b[0;34m\u001b[0m\u001b[0m\n\u001b[0;32m-> 1189\u001b[0;31m         \u001b[0;32mif\u001b[0m \u001b[0mlen\u001b[0m\u001b[0;34m(\u001b[0m\u001b[0mself\u001b[0m\u001b[0;34m.\u001b[0m\u001b[0m__data\u001b[0m\u001b[0;34m)\u001b[0m \u001b[0;32mor\u001b[0m \u001b[0mself\u001b[0m\u001b[0;34m.\u001b[0m\u001b[0m_refresh\u001b[0m\u001b[0;34m(\u001b[0m\u001b[0;34m)\u001b[0m\u001b[0;34m:\u001b[0m\u001b[0;34m\u001b[0m\u001b[0;34m\u001b[0m\u001b[0m\n\u001b[0m\u001b[1;32m   1190\u001b[0m             \u001b[0;32mif\u001b[0m \u001b[0mself\u001b[0m\u001b[0;34m.\u001b[0m\u001b[0m__manipulate\u001b[0m\u001b[0;34m:\u001b[0m\u001b[0;34m\u001b[0m\u001b[0;34m\u001b[0m\u001b[0m\n\u001b[1;32m   1191\u001b[0m                 \u001b[0m_db\u001b[0m \u001b[0;34m=\u001b[0m \u001b[0mself\u001b[0m\u001b[0;34m.\u001b[0m\u001b[0m__collection\u001b[0m\u001b[0;34m.\u001b[0m\u001b[0mdatabase\u001b[0m\u001b[0;34m\u001b[0m\u001b[0;34m\u001b[0m\u001b[0m\n",
      "\u001b[0;32m~/.local/lib/python3.6/site-packages/pymongo/cursor.py\u001b[0m in \u001b[0;36m_refresh\u001b[0;34m(self)\u001b[0m\n\u001b[1;32m   1124\u001b[0m                                         \u001b[0mself\u001b[0m\u001b[0;34m.\u001b[0m\u001b[0m__collection\u001b[0m\u001b[0;34m.\u001b[0m\u001b[0mdatabase\u001b[0m\u001b[0;34m.\u001b[0m\u001b[0mclient\u001b[0m\u001b[0;34m,\u001b[0m\u001b[0;34m\u001b[0m\u001b[0;34m\u001b[0m\u001b[0m\n\u001b[1;32m   1125\u001b[0m                                         self.__max_await_time_ms)\n\u001b[0;32m-> 1126\u001b[0;31m                 \u001b[0mself\u001b[0m\u001b[0;34m.\u001b[0m\u001b[0m__send_message\u001b[0m\u001b[0;34m(\u001b[0m\u001b[0mg\u001b[0m\u001b[0;34m)\u001b[0m\u001b[0;34m\u001b[0m\u001b[0;34m\u001b[0m\u001b[0m\n\u001b[0m\u001b[1;32m   1127\u001b[0m \u001b[0;34m\u001b[0m\u001b[0m\n\u001b[1;32m   1128\u001b[0m         \u001b[0;32mreturn\u001b[0m \u001b[0mlen\u001b[0m\u001b[0;34m(\u001b[0m\u001b[0mself\u001b[0m\u001b[0;34m.\u001b[0m\u001b[0m__data\u001b[0m\u001b[0;34m)\u001b[0m\u001b[0;34m\u001b[0m\u001b[0;34m\u001b[0m\u001b[0m\n",
      "\u001b[0;32m~/.local/lib/python3.6/site-packages/pymongo/cursor.py\u001b[0m in \u001b[0;36m__send_message\u001b[0;34m(self, operation)\u001b[0m\n\u001b[1;32m    980\u001b[0m                 \u001b[0mfirst\u001b[0m \u001b[0;34m=\u001b[0m \u001b[0mdocs\u001b[0m\u001b[0;34m[\u001b[0m\u001b[0;36m0\u001b[0m\u001b[0;34m]\u001b[0m\u001b[0;34m\u001b[0m\u001b[0;34m\u001b[0m\u001b[0m\n\u001b[1;32m    981\u001b[0m                 \u001b[0mclient\u001b[0m\u001b[0;34m.\u001b[0m\u001b[0m_receive_cluster_time\u001b[0m\u001b[0;34m(\u001b[0m\u001b[0mfirst\u001b[0m\u001b[0;34m,\u001b[0m \u001b[0mself\u001b[0m\u001b[0;34m.\u001b[0m\u001b[0m__session\u001b[0m\u001b[0;34m)\u001b[0m\u001b[0;34m\u001b[0m\u001b[0;34m\u001b[0m\u001b[0m\n\u001b[0;32m--> 982\u001b[0;31m                 \u001b[0mhelpers\u001b[0m\u001b[0;34m.\u001b[0m\u001b[0m_check_command_response\u001b[0m\u001b[0;34m(\u001b[0m\u001b[0mfirst\u001b[0m\u001b[0;34m)\u001b[0m\u001b[0;34m\u001b[0m\u001b[0;34m\u001b[0m\u001b[0m\n\u001b[0m\u001b[1;32m    983\u001b[0m         \u001b[0;32mexcept\u001b[0m \u001b[0mOperationFailure\u001b[0m \u001b[0;32mas\u001b[0m \u001b[0mexc\u001b[0m\u001b[0;34m:\u001b[0m\u001b[0;34m\u001b[0m\u001b[0;34m\u001b[0m\u001b[0m\n\u001b[1;32m    984\u001b[0m             \u001b[0mself\u001b[0m\u001b[0;34m.\u001b[0m\u001b[0m__killed\u001b[0m \u001b[0;34m=\u001b[0m \u001b[0;32mTrue\u001b[0m\u001b[0;34m\u001b[0m\u001b[0;34m\u001b[0m\u001b[0m\n",
      "\u001b[0;32m~/.local/lib/python3.6/site-packages/pymongo/helpers.py\u001b[0m in \u001b[0;36m_check_command_response\u001b[0;34m(response, msg, allowable_errors, parse_write_concern_error)\u001b[0m\n\u001b[1;32m    150\u001b[0m                 \u001b[0;32mraise\u001b[0m \u001b[0mExecutionTimeout\u001b[0m\u001b[0;34m(\u001b[0m\u001b[0merrmsg\u001b[0m\u001b[0;34m,\u001b[0m \u001b[0mcode\u001b[0m\u001b[0;34m,\u001b[0m \u001b[0mresponse\u001b[0m\u001b[0;34m)\u001b[0m\u001b[0;34m\u001b[0m\u001b[0;34m\u001b[0m\u001b[0m\n\u001b[1;32m    151\u001b[0m             \u001b[0;32melif\u001b[0m \u001b[0mcode\u001b[0m \u001b[0;34m==\u001b[0m \u001b[0;36m43\u001b[0m\u001b[0;34m:\u001b[0m\u001b[0;34m\u001b[0m\u001b[0;34m\u001b[0m\u001b[0m\n\u001b[0;32m--> 152\u001b[0;31m                 \u001b[0;32mraise\u001b[0m \u001b[0mCursorNotFound\u001b[0m\u001b[0;34m(\u001b[0m\u001b[0merrmsg\u001b[0m\u001b[0;34m,\u001b[0m \u001b[0mcode\u001b[0m\u001b[0;34m,\u001b[0m \u001b[0mresponse\u001b[0m\u001b[0;34m)\u001b[0m\u001b[0;34m\u001b[0m\u001b[0;34m\u001b[0m\u001b[0m\n\u001b[0m\u001b[1;32m    153\u001b[0m \u001b[0;34m\u001b[0m\u001b[0m\n\u001b[1;32m    154\u001b[0m             \u001b[0mmsg\u001b[0m \u001b[0;34m=\u001b[0m \u001b[0mmsg\u001b[0m \u001b[0;32mor\u001b[0m \u001b[0;34m\"%s\"\u001b[0m\u001b[0;34m\u001b[0m\u001b[0;34m\u001b[0m\u001b[0m\n",
      "\u001b[0;31mCursorNotFound\u001b[0m: cursor id 35732464418 not found"
     ]
    }
   ],
   "source": [
    "# created 'played_for' and 'played_with' relationships\n",
    "# for each release\n",
    "#    - store credited_artist_id (c)\n",
    "#    - store artist_rel_ids (a)\n",
    "# if c == a then pass\n",
    "# for every a: a played_for -> c and a played_with -> other a\n",
    "\n",
    "play_for = \"MATCH (a:Artist), (b:Artist) WHERE a.id = {aid} AND b.id = {bid} MERGE (a)-[r:PLAYED_FOR_WHEN {name: a.name + '<->' + b.name, date: {rdate}}]->(b)\"\n",
    "play_with = \"MATCH (a:Artist), (b:Artist) WHERE a.id = {aid} AND b.id = {bid} MERGE (a)-[r:PLAYED_WITH_WHEN {name: a.name + '<->' + b.name, date: {rdate}}]->(b)\"\n",
    "\n",
    "count = 1\n",
    "\n",
    "for r in db.releases.find():\n",
    "    try:\n",
    "        bandmate_ids = []\n",
    "        bandleader = ''\n",
    "        release_year = ''\n",
    "        if 'artist-credit' in r:\n",
    "            bandleader = r['artist-credit'][0]['artist']['id']\n",
    "        if 'release-event-list' in r:\n",
    "            release_year = r['release-event-list'][0]['date']\n",
    "        if 'medium-list' in r:\n",
    "            media = r['medium-list']\n",
    "            for m in media:\n",
    "                if 'track-list' in m:\n",
    "                    tracks = m['track-list']\n",
    "                    for each in tracks:\n",
    "                        if 'recording' in each.keys():\n",
    "                            if 'artist-relation-list' in each['recording'].keys():\n",
    "                                artist_list = each['recording']['artist-relation-list']\n",
    "                                for a in artist_list:\n",
    "                                    if a['artist']['id'] == bandleader:\n",
    "                                        pass\n",
    "                                    else:\n",
    "                                        bandmate_ids.append(a['artist']['id'])\n",
    "        for musician in bandmate_ids:\n",
    "            graph.run(play_for, aid = musician, bid = bandleader, rdate = release_year)\n",
    "            for bandmates in bandmate_ids:\n",
    "                if bandmates == musician:\n",
    "                    pass\n",
    "                else:\n",
    "                    graph.run(play_with, aid = musician, bid = bandmates, rdate= release_year)\n",
    "    except Exception as e:\n",
    "        print(e)\n",
    "        pass"
   ]
  },
  {
   "cell_type": "code",
   "execution_count": null,
   "metadata": {},
   "outputs": [],
   "source": []
  }
 ],
 "metadata": {
  "kernelspec": {
   "display_name": "Python 3",
   "language": "python",
   "name": "python3"
  },
  "language_info": {
   "codemirror_mode": {
    "name": "ipython",
    "version": 3
   },
   "file_extension": ".py",
   "mimetype": "text/x-python",
   "name": "python",
   "nbconvert_exporter": "python",
   "pygments_lexer": "ipython3",
   "version": "3.6.7"
  }
 },
 "nbformat": 4,
 "nbformat_minor": 2
}
