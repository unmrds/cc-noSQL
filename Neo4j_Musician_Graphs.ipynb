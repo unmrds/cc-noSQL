{
 "cells": [
  {
   "cell_type": "code",
   "execution_count": 26,
   "metadata": {
    "collapsed": true
   },
   "outputs": [],
   "source": [
    "#!pip3 install neo4j-driver\n",
    "#!pip3 install py2neo\n",
    "!pip3 install neo4j-driver===1.6.2"
   ]
  },
  {
   "cell_type": "code",
   "execution_count": 53,
   "metadata": {
    "collapsed": true
   },
   "outputs": [],
   "source": [
    "from neo4j import *\n",
    "from py2neo import *\n",
    "from pymongo import MongoClient"
   ]
  },
  {
   "cell_type": "code",
   "execution_count": 54,
   "metadata": {
    "collapsed": true
   },
   "outputs": [],
   "source": [
    "# http://localhost:7474\n",
    "# default password: neo4j\n",
    "# updated password: neo4j2\n",
    "\n",
    "# https://neo4j.com/docs/cypher-refcard/3.2/\n",
    "# https://neo4j.com/docs/cypher-manual/3.5/"
   ]
  },
  {
   "cell_type": "code",
   "execution_count": 55,
   "metadata": {
    "collapsed": true
   },
   "outputs": [],
   "source": [
    "db = Database(\"http://localhost:7474/db/data/\", user=\"neo4j\", password=\"neo4j2\")"
   ]
  },
  {
   "cell_type": "code",
   "execution_count": 56,
   "metadata": {
    "collapsed": true
   },
   "outputs": [],
   "source": [
    "from py2neo import Graph, Path\n",
    "graph = Graph(password=\"neo4j2\")"
   ]
  },
  {
   "cell_type": "code",
   "execution_count": 57,
   "metadata": {
    "collapsed": true
   },
   "outputs": [],
   "source": [
    "client = MongoClient('localhost', 27017)"
   ]
  },
  {
   "cell_type": "code",
   "execution_count": 58,
   "metadata": {
    "collapsed": true
   },
   "outputs": [],
   "source": [
    "db = client.jazz_catalog"
   ]
  },
  {
   "cell_type": "code",
   "execution_count": 59,
   "metadata": {},
   "outputs": [
    {
     "name": "stderr",
     "output_type": "stream",
     "text": [
      "/usr/lib/python3/dist-packages/ipykernel_launcher.py:1: DeprecationWarning: count is deprecated. Use estimated_document_count or count_documents instead. Please note that $where must be replaced by $expr, $near must be replaced by $geoWithin with $center, and $nearSphere must be replaced by $geoWithin with $centerSphere\n",
      "  \"\"\"Entry point for launching an IPython kernel.\n"
     ]
    },
    {
     "data": {
      "text/plain": [
       "1504"
      ]
     },
     "execution_count": 59,
     "metadata": {},
     "output_type": "execute_result"
    }
   ],
   "source": [
    "db.artists.count()"
   ]
  },
  {
   "cell_type": "code",
   "execution_count": 60,
   "metadata": {
    "collapsed": true
   },
   "outputs": [],
   "source": [
    "# use MERGE for unique\n",
    "\n",
    "for artist in db.artists.find():\n",
    "    graph.run(\"MERGE (artist:Artist {name:{name}, id:{id}}) RETURN artist\", name=artist['name'], id=artist['id'])"
   ]
  },
  {
   "cell_type": "code",
   "execution_count": 65,
   "metadata": {
    "collapsed": true
   },
   "outputs": [],
   "source": [
    "c = graph.run(\"MATCH (n:Artist) WHERE n.name = 'Miles Davis' RETURN n.id\")"
   ]
  },
  {
   "cell_type": "code",
   "execution_count": 66,
   "metadata": {},
   "outputs": [
    {
     "name": "stdout",
     "output_type": "stream",
     "text": [
      "<Record n.id='561d854a-6a28-4aa7-8c99-323e6ce46c2a'>\n"
     ]
    }
   ],
   "source": [
    "for i in c:\n",
    "    print(i)"
   ]
  },
  {
   "cell_type": "code",
   "execution_count": 63,
   "metadata": {
    "collapsed": true
   },
   "outputs": [],
   "source": [
    "# MERGE (instrument:Instrument {name: 'trumpet'}) RETURN instrument.name\n",
    "# MATCH (a:Artist),(b:Instrument) \n",
    "# WHERE a.name = 'Miles Davis' AND b.name = 'trumpet' MERGE (a)-[r:PLAYS { name: a.name + '->' + b.name }]->(b) RETURN type(r), r.name"
   ]
  },
  {
   "cell_type": "code",
   "execution_count": 64,
   "metadata": {
    "collapsed": true
   },
   "outputs": [],
   "source": [
    "# set instruments for artists\n",
    "# create node for instruments and add 'plays' relationship\n",
    "\n",
    "run_merge = \"MERGE (instrument:Instrument {name: {name}}) RETURN instrument.name\"\n",
    "run_match = \"MATCH (a:Artist), (b:Instrument) WHERE a.id = {aid} AND b.name = {name} MERGE (a)-[r:PLAYS {name: a.name + '->' + b.name}]->(b)\"\n",
    "\n",
    "for r in db.releases.find():\n",
    "    if 'medium-list' in r:\n",
    "        media = r['medium-list']\n",
    "        for m in media:\n",
    "            if 'track-list' in m:\n",
    "                tracks = m['track-list']\n",
    "                for each in tracks:\n",
    "                    if 'recording' in each.keys():\n",
    "                        if 'artist-relation-list' in each['recording'].keys():\n",
    "                            artist_list = each['recording']['artist-relation-list']\n",
    "                            for a in artist_list:\n",
    "                                artist_id = a['artist']['id']\n",
    "                                if 'attribute-list' in a.keys():\n",
    "                                    instruments = a['attribute-list']\n",
    "                                    for inst in instruments:\n",
    "                                        graph.run(run_merge, name=inst)\n",
    "                                        graph.run(run_match, aid=artist_id, name=inst)\n",
    "                                "
   ]
  },
  {
   "cell_type": "code",
   "execution_count": null,
   "metadata": {
    "collapsed": true
   },
   "outputs": [],
   "source": []
  }
 ],
 "metadata": {
  "kernelspec": {
   "display_name": "Python 3",
   "language": "python",
   "name": "python3"
  },
  "language_info": {
   "codemirror_mode": {
    "name": "ipython",
    "version": 3
   },
   "file_extension": ".py",
   "mimetype": "text/x-python",
   "name": "python",
   "nbconvert_exporter": "python",
   "pygments_lexer": "ipython3",
   "version": "3.6.1"
  }
 },
 "nbformat": 4,
 "nbformat_minor": 2
}
