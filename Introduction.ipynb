{
 "cells": [
  {
   "cell_type": "markdown",
   "metadata": {},
   "source": [
    "# NoSQL\n",
    "-----------------------------------------------------------------\n",
    "\n",
    "In previous sessions we have looked at use cases for relational database management systems, which predominantly make use of SQL. Today's session provides an overview of NoSQL databases. **NoSQL** can be understood to mean \"no SQL\" or, alternatively, \"not only SQL.\"\n",
    "\n",
    "Topics we will cover include:\n",
    "\n",
    "* Differences between SQL and NoSQL databases\n",
    "* Types of NoSQL databases and their use cases\n",
    "* Document database basics with MongoDB\n",
    "* Graph database basics with Neo4j\n",
    "\n",
    "## Resources\n",
    "\n",
    "Vaish, Gaurav. NoSQL Starter. Olton : Packt Publishing, 2013., 2013. http://libproxy.unm.edu/login?url=https://search.ebscohost.com/login.aspx?direct=true&db=cat06111a&AN=unm.EBC1142875&site=eds-live&scope=site.\n"
   ]
  },
  {
   "cell_type": "code",
   "execution_count": null,
   "metadata": {},
   "outputs": [],
   "source": []
  }
 ],
 "metadata": {
  "kernelspec": {
   "display_name": "Python 3",
   "language": "python",
   "name": "python3"
  },
  "language_info": {
   "codemirror_mode": {
    "name": "ipython",
    "version": 3
   },
   "file_extension": ".py",
   "mimetype": "text/x-python",
   "name": "python",
   "nbconvert_exporter": "python",
   "pygments_lexer": "ipython3",
   "version": "3.6.7"
  }
 },
 "nbformat": 4,
 "nbformat_minor": 2
}
