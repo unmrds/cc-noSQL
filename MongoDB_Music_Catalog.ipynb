{
 "cells": [
  {
   "cell_type": "markdown",
   "metadata": {},
   "source": [
    "# Building a Music Catalog with MongoDB\n",
    "--------------------------------------------------------------------------\n",
    "\n",
    "This tutorial makes use of the _Musicbrainz_ database: [https://musicbrainz.org/](https://musicbrainz.org/)"
   ]
  },
  {
   "cell_type": "code",
   "execution_count": 7,
   "metadata": {
    "collapsed": true
   },
   "outputs": [],
   "source": [
    "#!pip install musicbrainzngs\n",
    "#!pip install pymongo"
   ]
  },
  {
   "cell_type": "code",
   "execution_count": 1,
   "metadata": {
    "collapsed": true
   },
   "outputs": [],
   "source": [
    "import os\n",
    "import time\n",
    "import pprint\n",
    "import datetime\n",
    "from pymongo import MongoClient, IndexModel, ASCENDING, DESCENDING\n",
    "import musicbrainzngs\n",
    "from musicbrainzngs import *"
   ]
  },
  {
   "cell_type": "code",
   "execution_count": 2,
   "metadata": {
    "collapsed": true
   },
   "outputs": [],
   "source": [
    "# Config musicbrainz\n",
    "# https://musicbrainz.org/doc/Development/XML_Web_Service/Version_1\n",
    "\n",
    "# musicbrainzngs.set_useragent(app=\"coffeecode\", version=1, contact=None)"
   ]
  },
  {
   "cell_type": "code",
   "execution_count": 3,
   "metadata": {
    "collapsed": true
   },
   "outputs": [],
   "source": [
    "# Connect to MongoDB\n",
    "\n",
    "client = MongoClient('localhost', 27017)"
   ]
  },
  {
   "cell_type": "markdown",
   "metadata": {},
   "source": [
    "## CRUD Operations"
   ]
  },
  {
   "cell_type": "code",
   "execution_count": 4,
   "metadata": {
    "collapsed": true
   },
   "outputs": [],
   "source": [
    "# Create a database and add some documents\n",
    "\n",
    "db = client.crud"
   ]
  },
  {
   "cell_type": "code",
   "execution_count": 6,
   "metadata": {
    "collapsed": true
   },
   "outputs": [],
   "source": [
    "# Create a collection\n",
    "\n",
    "db.drop_collection('simple')\n",
    "simple = db.simpledocs"
   ]
  },
  {
   "cell_type": "code",
   "execution_count": 7,
   "metadata": {},
   "outputs": [
    {
     "data": {
      "text/plain": [
       "<pymongo.results.InsertOneResult at 0x7f0424388848>"
      ]
     },
     "execution_count": 7,
     "metadata": {},
     "output_type": "execute_result"
    }
   ],
   "source": [
    "# Create a document and insert/add into collection\n",
    "\n",
    "aDoc = {\"author\": \"Jon\", \"text\": \"A MongoDB demo\", \"tags\": [\"mongodb\", \"pymongo\"], \"date\": datetime.datetime.utcnow()}\n",
    "simple.insert_one(aDoc)"
   ]
  },
  {
   "cell_type": "code",
   "execution_count": 8,
   "metadata": {
    "collapsed": true
   },
   "outputs": [],
   "source": [
    "# Add many docs at once - notice they don't all have the same structure\n",
    "\n",
    "doc2 = {\"author\": \"Waldo\", \"text\": \"Where is everybody?\", \"friends\": [\"Hal\", \"Tammy\"], \"date\": datetime.datetime.utcnow()}\n",
    "doc3 = {\"org\": \"NASA\", \"text\": \"Where is everybody?\", \"tags\": [\"Fermi\", \"SETI\"], \"date\": datetime.datetime.utcnow()}\n",
    "doc4 = {\"author\": \"Hal\", \"worry\": \"Are you there?\", \"date\": datetime.datetime.utcnow()}\n",
    "\n",
    "posts = [doc2, doc3, doc4]\n",
    "\n",
    "result = simple.insert_many(posts)"
   ]
  },
  {
   "cell_type": "code",
   "execution_count": 9,
   "metadata": {},
   "outputs": [
    {
     "data": {
      "text/plain": [
       "[ObjectId('5c09cc68c9efcc2110f5cb6a'),\n",
       " ObjectId('5c09cc68c9efcc2110f5cb6b'),\n",
       " ObjectId('5c09cc68c9efcc2110f5cb6c')]"
      ]
     },
     "execution_count": 9,
     "metadata": {},
     "output_type": "execute_result"
    }
   ],
   "source": [
    "result.inserted_ids"
   ]
  },
  {
   "cell_type": "code",
   "execution_count": 10,
   "metadata": {},
   "outputs": [
    {
     "name": "stdout",
     "output_type": "stream",
     "text": [
      "{'_id': ObjectId('5c09cc64c9efcc2110f5cb69'),\n",
      " 'author': 'Jon',\n",
      " 'date': datetime.datetime(2018, 12, 7, 1, 27, 0, 486000),\n",
      " 'tags': ['mongodb', 'pymongo'],\n",
      " 'text': 'A MongoDB demo'}\n"
     ]
    }
   ],
   "source": [
    "# Retrieve using find_one() and find()\n",
    "\n",
    "findDoc = simple.find_one()\n",
    "pprint.pprint(findDoc)"
   ]
  },
  {
   "cell_type": "code",
   "execution_count": 11,
   "metadata": {},
   "outputs": [
    {
     "name": "stdout",
     "output_type": "stream",
     "text": [
      "{'_id': ObjectId('5c09cc64c9efcc2110f5cb69'),\n",
      " 'author': 'Jon',\n",
      " 'date': datetime.datetime(2018, 12, 7, 1, 27, 0, 486000),\n",
      " 'tags': ['mongodb', 'pymongo'],\n",
      " 'text': 'A MongoDB demo'}\n",
      "{'_id': ObjectId('5c09cc68c9efcc2110f5cb6a'),\n",
      " 'author': 'Waldo',\n",
      " 'date': datetime.datetime(2018, 12, 7, 1, 27, 4, 87000),\n",
      " 'friends': ['Hal', 'Tammy'],\n",
      " 'text': 'Where is everybody?'}\n",
      "{'_id': ObjectId('5c09cc68c9efcc2110f5cb6b'),\n",
      " 'date': datetime.datetime(2018, 12, 7, 1, 27, 4, 87000),\n",
      " 'org': 'NASA',\n",
      " 'tags': ['Fermi', 'SETI'],\n",
      " 'text': 'Where is everybody?'}\n",
      "{'_id': ObjectId('5c09cc68c9efcc2110f5cb6c'),\n",
      " 'author': 'Hal',\n",
      " 'date': datetime.datetime(2018, 12, 7, 1, 27, 4, 87000),\n",
      " 'worry': 'Are you there?'}\n"
     ]
    }
   ],
   "source": [
    "docs = simple.find()\n",
    "for d in docs:\n",
    "    pprint.pprint(d)"
   ]
  },
  {
   "cell_type": "code",
   "execution_count": 12,
   "metadata": {},
   "outputs": [
    {
     "name": "stdout",
     "output_type": "stream",
     "text": [
      "{'_id': ObjectId('5c09cc68c9efcc2110f5cb6c'),\n",
      " 'author': 'Hal',\n",
      " 'date': datetime.datetime(2018, 12, 7, 1, 27, 4, 87000),\n",
      " 'worry': 'Are you there?'}\n"
     ]
    }
   ],
   "source": [
    "findDoc = simple.find_one({\"author\": \"Hal\"})\n",
    "pprint.pprint(findDoc)"
   ]
  },
  {
   "cell_type": "code",
   "execution_count": 13,
   "metadata": {},
   "outputs": [
    {
     "name": "stdout",
     "output_type": "stream",
     "text": [
      "{'_id': ObjectId('5c09cc64c9efcc2110f5cb69'),\n",
      " 'author': 'Jon',\n",
      " 'date': datetime.datetime(2018, 12, 7, 1, 27, 0, 486000),\n",
      " 'tags': ['mongodb', 'pymongo'],\n",
      " 'text': 'A MongoDB demo'}\n",
      "{'_id': ObjectId('5c09cc68c9efcc2110f5cb6b'),\n",
      " 'date': datetime.datetime(2018, 12, 7, 1, 27, 4, 87000),\n",
      " 'org': 'NASA',\n",
      " 'tags': ['Fermi', 'SETI'],\n",
      " 'text': 'Where is everybody?'}\n"
     ]
    }
   ],
   "source": [
    "docs = simple.find({\"tags\": {\"$exists\": 'True'}})\n",
    "for d in docs:\n",
    "    pprint.pprint(d)"
   ]
  },
  {
   "cell_type": "code",
   "execution_count": 14,
   "metadata": {
    "collapsed": true
   },
   "outputs": [],
   "source": [
    "# Update\n",
    "\n",
    "update = simple.update_one({\"author\": \"Jon\"}, {'$set': {'author': 'Hal'}})"
   ]
  },
  {
   "cell_type": "code",
   "execution_count": 15,
   "metadata": {
    "collapsed": true
   },
   "outputs": [],
   "source": [
    "update = simple.update_many({\"author\": \"Hal\"}, { '$addToSet': { 'tags': 'worried'} })"
   ]
  },
  {
   "cell_type": "code",
   "execution_count": 16,
   "metadata": {},
   "outputs": [
    {
     "name": "stdout",
     "output_type": "stream",
     "text": [
      "{'_id': ObjectId('5c09cc64c9efcc2110f5cb69'),\n",
      " 'author': 'Hal',\n",
      " 'date': datetime.datetime(2018, 12, 7, 1, 27, 0, 486000),\n",
      " 'tags': ['mongodb', 'pymongo', 'worried'],\n",
      " 'text': 'A MongoDB demo'}\n",
      "{'_id': ObjectId('5c09cc68c9efcc2110f5cb6a'),\n",
      " 'author': 'Waldo',\n",
      " 'date': datetime.datetime(2018, 12, 7, 1, 27, 4, 87000),\n",
      " 'friends': ['Hal', 'Tammy'],\n",
      " 'text': 'Where is everybody?'}\n",
      "{'_id': ObjectId('5c09cc68c9efcc2110f5cb6b'),\n",
      " 'date': datetime.datetime(2018, 12, 7, 1, 27, 4, 87000),\n",
      " 'org': 'NASA',\n",
      " 'tags': ['Fermi', 'SETI'],\n",
      " 'text': 'Where is everybody?'}\n",
      "{'_id': ObjectId('5c09cc68c9efcc2110f5cb6c'),\n",
      " 'author': 'Hal',\n",
      " 'date': datetime.datetime(2018, 12, 7, 1, 27, 4, 87000),\n",
      " 'tags': ['worried'],\n",
      " 'worry': 'Are you there?'}\n"
     ]
    }
   ],
   "source": [
    "docs = simple.find()\n",
    "for d in docs:\n",
    "    pprint.pprint(d)"
   ]
  },
  {
   "cell_type": "code",
   "execution_count": 17,
   "metadata": {
    "collapsed": true
   },
   "outputs": [],
   "source": [
    "# Delete\n",
    "\n",
    "delete = simple.delete_one({'tags': 'Fermi'})"
   ]
  },
  {
   "cell_type": "code",
   "execution_count": 18,
   "metadata": {},
   "outputs": [
    {
     "name": "stdout",
     "output_type": "stream",
     "text": [
      "{'_id': ObjectId('5c09cc64c9efcc2110f5cb69'),\n",
      " 'author': 'Hal',\n",
      " 'date': datetime.datetime(2018, 12, 7, 1, 27, 0, 486000),\n",
      " 'tags': ['mongodb', 'pymongo', 'worried'],\n",
      " 'text': 'A MongoDB demo'}\n",
      "{'_id': ObjectId('5c09cc68c9efcc2110f5cb6a'),\n",
      " 'author': 'Waldo',\n",
      " 'date': datetime.datetime(2018, 12, 7, 1, 27, 4, 87000),\n",
      " 'friends': ['Hal', 'Tammy'],\n",
      " 'text': 'Where is everybody?'}\n",
      "{'_id': ObjectId('5c09cc68c9efcc2110f5cb6c'),\n",
      " 'author': 'Hal',\n",
      " 'date': datetime.datetime(2018, 12, 7, 1, 27, 4, 87000),\n",
      " 'tags': ['worried'],\n",
      " 'worry': 'Are you there?'}\n"
     ]
    }
   ],
   "source": [
    "docs = simple.find()\n",
    "for d in docs:\n",
    "    pprint.pprint(d)"
   ]
  },
  {
   "cell_type": "code",
   "execution_count": 19,
   "metadata": {
    "collapsed": true
   },
   "outputs": [],
   "source": [
    "delete = simple.delete_many({'author': 'Hal'})"
   ]
  },
  {
   "cell_type": "code",
   "execution_count": 20,
   "metadata": {},
   "outputs": [
    {
     "name": "stdout",
     "output_type": "stream",
     "text": [
      "{'_id': ObjectId('5c09cc68c9efcc2110f5cb6a'),\n",
      " 'author': 'Waldo',\n",
      " 'date': datetime.datetime(2018, 12, 7, 1, 27, 4, 87000),\n",
      " 'friends': ['Hal', 'Tammy'],\n",
      " 'text': 'Where is everybody?'}\n"
     ]
    }
   ],
   "source": [
    "docs = simple.find()\n",
    "for d in docs:\n",
    "    pprint.pprint(d)"
   ]
  },
  {
   "cell_type": "code",
   "execution_count": 21,
   "metadata": {},
   "outputs": [
    {
     "data": {
      "text/plain": [
       "{'ok': 0.0,\n",
       " 'errmsg': 'ns not found',\n",
       " 'code': 26,\n",
       " 'codeName': 'NamespaceNotFound'}"
      ]
     },
     "execution_count": 21,
     "metadata": {},
     "output_type": "execute_result"
    }
   ],
   "source": [
    "db.drop_collection('simple')"
   ]
  },
  {
   "cell_type": "code",
   "execution_count": 22,
   "metadata": {},
   "outputs": [
    {
     "name": "stderr",
     "output_type": "stream",
     "text": [
      "/usr/lib/python3/dist-packages/ipykernel_launcher.py:1: DeprecationWarning: database_names is deprecated. Use list_database_names instead.\n",
      "  \"\"\"Entry point for launching an IPython kernel.\n"
     ]
    },
    {
     "data": {
      "text/plain": [
       "['admin', 'config', 'crud', 'jazz_catalog', 'local']"
      ]
     },
     "execution_count": 22,
     "metadata": {},
     "output_type": "execute_result"
    }
   ],
   "source": [
    "client.database_names()"
   ]
  },
  {
   "cell_type": "code",
   "execution_count": 23,
   "metadata": {
    "collapsed": true
   },
   "outputs": [],
   "source": [
    "client.drop_database('crud')"
   ]
  },
  {
   "cell_type": "code",
   "execution_count": 24,
   "metadata": {},
   "outputs": [
    {
     "name": "stderr",
     "output_type": "stream",
     "text": [
      "/usr/lib/python3/dist-packages/ipykernel_launcher.py:1: DeprecationWarning: database_names is deprecated. Use list_database_names instead.\n",
      "  \"\"\"Entry point for launching an IPython kernel.\n"
     ]
    },
    {
     "data": {
      "text/plain": [
       "['admin', 'config', 'jazz_catalog', 'local']"
      ]
     },
     "execution_count": 24,
     "metadata": {},
     "output_type": "execute_result"
    }
   ],
   "source": [
    "client.database_names()"
   ]
  },
  {
   "cell_type": "code",
   "execution_count": 25,
   "metadata": {
    "collapsed": true
   },
   "outputs": [],
   "source": [
    "# Create db\n",
    "\n",
    "db = client.jazz_catalog"
   ]
  },
  {
   "cell_type": "code",
   "execution_count": 51,
   "metadata": {
    "collapsed": true
   },
   "outputs": [],
   "source": [
    "\n",
    "# Create three collections\n",
    "# Note that due to network limitations we will use only a subset of available Musicbrainz metadata\n",
    "\n",
    "#db.drop_collection('artists')\n",
    "artists = db.artists\n",
    "\n",
    "#db.drop_collection('releases')\n",
    "releases = db.releases\n"
   ]
  },
  {
   "cell_type": "markdown",
   "metadata": {
    "collapsed": true
   },
   "source": [
    "```\n",
    "# search for an artist\n",
    "\n",
    "seedArtist = musicbrainzngs.search_artists(\"miles davis\")\n",
    "```"
   ]
  },
  {
   "cell_type": "code",
   "execution_count": 26,
   "metadata": {
    "collapsed": true
   },
   "outputs": [],
   "source": [
    "#for artist in seedArtist['artist-list']:\n",
    "#    print(\"{name}, {id}\".format(name=artist['name'], id=artist['id']))"
   ]
  },
  {
   "cell_type": "markdown",
   "metadata": {},
   "source": [
    "```\n",
    "# Create indexes for mongodb collections\n",
    "# on ID field, enforce uniqueness constraint\n",
    "\n",
    "db.artists.create_index('id', name='artist_id', unique=True)\n",
    "db.releases.create_index('id', name='release_id', unique=True)\n",
    "```"
   ]
  },
  {
   "cell_type": "code",
   "execution_count": 16,
   "metadata": {},
   "outputs": [
    {
     "name": "stdout",
     "output_type": "stream",
     "text": [
      "{'artist': {'area': {'id': '489ce91b-6658-3307-9877-795b68554c98',\n",
      "                     'iso-3166-1-code-list': ['US'],\n",
      "                     'name': 'United States',\n",
      "                     'sort-name': 'United States'},\n",
      "            'begin-area': {'id': '39e1719e-2604-4b59-b698-dab7caf85b33',\n",
      "                           'name': 'Alton',\n",
      "                           'sort-name': 'Alton'},\n",
      "            'country': 'US',\n",
      "            'disambiguation': 'jazz trumpeter, bandleader, songwriter',\n",
      "            'end-area': {'id': 'dbacf2e3-7e3e-4cee-8804-999b109285fa',\n",
      "                         'name': 'Santa Monica',\n",
      "                         'sort-name': 'Santa Monica'},\n",
      "            'gender': 'Male',\n",
      "            'id': '561d854a-6a28-4aa7-8c99-323e6ce46c2a',\n",
      "            'ipi': '00007619785',\n",
      "            'ipi-list': ['00007619785'],\n",
      "            'isni-list': ['000000012144707X'],\n",
      "            'life-span': {'begin': '1926-05-26',\n",
      "                          'end': '1991-09-28',\n",
      "                          'ended': 'true'},\n",
      "            'name': 'Miles Davis',\n",
      "            'sort-name': 'Davis, Miles',\n",
      "            'type': 'Person'}}\n",
      "{'artist': {'area': {'id': '489ce91b-6658-3307-9877-795b68554c98',\n",
      "                     'iso-3166-1-code-list': ['US'],\n",
      "                     'name': 'United States',\n",
      "                     'sort-name': 'United States'},\n",
      "            'begin-area': {'id': '489ce91b-6658-3307-9877-795b68554c98',\n",
      "                           'iso-3166-1-code-list': ['US'],\n",
      "                           'name': 'United States',\n",
      "                           'sort-name': 'United States'},\n",
      "            'country': 'US',\n",
      "            'disambiguation': 'US jazz group 1955-58, and 1964-68',\n",
      "            'end-area': {'id': '489ce91b-6658-3307-9877-795b68554c98',\n",
      "                         'iso-3166-1-code-list': ['US'],\n",
      "                         'name': 'United States',\n",
      "                         'sort-name': 'United States'},\n",
      "            'id': 'fe7245e7-d734-4ca1-8e26-691883f58201',\n",
      "            'isni-list': ['0000000110083450'],\n",
      "            'life-span': {'begin': '1955', 'end': '1968', 'ended': 'true'},\n",
      "            'name': 'Miles Davis Quintet',\n",
      "            'sort-name': 'Davis, Miles, Quintet',\n",
      "            'type': 'Group'}}\n"
     ]
    }
   ],
   "source": [
    "# Get artist info for top two\n",
    "# Insert into db.artists\n",
    "\n",
    "#for artist in seedArtist['artist-list'][:2]:\n",
    "#    mbid = artist['id']\n",
    "#    artist_info = musicbrainzngs.get_artist_by_id(mbid)\n",
    "#    pprint.pprint(artist_info)"
   ]
  },
  {
   "cell_type": "markdown",
   "metadata": {
    "collapsed": true
   },
   "source": [
    "```\n",
    "for artist in seedArtist['artist-list'][:2]:\n",
    "    mbid = artist['id']\n",
    "    artist_info = musicbrainzngs.get_artist_by_id(mbid)\n",
    "    artists.insert_one(artist_info['artist'])\n",
    "```"
   ]
  },
  {
   "cell_type": "code",
   "execution_count": 29,
   "metadata": {
    "collapsed": true
   },
   "outputs": [],
   "source": [
    "# Try again to check uniqueness constraint\n",
    "\n",
    "#for artist in seedArtist['artist-list'][:2]:\n",
    "#    mbid = artist['id']\n",
    "#    artist_info = musicbrainzngs.get_artist_by_id(mbid)\n",
    "#    try:\n",
    "#        artists.insert_one(artist_info['artist'])\n",
    "#    except Exception as e:\n",
    "#        print(e)"
   ]
  },
  {
   "cell_type": "code",
   "execution_count": 30,
   "metadata": {},
   "outputs": [
    {
     "name": "stderr",
     "output_type": "stream",
     "text": [
      "/usr/lib/python3/dist-packages/ipykernel_launcher.py:1: DeprecationWarning: count is deprecated. Use estimated_document_count or count_documents instead. Please note that $where must be replaced by $expr, $near must be replaced by $geoWithin with $center, and $nearSphere must be replaced by $geoWithin with $centerSphere\n",
      "  \"\"\"Entry point for launching an IPython kernel.\n"
     ]
    },
    {
     "data": {
      "text/plain": [
       "1504"
      ]
     },
     "execution_count": 30,
     "metadata": {},
     "output_type": "execute_result"
    }
   ],
   "source": [
    "db.artists.count()"
   ]
  },
  {
   "cell_type": "code",
   "execution_count": 20,
   "metadata": {},
   "outputs": [
    {
     "name": "stdout",
     "output_type": "stream",
     "text": [
      "{'_id': ObjectId('5c086ce6c9efcc1303986738'),\n",
      " 'area': {'id': '489ce91b-6658-3307-9877-795b68554c98',\n",
      "          'iso-3166-1-code-list': ['US'],\n",
      "          'name': 'United States',\n",
      "          'sort-name': 'United States'},\n",
      " 'begin-area': {'id': '39e1719e-2604-4b59-b698-dab7caf85b33',\n",
      "                'name': 'Alton',\n",
      "                'sort-name': 'Alton'},\n",
      " 'country': 'US',\n",
      " 'disambiguation': 'jazz trumpeter, bandleader, songwriter',\n",
      " 'end-area': {'id': 'dbacf2e3-7e3e-4cee-8804-999b109285fa',\n",
      "              'name': 'Santa Monica',\n",
      "              'sort-name': 'Santa Monica'},\n",
      " 'gender': 'Male',\n",
      " 'id': '561d854a-6a28-4aa7-8c99-323e6ce46c2a',\n",
      " 'ipi': '00007619785',\n",
      " 'ipi-list': ['00007619785'],\n",
      " 'isni-list': ['000000012144707X'],\n",
      " 'life-span': {'begin': '1926-05-26', 'end': '1991-09-28', 'ended': 'true'},\n",
      " 'name': 'Miles Davis',\n",
      " 'sort-name': 'Davis, Miles',\n",
      " 'type': 'Person'}\n",
      "{'_id': ObjectId('5c086ce7c9efcc1303986739'),\n",
      " 'area': {'id': '489ce91b-6658-3307-9877-795b68554c98',\n",
      "          'iso-3166-1-code-list': ['US'],\n",
      "          'name': 'United States',\n",
      "          'sort-name': 'United States'},\n",
      " 'begin-area': {'id': '489ce91b-6658-3307-9877-795b68554c98',\n",
      "                'iso-3166-1-code-list': ['US'],\n",
      "                'name': 'United States',\n",
      "                'sort-name': 'United States'},\n",
      " 'country': 'US',\n",
      " 'disambiguation': 'US jazz group 1955-58, and 1964-68',\n",
      " 'end-area': {'id': '489ce91b-6658-3307-9877-795b68554c98',\n",
      "              'iso-3166-1-code-list': ['US'],\n",
      "              'name': 'United States',\n",
      "              'sort-name': 'United States'},\n",
      " 'id': 'fe7245e7-d734-4ca1-8e26-691883f58201',\n",
      " 'isni-list': ['0000000110083450'],\n",
      " 'life-span': {'begin': '1955', 'end': '1968', 'ended': 'true'},\n",
      " 'name': 'Miles Davis Quintet',\n",
      " 'sort-name': 'Davis, Miles, Quintet',\n",
      " 'type': 'Group'}\n"
     ]
    }
   ],
   "source": [
    "#for a in artists.find():\n",
    "#    pprint.pprint(a)"
   ]
  },
  {
   "cell_type": "markdown",
   "metadata": {
    "collapsed": true
   },
   "source": [
    "```\n",
    "# Get the first set of releases with 'Official' status\n",
    "# (keep result sets to default 25 to minimize network impact)\n",
    "# Make a second call for complete track info and\n",
    "# Insert response into mongodb releases collection\n",
    "\n",
    "# ADD BACK 'artist-credits' include\n",
    "\n",
    "for a in artists.find():\n",
    "    artist_id = a['id']\n",
    "    release_search = musicbrainzngs.get_artist_by_id(artist_id, includes=['releases',  'release-rels', 'label-rels'])\n",
    "    release_list = release_search['artist']['release-list']\n",
    "    for r in release_list:\n",
    "        if 'status' in r.keys():\n",
    "            if r['status'] == \"Official\":\n",
    "                release_id = r['id']\n",
    "                release_info = musicbrainzngs.get_release_by_id(release_id,\n",
    "                                                                includes=['artist-credits', 'recordings',\n",
    "                                                                          'recording-level-rels', 'artist-rels'])\n",
    "                try:\n",
    "                    releases.insert_one(release_info['release'])\n",
    "                except Exception as e:\n",
    "                    print(e)\n",
    "```"
   ]
  },
  {
   "cell_type": "code",
   "execution_count": 31,
   "metadata": {},
   "outputs": [
    {
     "name": "stderr",
     "output_type": "stream",
     "text": [
      "/usr/lib/python3/dist-packages/ipykernel_launcher.py:1: DeprecationWarning: count is deprecated. Use estimated_document_count or count_documents instead. Please note that $where must be replaced by $expr, $near must be replaced by $geoWithin with $center, and $nearSphere must be replaced by $geoWithin with $centerSphere\n",
      "  \"\"\"Entry point for launching an IPython kernel.\n"
     ]
    },
    {
     "data": {
      "text/plain": [
       "889"
      ]
     },
     "execution_count": 31,
     "metadata": {},
     "output_type": "execute_result"
    }
   ],
   "source": [
    "db.releases.count()"
   ]
  },
  {
   "cell_type": "markdown",
   "metadata": {
    "collapsed": true
   },
   "source": [
    "```\n",
    "# so now get all artists info for all tracks on all releases\n",
    "\n",
    "artist_ids = set()\n",
    "artist_count = 0\n",
    "\n",
    "for r in releases.find():\n",
    "    if 'medium-list' in r:\n",
    "        media = r['medium-list']\n",
    "        for m in media:\n",
    "            if 'track-list' in m:\n",
    "                tracks = m['track-list']\n",
    "                for each in tracks:\n",
    "                    if 'recording' in each.keys():\n",
    "                        if 'artist-relation-list' in each['recording'].keys():\n",
    "                            artist_list = each['recording']['artist-relation-list']\n",
    "                            for a in artist_list:\n",
    "                                artist_count += 1\n",
    "                                artist_id = a['artist']['id']\n",
    "                                artist_ids.add(artist_id)\n",
    "```"
   ]
  },
  {
   "cell_type": "code",
   "execution_count": 33,
   "metadata": {
    "collapsed": true
   },
   "outputs": [],
   "source": [
    "#artist_count"
   ]
  },
  {
   "cell_type": "code",
   "execution_count": 35,
   "metadata": {
    "collapsed": true
   },
   "outputs": [],
   "source": [
    "#len(artist_ids)"
   ]
  },
  {
   "cell_type": "code",
   "execution_count": 36,
   "metadata": {
    "collapsed": true
   },
   "outputs": [],
   "source": [
    "#current_artist_ids = set(artists.distinct('id'))\n",
    "#new_artist_search_ids = artist_ids - current_artist_ids"
   ]
  },
  {
   "cell_type": "code",
   "execution_count": 37,
   "metadata": {
    "collapsed": true
   },
   "outputs": [],
   "source": [
    "#len(new_artist_search_ids)"
   ]
  },
  {
   "cell_type": "markdown",
   "metadata": {
    "collapsed": true
   },
   "source": [
    "```\n",
    "for a_id in list(new_artist_search_ids):\n",
    "    artist_info = musicbrainzngs.get_artist_by_id(a_id)\n",
    "    try:\n",
    "        artists.insert_one(artist_info['artist'])\n",
    "    except Exception as e:\n",
    "        print(e)\n",
    "```"
   ]
  },
  {
   "cell_type": "code",
   "execution_count": 39,
   "metadata": {
    "collapsed": true
   },
   "outputs": [],
   "source": [
    "#artists.count()"
   ]
  },
  {
   "cell_type": "markdown",
   "metadata": {},
   "source": [
    "```\n",
    "# now redo release search for all new artists - there may be some duplicates\n",
    "\n",
    "# Get the first set of releases with 'Official' status\n",
    "# (keep result sets to default 25 to minimize network impact)\n",
    "# Make a second call for complete track info and\n",
    "# Insert response into mongodb releases collection\n",
    "\n",
    "for a_id in list(new_artist_search_ids):\n",
    "    release_search = musicbrainzngs.get_artist_by_id(a_id, includes=['releases',  'release-rels', 'label-rels'])\n",
    "    release_list = release_search['artist']['release-list']\n",
    "    for r in release_list:\n",
    "        if 'status' in r.keys():\n",
    "            if r['status'] == \"Official\":\n",
    "                release_id = r['id']\n",
    "                release_info = musicbrainzngs.get_release_by_id(release_id,\n",
    "                                                                includes=['artist-credits', 'recordings', \n",
    "                                                                          'recording-level-rels', 'artist-rels'])\n",
    "                try:\n",
    "                    releases.insert_one(release_info['release'])\n",
    "                except Exception as e:\n",
    "                    print(e)\n",
    "```"
   ]
  },
  {
   "cell_type": "code",
   "execution_count": 40,
   "metadata": {},
   "outputs": [
    {
     "name": "stderr",
     "output_type": "stream",
     "text": [
      "/usr/lib/python3/dist-packages/ipykernel_launcher.py:1: DeprecationWarning: count is deprecated. Use estimated_document_count or count_documents instead. Please note that $where must be replaced by $expr, $near must be replaced by $geoWithin with $center, and $nearSphere must be replaced by $geoWithin with $centerSphere\n",
      "  \"\"\"Entry point for launching an IPython kernel.\n"
     ]
    },
    {
     "data": {
      "text/plain": [
       "889"
      ]
     },
     "execution_count": 40,
     "metadata": {},
     "output_type": "execute_result"
    }
   ],
   "source": [
    "db.releases.count()"
   ]
  },
  {
   "cell_type": "code",
   "execution_count": 42,
   "metadata": {
    "collapsed": true
   },
   "outputs": [],
   "source": [
    "a_release = db.releases.find_one()"
   ]
  },
  {
   "cell_type": "code",
   "execution_count": 83,
   "metadata": {
    "scrolled": true
   },
   "outputs": [
    {
     "name": "stdout",
     "output_type": "stream",
     "text": [
      "{'_id': ObjectId('5c086cebc9efcc130398673c'),\n",
      " 'artist-credit': [{'artist': {'disambiguation': 'jazz trumpeter, bandleader, '\n",
      "                                                 'songwriter',\n",
      "                               'id': '561d854a-6a28-4aa7-8c99-323e6ce46c2a',\n",
      "                               'name': 'Miles Davis',\n",
      "                               'sort-name': 'Davis, Miles'}}],\n",
      " 'artist-credit-phrase': 'Miles Davis',\n",
      " 'country': 'US',\n",
      " 'cover-art-archive': {'artwork': 'true',\n",
      "                       'back': 'false',\n",
      "                       'count': '1',\n",
      "                       'front': 'true'},\n",
      " 'date': '1954',\n",
      " 'id': '16ed7b47-e00c-499d-8866-65e660f4c78f',\n",
      " 'medium-count': 1,\n",
      " 'medium-list': [{'format': '12\" Vinyl',\n",
      "                  'position': '1',\n",
      "                  'track-count': 6,\n",
      "                  'track-list': [{'artist-credit': [{'artist': {'disambiguation': 'jazz '\n",
      "                                                                                  'trumpeter, '\n",
      "                                                                                  'bandleader, '\n",
      "                                                                                  'songwriter',\n",
      "                                                                'id': '561d854a-6a28-4aa7-8c99-323e6ce46c2a',\n",
      "                                                                'name': 'Miles '\n",
      "                                                                        'Davis',\n",
      "                                                                'sort-name': 'Davis, '\n",
      "                                                                             'Miles'}}],\n",
      "                                  'artist-credit-phrase': 'Miles Davis',\n",
      "                                  'id': '37e8f384-fd8f-3980-ab99-c69271a21204',\n",
      "                                  'length': '220360',\n",
      "                                  'number': '1',\n",
      "                                  'position': '1',\n",
      "                                  'recording': {'artist-credit': [{'artist': {'disambiguation': 'jazz '\n",
      "                                                                                                'trumpeter, '\n",
      "                                                                                                'bandleader, '\n",
      "                                                                                                'songwriter',\n",
      "                                                                              'id': '561d854a-6a28-4aa7-8c99-323e6ce46c2a',\n",
      "                                                                              'name': 'Miles '\n",
      "                                                                                      'Davis',\n",
      "                                                                              'sort-name': 'Davis, '\n",
      "                                                                                           'Miles'}}],\n",
      "                                                'artist-credit-phrase': 'Miles '\n",
      "                                                                        'Davis',\n",
      "                                                'artist-relation-list': [{'artist': {'id': '534362cd-66ed-45a8-9cba-b847dbf75b6f',\n",
      "                                                                                     'name': 'Percy '\n",
      "                                                                                             'Heath',\n",
      "                                                                                     'sort-name': 'Heath, '\n",
      "                                                                                                  'Percy'},\n",
      "                                                                          'attribute-list': ['bass'],\n",
      "                                                                          'attributes': [{'attribute': 'bass'}],\n",
      "                                                                          'begin': '1954-03-06',\n",
      "                                                                          'direction': 'backward',\n",
      "                                                                          'end': '1954-03-06',\n",
      "                                                                          'ended': 'true',\n",
      "                                                                          'target': '534362cd-66ed-45a8-9cba-b847dbf75b6f',\n",
      "                                                                          'type': 'instrument',\n",
      "                                                                          'type-id': '59054b12-01ac-43ee-a618-285fd397e461'},\n",
      "                                                                         {'artist': {'disambiguation': 'jazz '\n",
      "                                                                                                       'trumpeter, '\n",
      "                                                                                                       'bandleader, '\n",
      "                                                                                                       'songwriter',\n",
      "                                                                                     'id': '561d854a-6a28-4aa7-8c99-323e6ce46c2a',\n",
      "                                                                                     'name': 'Miles '\n",
      "                                                                                             'Davis',\n",
      "                                                                                     'sort-name': 'Davis, '\n",
      "                                                                                                  'Miles'},\n",
      "                                                                          'attribute-list': ['trumpet'],\n",
      "                                                                          'attributes': [{'attribute': 'trumpet'}],\n",
      "                                                                          'begin': '1954-03-06',\n",
      "                                                                          'direction': 'backward',\n",
      "                                                                          'end': '1954-03-06',\n",
      "                                                                          'ended': 'true',\n",
      "                                                                          'target': '561d854a-6a28-4aa7-8c99-323e6ce46c2a',\n",
      "                                                                          'type': 'instrument',\n",
      "                                                                          'type-id': '59054b12-01ac-43ee-a618-285fd397e461'},\n",
      "                                                                         {'artist': {'id': '601e7466-eaf5-4a91-9909-ffd770b7e04a',\n",
      "                                                                                     'name': 'Art '\n",
      "                                                                                             'Blakey',\n",
      "                                                                                     'sort-name': 'Blakey, '\n",
      "                                                                                                  'Art'},\n",
      "                                                                          'attribute-list': ['drums '\n",
      "                                                                                             '(drum '\n",
      "                                                                                             'set)'],\n",
      "                                                                          'attributes': [{'attribute': 'drums '\n",
      "                                                                                                       '(drum '\n",
      "                                                                                                       'set)'}],\n",
      "                                                                          'begin': '1954-03-06',\n",
      "                                                                          'direction': 'backward',\n",
      "                                                                          'end': '1954-03-06',\n",
      "                                                                          'ended': 'true',\n",
      "                                                                          'target': '601e7466-eaf5-4a91-9909-ffd770b7e04a',\n",
      "                                                                          'type': 'instrument',\n",
      "                                                                          'type-id': '59054b12-01ac-43ee-a618-285fd397e461'},\n",
      "                                                                         {'artist': {'id': 'c332fcf2-cc5c-424e-a5ea-317b31f6c035',\n",
      "                                                                                     'name': 'Alfred '\n",
      "                                                                                             'Lion',\n",
      "                                                                                     'sort-name': 'Lion, '\n",
      "                                                                                                  'Alfred'},\n",
      "                                                                          'direction': 'backward',\n",
      "                                                                          'target': 'c332fcf2-cc5c-424e-a5ea-317b31f6c035',\n",
      "                                                                          'type': 'producer',\n",
      "                                                                          'type-id': '5c0ceac3-feb4-41f0-868d-dc06f6e27fc0'},\n",
      "                                                                         {'artist': {'id': 'd185d986-ee96-4fd3-bd61-8c848a4765b6',\n",
      "                                                                                     'name': 'Horace '\n",
      "                                                                                             'Silver',\n",
      "                                                                                     'sort-name': 'Silver, '\n",
      "                                                                                                  'Horace'},\n",
      "                                                                          'attribute-list': ['piano'],\n",
      "                                                                          'attributes': [{'attribute': 'piano'}],\n",
      "                                                                          'begin': '1954-03-06',\n",
      "                                                                          'direction': 'backward',\n",
      "                                                                          'end': '1954-03-06',\n",
      "                                                                          'ended': 'true',\n",
      "                                                                          'target': 'd185d986-ee96-4fd3-bd61-8c848a4765b6',\n",
      "                                                                          'type': 'instrument',\n",
      "                                                                          'type-id': '59054b12-01ac-43ee-a618-285fd397e461'}],\n",
      "                                                'id': 'd94bc993-7d18-4bb9-a95e-a1eb2ed309d4',\n",
      "                                                'length': '220360',\n",
      "                                                'title': 'Take Off'},\n",
      "                                  'track_or_recording_length': '220360'},\n",
      "                                 {'artist-credit': [{'artist': {'disambiguation': 'jazz '\n",
      "                                                                                  'trumpeter, '\n",
      "                                                                                  'bandleader, '\n",
      "                                                                                  'songwriter',\n",
      "                                                                'id': '561d854a-6a28-4aa7-8c99-323e6ce46c2a',\n",
      "                                                                'name': 'Miles '\n",
      "                                                                        'Davis',\n",
      "                                                                'sort-name': 'Davis, '\n",
      "                                                                             'Miles'}}],\n",
      "                                  'artist-credit-phrase': 'Miles Davis',\n",
      "                                  'id': '60fa3292-611c-319a-9d6b-b9d97c6e1249',\n",
      "                                  'length': '242760',\n",
      "                                  'number': '2',\n",
      "                                  'position': '2',\n",
      "                                  'recording': {'artist-credit': [{'artist': {'disambiguation': 'jazz '\n",
      "                                                                                                'trumpeter, '\n",
      "                                                                                                'bandleader, '\n",
      "                                                                                                'songwriter',\n",
      "                                                                              'id': '561d854a-6a28-4aa7-8c99-323e6ce46c2a',\n",
      "                                                                              'name': 'Miles '\n",
      "                                                                                      'Davis',\n",
      "                                                                              'sort-name': 'Davis, '\n",
      "                                                                                           'Miles'}}],\n",
      "                                                'artist-credit-phrase': 'Miles '\n",
      "                                                                        'Davis',\n",
      "                                                'id': '83142edc-1c9d-41e5-9580-78c88ae74f6a',\n",
      "                                                'length': '242760',\n",
      "                                                'title': 'It Never Entered My '\n",
      "                                                         'Mind'},\n",
      "                                  'track_or_recording_length': '242760'},\n",
      "                                 {'artist-credit': [{'artist': {'disambiguation': 'jazz '\n",
      "                                                                                  'trumpeter, '\n",
      "                                                                                  'bandleader, '\n",
      "                                                                                  'songwriter',\n",
      "                                                                'id': '561d854a-6a28-4aa7-8c99-323e6ce46c2a',\n",
      "                                                                'name': 'Miles '\n",
      "                                                                        'Davis',\n",
      "                                                                'sort-name': 'Davis, '\n",
      "                                                                             'Miles'}}],\n",
      "                                  'artist-credit-phrase': 'Miles Davis',\n",
      "                                  'id': 'eb18e59b-95f1-3812-bdf9-5b654ec95008',\n",
      "                                  'length': '322560',\n",
      "                                  'number': '3',\n",
      "                                  'position': '3',\n",
      "                                  'recording': {'artist-credit': [{'artist': {'disambiguation': 'jazz '\n",
      "                                                                                                'trumpeter, '\n",
      "                                                                                                'bandleader, '\n",
      "                                                                                                'songwriter',\n",
      "                                                                              'id': '561d854a-6a28-4aa7-8c99-323e6ce46c2a',\n",
      "                                                                              'name': 'Miles '\n",
      "                                                                                      'Davis',\n",
      "                                                                              'sort-name': 'Davis, '\n",
      "                                                                                           'Miles'}}],\n",
      "                                                'artist-credit-phrase': 'Miles '\n",
      "                                                                        'Davis',\n",
      "                                                'id': 'b197e54d-69e7-4e25-aefe-fb3d5cbdb0d9',\n",
      "                                                'length': '322560',\n",
      "                                                'title': \"Well You Needn't\"},\n",
      "                                  'track_or_recording_length': '322560'},\n",
      "                                 {'artist-credit': [{'artist': {'disambiguation': 'jazz '\n",
      "                                                                                  'trumpeter, '\n",
      "                                                                                  'bandleader, '\n",
      "                                                                                  'songwriter',\n",
      "                                                                'id': '561d854a-6a28-4aa7-8c99-323e6ce46c2a',\n",
      "                                                                'name': 'Miles '\n",
      "                                                                        'Davis',\n",
      "                                                                'sort-name': 'Davis, '\n",
      "                                                                             'Miles'}}],\n",
      "                                  'artist-credit-phrase': 'Miles Davis',\n",
      "                                  'id': '3727b327-f283-38d8-8d01-cd3ab449b9eb',\n",
      "                                  'length': '242453',\n",
      "                                  'number': '4',\n",
      "                                  'position': '4',\n",
      "                                  'recording': {'artist-credit': [{'artist': {'disambiguation': 'jazz '\n",
      "                                                                                                'trumpeter, '\n",
      "                                                                                                'bandleader, '\n",
      "                                                                                                'songwriter',\n",
      "                                                                              'id': '561d854a-6a28-4aa7-8c99-323e6ce46c2a',\n",
      "                                                                              'name': 'Miles '\n",
      "                                                                                      'Davis',\n",
      "                                                                              'sort-name': 'Davis, '\n",
      "                                                                                           'Miles'}}],\n",
      "                                                'artist-credit-phrase': 'Miles '\n",
      "                                                                        'Davis',\n",
      "                                                'artist-relation-list': [{'artist': {'id': '534362cd-66ed-45a8-9cba-b847dbf75b6f',\n",
      "                                                                                     'name': 'Percy '\n",
      "                                                                                             'Heath',\n",
      "                                                                                     'sort-name': 'Heath, '\n",
      "                                                                                                  'Percy'},\n",
      "                                                                          'attribute-list': ['bass'],\n",
      "                                                                          'attributes': [{'attribute': 'bass'}],\n",
      "                                                                          'begin': '1954-03-06',\n",
      "                                                                          'direction': 'backward',\n",
      "                                                                          'end': '1954-03-06',\n",
      "                                                                          'ended': 'true',\n",
      "                                                                          'target': '534362cd-66ed-45a8-9cba-b847dbf75b6f',\n",
      "                                                                          'type': 'instrument',\n",
      "                                                                          'type-id': '59054b12-01ac-43ee-a618-285fd397e461'},\n",
      "                                                                         {'artist': {'disambiguation': 'jazz '\n",
      "                                                                                                       'trumpeter, '\n",
      "                                                                                                       'bandleader, '\n",
      "                                                                                                       'songwriter',\n",
      "                                                                                     'id': '561d854a-6a28-4aa7-8c99-323e6ce46c2a',\n",
      "                                                                                     'name': 'Miles '\n",
      "                                                                                             'Davis',\n",
      "                                                                                     'sort-name': 'Davis, '\n",
      "                                                                                                  'Miles'},\n",
      "                                                                          'attribute-list': ['trumpet'],\n",
      "                                                                          'attributes': [{'attribute': 'trumpet'}],\n",
      "                                                                          'begin': '1954-03-06',\n",
      "                                                                          'direction': 'backward',\n",
      "                                                                          'end': '1954-03-06',\n",
      "                                                                          'ended': 'true',\n",
      "                                                                          'target': '561d854a-6a28-4aa7-8c99-323e6ce46c2a',\n",
      "                                                                          'type': 'instrument',\n",
      "                                                                          'type-id': '59054b12-01ac-43ee-a618-285fd397e461'},\n",
      "                                                                         {'artist': {'id': '601e7466-eaf5-4a91-9909-ffd770b7e04a',\n",
      "                                                                                     'name': 'Art '\n",
      "                                                                                             'Blakey',\n",
      "                                                                                     'sort-name': 'Blakey, '\n",
      "                                                                                                  'Art'},\n",
      "                                                                          'attribute-list': ['drums '\n",
      "                                                                                             '(drum '\n",
      "                                                                                             'set)'],\n",
      "                                                                          'attributes': [{'attribute': 'drums '\n",
      "                                                                                                       '(drum '\n",
      "                                                                                                       'set)'}],\n",
      "                                                                          'begin': '1954-03-06',\n",
      "                                                                          'direction': 'backward',\n",
      "                                                                          'end': '1954-03-06',\n",
      "                                                                          'ended': 'true',\n",
      "                                                                          'target': '601e7466-eaf5-4a91-9909-ffd770b7e04a',\n",
      "                                                                          'type': 'instrument',\n",
      "                                                                          'type-id': '59054b12-01ac-43ee-a618-285fd397e461'},\n",
      "                                                                         {'artist': {'id': 'c332fcf2-cc5c-424e-a5ea-317b31f6c035',\n",
      "                                                                                     'name': 'Alfred '\n",
      "                                                                                             'Lion',\n",
      "                                                                                     'sort-name': 'Lion, '\n",
      "                                                                                                  'Alfred'},\n",
      "                                                                          'direction': 'backward',\n",
      "                                                                          'target': 'c332fcf2-cc5c-424e-a5ea-317b31f6c035',\n",
      "                                                                          'type': 'producer',\n",
      "                                                                          'type-id': '5c0ceac3-feb4-41f0-868d-dc06f6e27fc0'},\n",
      "                                                                         {'artist': {'id': 'd185d986-ee96-4fd3-bd61-8c848a4765b6',\n",
      "                                                                                     'name': 'Horace '\n",
      "                                                                                             'Silver',\n",
      "                                                                                     'sort-name': 'Silver, '\n",
      "                                                                                                  'Horace'},\n",
      "                                                                          'attribute-list': ['piano'],\n",
      "                                                                          'attributes': [{'attribute': 'piano'}],\n",
      "                                                                          'begin': '1954-03-06',\n",
      "                                                                          'direction': 'backward',\n",
      "                                                                          'end': '1954-03-06',\n",
      "                                                                          'ended': 'true',\n",
      "                                                                          'target': 'd185d986-ee96-4fd3-bd61-8c848a4765b6',\n",
      "                                                                          'type': 'instrument',\n",
      "                                                                          'type-id': '59054b12-01ac-43ee-a618-285fd397e461'}],\n",
      "                                                'id': 'b9faced3-002b-4362-bad9-fcae9d962650',\n",
      "                                                'length': '242453',\n",
      "                                                'title': 'Lazy Susan'},\n",
      "                                  'track_or_recording_length': '242453'},\n",
      "                                 {'artist-credit': [{'artist': {'disambiguation': 'jazz '\n",
      "                                                                                  'trumpeter, '\n",
      "                                                                                  'bandleader, '\n",
      "                                                                                  'songwriter',\n",
      "                                                                'id': '561d854a-6a28-4aa7-8c99-323e6ce46c2a',\n",
      "                                                                'name': 'Miles '\n",
      "                                                                        'Davis',\n",
      "                                                                'sort-name': 'Davis, '\n",
      "                                                                             'Miles'}}],\n",
      "                                  'artist-credit-phrase': 'Miles Davis',\n",
      "                                  'id': 'b847dd8f-d97d-3507-86b3-c3ff09ef9b0a',\n",
      "                                  'length': '284533',\n",
      "                                  'number': '5',\n",
      "                                  'position': '5',\n",
      "                                  'recording': {'artist-credit': [{'artist': {'disambiguation': 'jazz '\n",
      "                                                                                                'trumpeter, '\n",
      "                                                                                                'bandleader, '\n",
      "                                                                                                'songwriter',\n",
      "                                                                              'id': '561d854a-6a28-4aa7-8c99-323e6ce46c2a',\n",
      "                                                                              'name': 'Miles '\n",
      "                                                                                      'Davis',\n",
      "                                                                              'sort-name': 'Davis, '\n",
      "                                                                                           'Miles'}}],\n",
      "                                                'artist-credit-phrase': 'Miles '\n",
      "                                                                        'Davis',\n",
      "                                                'artist-relation-list': [{'artist': {'id': '534362cd-66ed-45a8-9cba-b847dbf75b6f',\n",
      "                                                                                     'name': 'Percy '\n",
      "                                                                                             'Heath',\n",
      "                                                                                     'sort-name': 'Heath, '\n",
      "                                                                                                  'Percy'},\n",
      "                                                                          'attribute-list': ['bass'],\n",
      "                                                                          'attributes': [{'attribute': 'bass'}],\n",
      "                                                                          'begin': '1954-03-06',\n",
      "                                                                          'direction': 'backward',\n",
      "                                                                          'end': '1954-03-06',\n",
      "                                                                          'ended': 'true',\n",
      "                                                                          'target': '534362cd-66ed-45a8-9cba-b847dbf75b6f',\n",
      "                                                                          'type': 'instrument',\n",
      "                                                                          'type-id': '59054b12-01ac-43ee-a618-285fd397e461'},\n",
      "                                                                         {'artist': {'disambiguation': 'jazz '\n",
      "                                                                                                       'trumpeter, '\n",
      "                                                                                                       'bandleader, '\n",
      "                                                                                                       'songwriter',\n",
      "                                                                                     'id': '561d854a-6a28-4aa7-8c99-323e6ce46c2a',\n",
      "                                                                                     'name': 'Miles '\n",
      "                                                                                             'Davis',\n",
      "                                                                                     'sort-name': 'Davis, '\n",
      "                                                                                                  'Miles'},\n",
      "                                                                          'attribute-list': ['trumpet'],\n",
      "                                                                          'attributes': [{'attribute': 'trumpet'}],\n",
      "                                                                          'begin': '1954-03-06',\n",
      "                                                                          'direction': 'backward',\n",
      "                                                                          'end': '1954-03-06',\n",
      "                                                                          'ended': 'true',\n",
      "                                                                          'target': '561d854a-6a28-4aa7-8c99-323e6ce46c2a',\n",
      "                                                                          'type': 'instrument',\n",
      "                                                                          'type-id': '59054b12-01ac-43ee-a618-285fd397e461'},\n",
      "                                                                         {'artist': {'id': '601e7466-eaf5-4a91-9909-ffd770b7e04a',\n",
      "                                                                                     'name': 'Art '\n",
      "                                                                                             'Blakey',\n",
      "                                                                                     'sort-name': 'Blakey, '\n",
      "                                                                                                  'Art'},\n",
      "                                                                          'attribute-list': ['drums '\n",
      "                                                                                             '(drum '\n",
      "                                                                                             'set)'],\n",
      "                                                                          'attributes': [{'attribute': 'drums '\n",
      "                                                                                                       '(drum '\n",
      "                                                                                                       'set)'}],\n",
      "                                                                          'begin': '1954-03-06',\n",
      "                                                                          'direction': 'backward',\n",
      "                                                                          'end': '1954-03-06',\n",
      "                                                                          'ended': 'true',\n",
      "                                                                          'target': '601e7466-eaf5-4a91-9909-ffd770b7e04a',\n",
      "                                                                          'type': 'instrument',\n",
      "                                                                          'type-id': '59054b12-01ac-43ee-a618-285fd397e461'},\n",
      "                                                                         {'artist': {'id': 'c332fcf2-cc5c-424e-a5ea-317b31f6c035',\n",
      "                                                                                     'name': 'Alfred '\n",
      "                                                                                             'Lion',\n",
      "                                                                                     'sort-name': 'Lion, '\n",
      "                                                                                                  'Alfred'},\n",
      "                                                                          'direction': 'backward',\n",
      "                                                                          'target': 'c332fcf2-cc5c-424e-a5ea-317b31f6c035',\n",
      "                                                                          'type': 'producer',\n",
      "                                                                          'type-id': '5c0ceac3-feb4-41f0-868d-dc06f6e27fc0'},\n",
      "                                                                         {'artist': {'id': 'd185d986-ee96-4fd3-bd61-8c848a4765b6',\n",
      "                                                                                     'name': 'Horace '\n",
      "                                                                                             'Silver',\n",
      "                                                                                     'sort-name': 'Silver, '\n",
      "                                                                                                  'Horace'},\n",
      "                                                                          'attribute-list': ['piano'],\n",
      "                                                                          'attributes': [{'attribute': 'piano'}],\n",
      "                                                                          'begin': '1954-03-06',\n",
      "                                                                          'direction': 'backward',\n",
      "                                                                          'end': '1954-03-06',\n",
      "                                                                          'ended': 'true',\n",
      "                                                                          'target': 'd185d986-ee96-4fd3-bd61-8c848a4765b6',\n",
      "                                                                          'type': 'instrument',\n",
      "                                                                          'type-id': '59054b12-01ac-43ee-a618-285fd397e461'}],\n",
      "                                                'id': '7712a88c-b965-4780-85fb-029ceb19e203',\n",
      "                                                'length': '284866',\n",
      "                                                'title': 'Weirdo'},\n",
      "                                  'track_or_recording_length': '284533'},\n",
      "                                 {'artist-credit': [{'artist': {'disambiguation': 'jazz '\n",
      "                                                                                  'trumpeter, '\n",
      "                                                                                  'bandleader, '\n",
      "                                                                                  'songwriter',\n",
      "                                                                'id': '561d854a-6a28-4aa7-8c99-323e6ce46c2a',\n",
      "                                                                'name': 'Miles '\n",
      "                                                                        'Davis',\n",
      "                                                                'sort-name': 'Davis, '\n",
      "                                                                             'Miles'}}],\n",
      "                                  'artist-credit-phrase': 'Miles Davis',\n",
      "                                  'id': '3e21410e-342c-31dc-b0eb-f12c677f9743',\n",
      "                                  'length': '270880',\n",
      "                                  'number': '6',\n",
      "                                  'position': '6',\n",
      "                                  'recording': {'artist-credit': [{'artist': {'disambiguation': 'jazz '\n",
      "                                                                                                'trumpeter, '\n",
      "                                                                                                'bandleader, '\n",
      "                                                                                                'songwriter',\n",
      "                                                                              'id': '561d854a-6a28-4aa7-8c99-323e6ce46c2a',\n",
      "                                                                              'name': 'Miles '\n",
      "                                                                                      'Davis',\n",
      "                                                                              'sort-name': 'Davis, '\n",
      "                                                                                           'Miles'}}],\n",
      "                                                'artist-credit-phrase': 'Miles '\n",
      "                                                                        'Davis',\n",
      "                                                'id': '601507c2-eef3-4d2c-a07f-9ef254f2a1fd',\n",
      "                                                'length': '271000',\n",
      "                                                'title': 'The Leap'},\n",
      "                                  'track_or_recording_length': '270880'}]}],\n",
      " 'packaging': 'Cardboard/Paper Sleeve',\n",
      " 'quality': 'normal',\n",
      " 'release-event-count': 1,\n",
      " 'release-event-list': [{'area': {'id': '489ce91b-6658-3307-9877-795b68554c98',\n",
      "                                  'iso-3166-1-code-list': ['US'],\n",
      "                                  'name': 'United States',\n",
      "                                  'sort-name': 'United States'},\n",
      "                         'date': '1954'}],\n",
      " 'status': 'Official',\n",
      " 'text-representation': {'language': 'eng', 'script': 'Latn'},\n",
      " 'title': 'Miles Davis, Volume 3'}\n"
     ]
    }
   ],
   "source": [
    "pprint.pprint(a_release)"
   ]
  },
  {
   "cell_type": "markdown",
   "metadata": {
    "collapsed": true
   },
   "source": [
    "```\n",
    "artist_ids = set()\n",
    "artist_count = 0\n",
    "\n",
    "for r in releases.find():\n",
    "    if 'medium-list' in r:\n",
    "        media = r['medium-list']\n",
    "        for m in media:\n",
    "            if 'track-list' in m:\n",
    "                tracks = m['track-list']\n",
    "                for each in tracks:\n",
    "                    if 'recording' in each.keys():\n",
    "                        if 'artist-relation-list' in each['recording'].keys():\n",
    "                            artist_list = each['recording']['artist-relation-list']\n",
    "                            for a in artist_list:\n",
    "                                artist_count += 1\n",
    "                                artist_id = a['artist']['id']\n",
    "                                artist_ids.add(artist_id)\n",
    "```"
   ]
  },
  {
   "cell_type": "code",
   "execution_count": 44,
   "metadata": {
    "collapsed": true
   },
   "outputs": [],
   "source": [
    "#artist_count"
   ]
  },
  {
   "cell_type": "code",
   "execution_count": 45,
   "metadata": {
    "collapsed": true
   },
   "outputs": [],
   "source": [
    "#len(artist_ids)"
   ]
  },
  {
   "cell_type": "code",
   "execution_count": 46,
   "metadata": {
    "collapsed": true
   },
   "outputs": [],
   "source": [
    "#current_artist_ids = set(artists.distinct('id'))\n",
    "#new_artist_search_ids = artist_ids - current_artist_ids"
   ]
  },
  {
   "cell_type": "code",
   "execution_count": 47,
   "metadata": {
    "collapsed": true
   },
   "outputs": [],
   "source": [
    "#len(new_artist_search_ids)"
   ]
  },
  {
   "cell_type": "markdown",
   "metadata": {
    "collapsed": true
   },
   "source": [
    "```\n",
    "for a_id in list(new_artist_search_ids):\n",
    "    artist_info = musicbrainzngs.get_artist_by_id(a_id)\n",
    "    try:\n",
    "        artists.insert_one(artist_info['artist'])\n",
    "    except Exception as e:\n",
    "        print(e)\n",
    "```"
   ]
  },
  {
   "cell_type": "code",
   "execution_count": 48,
   "metadata": {},
   "outputs": [
    {
     "name": "stderr",
     "output_type": "stream",
     "text": [
      "/usr/lib/python3/dist-packages/ipykernel_launcher.py:1: DeprecationWarning: count is deprecated. Use estimated_document_count or count_documents instead. Please note that $where must be replaced by $expr, $near must be replaced by $geoWithin with $center, and $nearSphere must be replaced by $geoWithin with $centerSphere\n",
      "  \"\"\"Entry point for launching an IPython kernel.\n"
     ]
    },
    {
     "data": {
      "text/plain": [
       "1504"
      ]
     },
     "execution_count": 48,
     "metadata": {},
     "output_type": "execute_result"
    }
   ],
   "source": [
    "db.artists.count()"
   ]
  },
  {
   "cell_type": "code",
   "execution_count": 49,
   "metadata": {},
   "outputs": [
    {
     "name": "stderr",
     "output_type": "stream",
     "text": [
      "/usr/lib/python3/dist-packages/ipykernel_launcher.py:1: DeprecationWarning: count is deprecated. Use estimated_document_count or count_documents instead. Please note that $where must be replaced by $expr, $near must be replaced by $geoWithin with $center, and $nearSphere must be replaced by $geoWithin with $centerSphere\n",
      "  \"\"\"Entry point for launching an IPython kernel.\n"
     ]
    },
    {
     "data": {
      "text/plain": [
       "889"
      ]
     },
     "execution_count": 49,
     "metadata": {},
     "output_type": "execute_result"
    }
   ],
   "source": [
    "db.releases.count()"
   ]
  },
  {
   "cell_type": "markdown",
   "metadata": {},
   "source": [
    "## Aggregations"
   ]
  },
  {
   "cell_type": "code",
   "execution_count": 52,
   "metadata": {},
   "outputs": [
    {
     "data": {
      "text/plain": [
       "[{'_id': 'Person', 'count': 1454},\n",
       " {'_id': 'Group', 'count': 25},\n",
       " {'_id': 'Orchestra', 'count': 7},\n",
       " {'_id': None, 'count': 17},\n",
       " {'_id': 'Other', 'count': 1}]"
      ]
     },
     "execution_count": 52,
     "metadata": {},
     "output_type": "execute_result"
    }
   ],
   "source": [
    "# https://info-mongodb-com.s3.amazonaws.com/ReferenceCards15-PDF.pdf\n",
    "\n",
    "# pseduo-SQL\n",
    "'''\n",
    "SELECT type, count(type)\n",
    "FROM artists\n",
    "GROUP BY type\n",
    "'''\n",
    "\n",
    "pipeline = [{\"$group\": {\"_id\": \"$type\", \"count\":{\"$sum\":1}}}]\n",
    "artist_types = list(artists.aggregate(pipeline, allowDiskUse=True))\n",
    "artist_types"
   ]
  },
  {
   "cell_type": "code",
   "execution_count": 53,
   "metadata": {},
   "outputs": [
    {
     "data": {
      "text/plain": [
       "[{'_id': None, 'count': 640},\n",
       " {'_id': 'New York', 'count': 89},\n",
       " {'_id': 'Philadelphia', 'count': 48},\n",
       " {'_id': 'Chicago', 'count': 29},\n",
       " {'_id': 'Brooklyn', 'count': 27},\n",
       " {'_id': 'Los Angeles', 'count': 24},\n",
       " {'_id': 'Detroit', 'count': 22},\n",
       " {'_id': 'Pittsburgh', 'count': 20},\n",
       " {'_id': 'Kansas City', 'count': 12},\n",
       " {'_id': 'Newark', 'count': 11}]"
      ]
     },
     "execution_count": 53,
     "metadata": {},
     "output_type": "execute_result"
    }
   ],
   "source": [
    "# pseudo-SQL\n",
    "# requires an artist table and a birthplace table\n",
    "\n",
    "'''\n",
    "SELECT begin-area.name, count(begin-area.name)\n",
    "FROM begin-area\n",
    "INNER JOIN artist ON begin-area.id == artist.begin-area-id\n",
    "GROUP BY begin-area\n",
    "'''\n",
    "\n",
    "pipeline = [{\"$group\": {\"_id\": \"$begin-area.name\", \"count\":{\"$sum\":1}}},\n",
    "           {\"$sort\": {\"count\":-1}},\n",
    "           {\"$limit\": 10 }]\n",
    "artist_birthplaces = list(artists.aggregate(pipeline, allowDiskUse=True))\n",
    "artist_birthplaces"
   ]
  },
  {
   "cell_type": "code",
   "execution_count": 54,
   "metadata": {},
   "outputs": [
    {
     "data": {
      "text/plain": [
       "[{'_id': 'New York',\n",
       "  'artists': [{'artist': 'Charlie Fowlkes'},\n",
       "   {'artist': 'George Duvivier'},\n",
       "   {'artist': 'Art Taylor'},\n",
       "   {'artist': 'Herb Bushler'},\n",
       "   {'artist': 'Marc Cary'},\n",
       "   {'artist': 'David Friedman'},\n",
       "   {'artist': 'David Greene'},\n",
       "   {'artist': 'Kenny Berger'},\n",
       "   {'artist': 'Steve Lacy'},\n",
       "   {'artist': 'Chuck Wayne'},\n",
       "   {'artist': 'Lenny Castro'},\n",
       "   {'artist': 'Bill Grauer, Jr.'},\n",
       "   {'artist': 'Tiny Kahn'},\n",
       "   {'artist': 'George Barrow'},\n",
       "   {'artist': 'LaMont Johnson'},\n",
       "   {'artist': 'Chauncey Welsch'},\n",
       "   {'artist': 'Eddie Henderson'},\n",
       "   {'artist': 'Steve Grossman'},\n",
       "   {'artist': 'Lawrence Dutton'},\n",
       "   {'artist': 'Al Gafa'},\n",
       "   {'artist': 'Ronnie Cuber'},\n",
       "   {'artist': 'Julian Euell'},\n",
       "   {'artist': 'Lew Soloff'},\n",
       "   {'artist': 'Frank Rehak'},\n",
       "   {'artist': 'Bernie Privin'},\n",
       "   {'artist': 'Joe Shulman'},\n",
       "   {'artist': 'Dave Kurtzer'},\n",
       "   {'artist': 'Willie Jones'},\n",
       "   {'artist': 'Helen Merrill'},\n",
       "   {'artist': 'Jackie McLean'},\n",
       "   {'artist': 'Adam Nussbaum'},\n",
       "   {'artist': 'Mal Waldron'},\n",
       "   {'artist': 'Richie Beirach'},\n",
       "   {'artist': 'Ray Beckenstein'},\n",
       "   {'artist': 'Sonny Lester'},\n",
       "   {'artist': 'Bill Barber'},\n",
       "   {'artist': 'Allen Eager'},\n",
       "   {'artist': 'Al Levitt'},\n",
       "   {'artist': 'Leonard Gaskin'},\n",
       "   {'artist': 'Freddie Redd'},\n",
       "   {'artist': 'Richard Horowitz'},\n",
       "   {'artist': 'Charnett Moffett'},\n",
       "   {'artist': 'Bernie Glow'},\n",
       "   {'artist': 'Rudy Collins'},\n",
       "   {'artist': 'Larry Schneider'},\n",
       "   {'artist': 'Johnny Mandel'},\n",
       "   {'artist': 'Chuck Israels'},\n",
       "   {'artist': 'Danny Bank'},\n",
       "   {'artist': 'Richie Powell'},\n",
       "   {'artist': 'John Mosca'},\n",
       "   {'artist': 'Helen Keane'},\n",
       "   {'artist': 'John Williams'},\n",
       "   {'artist': 'Gerald Wiggins'},\n",
       "   {'artist': 'Red Mitchell'},\n",
       "   {'artist': 'Kenny Drew'},\n",
       "   {'artist': 'Ray Draper'},\n",
       "   {'artist': 'Sol Schlinger'},\n",
       "   {'artist': 'Lester Koenig'},\n",
       "   {'artist': 'Specs Powell'},\n",
       "   {'artist': 'Dannie Richmond'},\n",
       "   {'artist': 'Bertell Knox'},\n",
       "   {'artist': 'Elmo Hope'},\n",
       "   {'artist': 'Ray Mantilla'},\n",
       "   {'artist': 'Don Alias'},\n",
       "   {'artist': 'Marilyn Mazur'},\n",
       "   {'artist': 'Grachan Moncur III'},\n",
       "   {'artist': 'Bob Haggart'},\n",
       "   {'artist': 'Fats Waller'},\n",
       "   {'artist': 'George Cables'},\n",
       "   {'artist': 'Sue Evans'},\n",
       "   {'artist': 'Lee Abrams'},\n",
       "   {'artist': 'Walter Bishop, Jr.'},\n",
       "   {'artist': 'Larry Gales'},\n",
       "   {'artist': 'Ronnie Mathews'},\n",
       "   {'artist': 'Gil Coggins'},\n",
       "   {'artist': 'Gordon Pulis'},\n",
       "   {'artist': 'Eddie “Lockjaw” Davis'},\n",
       "   {'artist': 'Nick Stabulas'},\n",
       "   {'artist': 'Al Porcino'},\n",
       "   {'artist': 'Ron Jefferson'},\n",
       "   {'artist': 'Gildo Mahones'},\n",
       "   {'artist': 'Billy Bauer'},\n",
       "   {'artist': 'Harvey Shapiro'},\n",
       "   {'artist': 'Bill Easley'},\n",
       "   {'artist': 'Charlie Smith'},\n",
       "   {'artist': 'Gene Bertoncini'},\n",
       "   {'artist': 'Shelly Manne'},\n",
       "   {'artist': 'George Handy'},\n",
       "   {'artist': 'Larry Willis'}],\n",
       "  'count': 89},\n",
       " {'_id': 'Philadelphia',\n",
       "  'artists': [{'artist': 'Steve Davis'},\n",
       "   {'artist': 'Reggie Workman'},\n",
       "   {'artist': 'John LaPorta'},\n",
       "   {'artist': 'Jerry Segal'},\n",
       "   {'artist': 'Adrian Acea'},\n",
       "   {'artist': 'Charlie Ventura'},\n",
       "   {'artist': 'Don Moore'},\n",
       "   {'artist': 'Rashied Ali'},\n",
       "   {'artist': 'Albert “Tootie” Heath'},\n",
       "   {'artist': 'Billy Butler'},\n",
       "   {'artist': 'Tommy Potter'},\n",
       "   {'artist': 'Stan Getz'},\n",
       "   {'artist': 'Stan Levey'},\n",
       "   {'artist': 'Pat Martino'},\n",
       "   {'artist': 'Benny Golson'},\n",
       "   {'artist': 'Willie Dennis'},\n",
       "   {'artist': 'Philly Joe Jones'},\n",
       "   {'artist': 'Jimmy Heath'},\n",
       "   {'artist': 'Richie Kamuca'},\n",
       "   {'artist': 'Joe Beck'},\n",
       "   {'artist': 'Kenny Barron'},\n",
       "   {'artist': 'Charles “Specs” Wright'},\n",
       "   {'artist': 'McCoy Tyner'},\n",
       "   {'artist': 'Michael Brecker'},\n",
       "   {'artist': 'Bill Harris'},\n",
       "   {'artist': 'Lou Stein'},\n",
       "   {'artist': 'Paul Motian'},\n",
       "   {'artist': 'James Mtume'},\n",
       "   {'artist': 'Herman Foster'},\n",
       "   {'artist': 'Nick Travis'},\n",
       "   {'artist': 'Christian McBride'},\n",
       "   {'artist': 'Jimmy Woode'},\n",
       "   {'artist': 'Bill Barron'},\n",
       "   {'artist': 'Jymie Merritt'},\n",
       "   {'artist': 'John Ore'},\n",
       "   {'artist': 'David Amram'},\n",
       "   {'artist': 'Stanley Clarke'},\n",
       "   {'artist': 'Ray Bryant'},\n",
       "   {'artist': 'Bill Root'},\n",
       "   {'artist': 'Elliot Lawrence'},\n",
       "   {'artist': 'Wallace Roney'},\n",
       "   {'artist': 'Jimmy Rowser'},\n",
       "   {'artist': 'Lee Morgan'},\n",
       "   {'artist': 'Jimmy \"Spanky\" DeBrest'},\n",
       "   {'artist': 'Alexander Courage'},\n",
       "   {'artist': 'Henry Grimes'},\n",
       "   {'artist': 'Tommy Bryant'},\n",
       "   {'artist': 'Billy Bean'}],\n",
       "  'count': 48}]"
      ]
     },
     "execution_count": 54,
     "metadata": {},
     "output_type": "execute_result"
    }
   ],
   "source": [
    "# pseudo-SQL\n",
    "\n",
    "'''\n",
    "SELECT begin-area.name, count(begin-area.name) as c, artist.name\n",
    "FROM begin-area\n",
    "INNER JOIN artist ON begin-area.id == artist.begin-area-id\n",
    "GROUP BY begin-area.name, artist.name\n",
    "ORDER BY c DESC\n",
    "'''\n",
    "\n",
    "# Exclude artists where begin-area field doesn't exist\n",
    "\n",
    "pipeline = [{\"$match\": {\"begin-area.name\": {\"$exists\": 'True'}}},\n",
    "            {\"$group\": {\"_id\": {\"area\": \"$begin-area.name\", \"artist\": \"$name\"}, \"artistCount\":{\"$sum\":1}}},\n",
    "            {\"$group\": {\"_id\": \"$_id.area\", \"artists\": {\"$push\": {\"artist\": \"$_id.artist\"}}, \"count\":{\"$sum\":\"$artistCount\"}}},\n",
    "            {\"$sort\": {\"count\":-1}},\n",
    "            {\"$limit\": 2 }]\n",
    "artist_birthplaces = list(artists.aggregate(pipeline, allowDiskUse=True))\n",
    "artist_birthplaces"
   ]
  },
  {
   "cell_type": "code",
   "execution_count": 55,
   "metadata": {},
   "outputs": [
    {
     "data": {
      "text/plain": [
       "[{'_id': {'artist': 'Miles Davis'},\n",
       "  'release': [{'title': 'Miles Davis, Volume 3', 'year': '1954'},\n",
       "   {'title': 'Collectors’ Items', 'year': '1956'},\n",
       "   {'title': 'Birth of the Cool', 'year': '1957-02'},\n",
       "   {'title': \"'Round About Midnight\", 'year': '1957-03-18'},\n",
       "   {'title': 'Miles Davis and Horns', 'year': '1956'},\n",
       "   {'title': 'Blue Moods', 'year': '1955'},\n",
       "   {'title': 'Miles Ahead', 'year': '1957'},\n",
       "   {'title': 'The Compositions of Al Cohn', 'year': '1953'},\n",
       "   {'title': 'Budo / Move', 'year': '1949-03'},\n",
       "   {'title': 'Miles Davis, Volume 1', 'year': '1953'},\n",
       "   {'title': 'Miles Davis, Volume 2', 'year': '1956'},\n",
       "   {'title': \"'Round About Midnight\", 'year': '1957-03-04'},\n",
       "   {'title': 'Young Man With a Horn', 'year': '1952'},\n",
       "   {'title': 'Blue Period', 'year': '1953'},\n",
       "   {'title': 'Miles Davis Quartet', 'year': '1954'},\n",
       "   {'title': 'Milestones', 'year': '1958'},\n",
       "   {'title': 'The New Sounds', 'year': '1951-10-05'},\n",
       "   {'title': \"Bags' Groove\", 'year': '1957'},\n",
       "   {'title': 'The Musings of Miles', 'year': '1955'}]}]"
      ]
     },
     "execution_count": 55,
     "metadata": {},
     "output_type": "execute_result"
    }
   ],
   "source": [
    "# single artist discography\n",
    "\n",
    "pipeline = [{\"$match\": {'artist-credit-phrase': 'Miles Davis'}},\n",
    "            {\"$group\": {\"_id\": {\"artist\": \"$artist-credit-phrase\"}, \"release\": {\"$push\": {\"title\": \"$title\", \"year\": \"$date\"}}}},\n",
    "            {\"$sort\": {\"year\":1, \"title\":1}}]\n",
    "discography = list(releases.aggregate(pipeline, allowDiskUse=True))\n",
    "discography"
   ]
  },
  {
   "cell_type": "code",
   "execution_count": 56,
   "metadata": {},
   "outputs": [
    {
     "data": {
      "text/plain": [
       "[{'_id': {'artist': 'Gerry Mulligan & Bob Brookmeyer'},\n",
       "  'release': [{'title': 'Jazz Concerto Grosso', 'year': '1958'}]},\n",
       " {'_id': {'artist': 'Annie Ross & Gerry Mulligan'},\n",
       "  'release': [{'title': 'Sings a Song With Mulligan', 'year': '1959'}]},\n",
       " {'_id': {'artist': 'Barron Mingus and his Rhythm'},\n",
       "  'release': [{'title': \"Pennies From Heaven / Lyon's Roar\", 'year': '1949'}]},\n",
       " {'_id': {'artist': 'Baron Mingus and his Octet'},\n",
       "  'release': [{'title': 'Make Believe / Bedspread', 'year': '1946'},\n",
       "   {'title': 'Honey Take a Chance With Me / This Subdues My Passion',\n",
       "    'year': '1946'}]},\n",
       " {'_id': {'artist': 'Charlie Mingus and orchestra / Roy Porter and Orchestra'},\n",
       "  'release': [{'title': \"The Story of Love / Don't Blame Me\",\n",
       "    'year': '1949'}]},\n",
       " {'_id': {'artist': 'Strings and Keys'},\n",
       "  'release': [{'title': 'Strings and Keys', 'year': '1953'}]},\n",
       " {'_id': {'artist': 'Charles Mingus & John LaPorta'},\n",
       "  'release': [{'title': 'Jazzical Moods, Volume 2', 'year': '1955'},\n",
       "   {'title': 'Jazzical Moods, Volume 1', 'year': '1955'}]},\n",
       " {'_id': {'artist': 'Lady Will Carr and her Trio / Lady Will Carr with Baron Mingus and his Octet Instrumental'},\n",
       "  'release': [{'title': 'After Hours / Pipe Dream', 'year': '1946'}]},\n",
       " {'_id': {'artist': 'Baron Mingus and his Rhythm'},\n",
       "  'release': [{'title': \"Say It Isn't So / Boppin 'n Boston\", 'year': '1948'},\n",
       "   {'title': \"Mingus Finger's / These Foolish Things Remind Me of You\",\n",
       "    'year': '1948'}]},\n",
       " {'_id': {'artist': \"Charles Mingus & His Orchestra / Barney Kessel's All Stars\"},\n",
       "  'release': [{'title': 'Shuffle Bass Boogie / Atom Buster', 'year': '1949'}]}]"
      ]
     },
     "execution_count": 56,
     "metadata": {},
     "output_type": "execute_result"
    }
   ],
   "source": [
    "# complete collection discography\n",
    "\n",
    "pipeline = [{\"$match\": {'artist-credit-phrase': {\"$exists\": 'True'}}},\n",
    "            {\"$group\": {\"_id\": {\"artist\": \"$artist-credit-phrase\"}, \"release\": {\"$push\": {\"title\": \"$title\", \"year\": \"$date\"}}}},\n",
    "            {\"$sort\": {\"artist\":1, \"year\":1, \"title\":1}},\n",
    "            {\"$limit\": 10 }]\n",
    "discography = list(releases.aggregate(pipeline, allowDiskUse=True))\n",
    "discography"
   ]
  },
  {
   "cell_type": "code",
   "execution_count": null,
   "metadata": {
    "collapsed": true
   },
   "outputs": [],
   "source": []
  }
 ],
 "metadata": {
  "kernelspec": {
   "display_name": "Python 3",
   "language": "python",
   "name": "python3"
  },
  "language_info": {
   "codemirror_mode": {
    "name": "ipython",
    "version": 3
   },
   "file_extension": ".py",
   "mimetype": "text/x-python",
   "name": "python",
   "nbconvert_exporter": "python",
   "pygments_lexer": "ipython3",
   "version": "3.6.1"
  }
 },
 "nbformat": 4,
 "nbformat_minor": 2
}
