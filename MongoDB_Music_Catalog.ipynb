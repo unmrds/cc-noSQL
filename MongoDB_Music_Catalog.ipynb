{
 "cells": [
  {
   "cell_type": "code",
   "execution_count": 62,
   "metadata": {},
   "outputs": [],
   "source": [
    "#!pip install musicbrainzngs\n",
    "#!pip install pymongo"
   ]
  },
  {
   "cell_type": "code",
   "execution_count": 76,
   "metadata": {
    "collapsed": true
   },
   "outputs": [],
   "source": [
    "import os\n",
    "import time\n",
    "import pprint\n",
    "import datetime\n",
    "from pymongo import MongoClient, IndexModel, ASCENDING, DESCENDING\n",
    "import musicbrainzngs\n",
    "from musicbrainzngs import *"
   ]
  },
  {
   "cell_type": "code",
   "execution_count": 77,
   "metadata": {
    "collapsed": true
   },
   "outputs": [],
   "source": [
    "# Config musicbrainz\n",
    "# https://musicbrainz.org/doc/Development/XML_Web_Service/Version_1\n",
    "\n",
    "musicbrainzngs.set_useragent(app=\"coffeecode\", version=1, contact=None)"
   ]
  },
  {
   "cell_type": "code",
   "execution_count": 78,
   "metadata": {
    "collapsed": true
   },
   "outputs": [],
   "source": [
    "# Connect to MongoDB\n",
    "\n",
    "client = MongoClient('localhost', 27017)"
   ]
  },
  {
   "cell_type": "code",
   "execution_count": 79,
   "metadata": {
    "collapsed": true
   },
   "outputs": [],
   "source": [
    "# Create db\n",
    "\n",
    "db = client.jazz_catalog"
   ]
  },
  {
   "cell_type": "code",
   "execution_count": 80,
   "metadata": {
    "collapsed": true
   },
   "outputs": [],
   "source": [
    "# Create three collections\n",
    "# Note that due to network limitations we will use only a subset of available Musicbrainz metadata\n",
    "\n",
    "db.drop_collection('artists')\n",
    "artists = db.artists\n",
    "\n",
    "db.drop_collection('releases')\n",
    "releases = db.releases\n",
    "\n",
    "db.drop_collection('labels')\n",
    "labels = db.labels"
   ]
  },
  {
   "cell_type": "code",
   "execution_count": 81,
   "metadata": {
    "collapsed": true
   },
   "outputs": [],
   "source": [
    "# search for an artist\n",
    "\n",
    "seedArtist = musicbrainzngs.search_artists(\"miles davis\")"
   ]
  },
  {
   "cell_type": "code",
   "execution_count": 82,
   "metadata": {},
   "outputs": [
    {
     "name": "stdout",
     "output_type": "stream",
     "text": [
      "Miles Davis, 561d854a-6a28-4aa7-8c99-323e6ce46c2a\n",
      "Miles Davis Quintet, fe7245e7-d734-4ca1-8e26-691883f58201\n",
      "The Miles Davis Nonet, 16d2b8e6-8930-4c9e-856f-e6d096479350\n",
      "Miles Davis Sextet, f137837b-fa55-48d1-8c85-f13961b3ac77\n",
      "Miles Davis Quartet, 03606dee-b333-48fe-b9af-d671c837d40f\n",
      "Miles Davis Septet, 88130878-7ee9-4ce2-b24b-1dd9da898030\n",
      "Miles Davis Moody, d74d6350-a042-4202-b4fd-2a05918a06be\n",
      "Miles Davis All Stars, 607d7275-2b92-49e5-a7ee-32f9cc29b076\n",
      "Miles Davis + 19, 72f2e1fe-dc92-4011-93d7-2fb6aff4a2bd\n",
      "The Miles Davis / Tadd Dameron Quintet, 7103c200-fd5c-4890-8685-5328a055f7ba\n",
      "Miles!, f2b73b53-3414-4883-b014-622ab6917215\n",
      "Miles Davis and His Orchestra, c52ff92e-b338-4815-bd63-4e9b89795e84\n",
      "Miles Davis All Star Sextet, 47c342e2-5c5f-4b5a-b919-8e0ffc329272\n",
      "The Shoes Of Miles Davis, addd7107-3955-4461-a62c-0b346feb5450\n",
      "Miles Davis & The Modern Jazz Giants, e1b6e38e-ab75-43fc-b994-bfeea9bc7626\n",
      "Miles Davis and the Lighthouse All-Stars, 4cd1a02d-9645-4172-8d45-e468e097c23b\n",
      "Conrad Roberts, 6f1ce5fe-856a-49ed-b042-09c091d00fc0\n",
      "J.R., cab167c8-4c39-44af-a0c4-c32ab86dd680\n",
      "Miles, 011249fd-90de-469a-8e6a-605c8bc90828\n",
      "Miles, 86b0cc66-a7d7-4f4d-b59f-b897cc15d3bb\n",
      "Smiles Davis, 0435916b-88f9-41a6-8919-6ec36845dcc3\n",
      "Miles, bfd8a02f-83f6-46ae-89ca-9d21ed2a78c2\n",
      "Miles, 7c7b51e4-40b9-416a-aba8-6a7ffe2f111e\n",
      "Miles, 28c42c8f-438c-4997-895b-1ef52cf5d9ca\n",
      "Robert Miles, e83144dd-bb95-49fe-b1dd-00bab25cca9e\n"
     ]
    }
   ],
   "source": [
    "for artist in seedArtist['artist-list']:\n",
    "    print(\"{name}, {id}\".format(name=artist['name'], id=artist['id']))"
   ]
  },
  {
   "cell_type": "code",
   "execution_count": 83,
   "metadata": {},
   "outputs": [
    {
     "data": {
      "text/plain": [
       "'label_id'"
      ]
     },
     "execution_count": 83,
     "metadata": {},
     "output_type": "execute_result"
    }
   ],
   "source": [
    "# Create indexes for mongodb collections\n",
    "# on ID field, enforce uniqueness constraint\n",
    "\n",
    "db.artists.create_index('id', name='artist_id', unique=True)\n",
    "db.releases.create_index('id', name='release_id', unique=True)\n",
    "db.labels.create_index('id', name='label_id', unique=True)"
   ]
  },
  {
   "cell_type": "code",
   "execution_count": 84,
   "metadata": {},
   "outputs": [
    {
     "name": "stdout",
     "output_type": "stream",
     "text": [
      "{'artist': {'area': {'id': '489ce91b-6658-3307-9877-795b68554c98',\n",
      "                     'iso-3166-1-code-list': ['US'],\n",
      "                     'name': 'United States',\n",
      "                     'sort-name': 'United States'},\n",
      "            'begin-area': {'id': '39e1719e-2604-4b59-b698-dab7caf85b33',\n",
      "                           'name': 'Alton',\n",
      "                           'sort-name': 'Alton'},\n",
      "            'country': 'US',\n",
      "            'disambiguation': 'jazz trumpeter, bandleader, songwriter',\n",
      "            'end-area': {'id': 'dbacf2e3-7e3e-4cee-8804-999b109285fa',\n",
      "                         'name': 'Santa Monica',\n",
      "                         'sort-name': 'Santa Monica'},\n",
      "            'gender': 'Male',\n",
      "            'id': '561d854a-6a28-4aa7-8c99-323e6ce46c2a',\n",
      "            'ipi': '00007619785',\n",
      "            'ipi-list': ['00007619785'],\n",
      "            'isni-list': ['000000012144707X'],\n",
      "            'life-span': {'begin': '1926-05-26',\n",
      "                          'end': '1991-09-28',\n",
      "                          'ended': 'true'},\n",
      "            'name': 'Miles Davis',\n",
      "            'sort-name': 'Davis, Miles',\n",
      "            'type': 'Person'}}\n",
      "{'artist': {'area': {'id': '489ce91b-6658-3307-9877-795b68554c98',\n",
      "                     'iso-3166-1-code-list': ['US'],\n",
      "                     'name': 'United States',\n",
      "                     'sort-name': 'United States'},\n",
      "            'begin-area': {'id': '489ce91b-6658-3307-9877-795b68554c98',\n",
      "                           'iso-3166-1-code-list': ['US'],\n",
      "                           'name': 'United States',\n",
      "                           'sort-name': 'United States'},\n",
      "            'country': 'US',\n",
      "            'disambiguation': 'US jazz group 1955-58, and 1964-68',\n",
      "            'end-area': {'id': '489ce91b-6658-3307-9877-795b68554c98',\n",
      "                         'iso-3166-1-code-list': ['US'],\n",
      "                         'name': 'United States',\n",
      "                         'sort-name': 'United States'},\n",
      "            'id': 'fe7245e7-d734-4ca1-8e26-691883f58201',\n",
      "            'isni-list': ['0000000110083450'],\n",
      "            'life-span': {'begin': '1955', 'end': '1968', 'ended': 'true'},\n",
      "            'name': 'Miles Davis Quintet',\n",
      "            'sort-name': 'Davis, Miles, Quintet',\n",
      "            'type': 'Group'}}\n"
     ]
    }
   ],
   "source": [
    "# Get artist info for top two\n",
    "# Insert into db.artists\n",
    "\n",
    "for artist in seedArtist['artist-list'][:2]:\n",
    "    mbid = artist['id']\n",
    "    artist_info = musicbrainzngs.get_artist_by_id(mbid)\n",
    "    pprint.pprint(artist_info)"
   ]
  },
  {
   "cell_type": "code",
   "execution_count": 85,
   "metadata": {},
   "outputs": [],
   "source": [
    "for artist in seedArtist['artist-list'][:2]:\n",
    "    mbid = artist['id']\n",
    "    artist_info = musicbrainzngs.get_artist_by_id(mbid)\n",
    "    artists.insert_one(artist_info['artist'])"
   ]
  },
  {
   "cell_type": "code",
   "execution_count": 86,
   "metadata": {},
   "outputs": [
    {
     "name": "stdout",
     "output_type": "stream",
     "text": [
      "E11000 duplicate key error collection: jazz_catalog.artists index: artist_id dup key: { : \"561d854a-6a28-4aa7-8c99-323e6ce46c2a\" }\n",
      "E11000 duplicate key error collection: jazz_catalog.artists index: artist_id dup key: { : \"fe7245e7-d734-4ca1-8e26-691883f58201\" }\n"
     ]
    }
   ],
   "source": [
    "# Try again to check uniqueness constraint\n",
    "\n",
    "for artist in seedArtist['artist-list'][:2]:\n",
    "    mbid = artist['id']\n",
    "    artist_info = musicbrainzngs.get_artist_by_id(mbid)\n",
    "    try:\n",
    "        artists.insert_one(artist_info['artist'])\n",
    "    except Exception as e:\n",
    "        print(e)"
   ]
  },
  {
   "cell_type": "code",
   "execution_count": 100,
   "metadata": {},
   "outputs": [
    {
     "data": {
      "text/plain": [
       "2"
      ]
     },
     "execution_count": 100,
     "metadata": {},
     "output_type": "execute_result"
    }
   ],
   "source": [
    "db.artists.count()"
   ]
  },
  {
   "cell_type": "code",
   "execution_count": 87,
   "metadata": {},
   "outputs": [
    {
     "name": "stdout",
     "output_type": "stream",
     "text": [
      "{'_id': ObjectId('5c06e40366267d2c60267001'),\n",
      " 'area': {'id': '489ce91b-6658-3307-9877-795b68554c98',\n",
      "          'iso-3166-1-code-list': ['US'],\n",
      "          'name': 'United States',\n",
      "          'sort-name': 'United States'},\n",
      " 'begin-area': {'id': '39e1719e-2604-4b59-b698-dab7caf85b33',\n",
      "                'name': 'Alton',\n",
      "                'sort-name': 'Alton'},\n",
      " 'country': 'US',\n",
      " 'disambiguation': 'jazz trumpeter, bandleader, songwriter',\n",
      " 'end-area': {'id': 'dbacf2e3-7e3e-4cee-8804-999b109285fa',\n",
      "              'name': 'Santa Monica',\n",
      "              'sort-name': 'Santa Monica'},\n",
      " 'gender': 'Male',\n",
      " 'id': '561d854a-6a28-4aa7-8c99-323e6ce46c2a',\n",
      " 'ipi': '00007619785',\n",
      " 'ipi-list': ['00007619785'],\n",
      " 'isni-list': ['000000012144707X'],\n",
      " 'life-span': {'begin': '1926-05-26', 'end': '1991-09-28', 'ended': 'true'},\n",
      " 'name': 'Miles Davis',\n",
      " 'sort-name': 'Davis, Miles',\n",
      " 'type': 'Person'}\n",
      "{'_id': ObjectId('5c06e40466267d2c60267002'),\n",
      " 'area': {'id': '489ce91b-6658-3307-9877-795b68554c98',\n",
      "          'iso-3166-1-code-list': ['US'],\n",
      "          'name': 'United States',\n",
      "          'sort-name': 'United States'},\n",
      " 'begin-area': {'id': '489ce91b-6658-3307-9877-795b68554c98',\n",
      "                'iso-3166-1-code-list': ['US'],\n",
      "                'name': 'United States',\n",
      "                'sort-name': 'United States'},\n",
      " 'country': 'US',\n",
      " 'disambiguation': 'US jazz group 1955-58, and 1964-68',\n",
      " 'end-area': {'id': '489ce91b-6658-3307-9877-795b68554c98',\n",
      "              'iso-3166-1-code-list': ['US'],\n",
      "              'name': 'United States',\n",
      "              'sort-name': 'United States'},\n",
      " 'id': 'fe7245e7-d734-4ca1-8e26-691883f58201',\n",
      " 'isni-list': ['0000000110083450'],\n",
      " 'life-span': {'begin': '1955', 'end': '1968', 'ended': 'true'},\n",
      " 'name': 'Miles Davis Quintet',\n",
      " 'sort-name': 'Davis, Miles, Quintet',\n",
      " 'type': 'Group'}\n"
     ]
    }
   ],
   "source": [
    "for a in artists.find():\n",
    "    pprint.pprint(a)"
   ]
  },
  {
   "cell_type": "code",
   "execution_count": 92,
   "metadata": {},
   "outputs": [],
   "source": [
    "# Get the first set of releases with 'Official' status\n",
    "# (keep result sets to default 25 to minimize network impact)\n",
    "# Make a second call for complete track info and\n",
    "# Insert response into mongodb releases collection\n",
    "\n",
    "for a in artists.find():\n",
    "    artist_id = a['id']\n",
    "    release_search = musicbrainzngs.get_artist_by_id(artist_id, includes=['releases',  'release-rels', 'label-rels'])\n",
    "    release_list = release_search['artist']['release-list']\n",
    "    for r in release_list:\n",
    "        if 'status' in r.keys():\n",
    "            if r['status'] == \"Official\":\n",
    "                release_id = r['id']\n",
    "                release_info = musicbrainzngs.get_release_by_id(release_id,\n",
    "                                                                includes=['recordings', 'recording-level-rels', 'artist-rels'])\n",
    "                try:\n",
    "                    releases.insert_one(release_info['release'])\n",
    "                except Exception as e:\n",
    "                    print(e)"
   ]
  },
  {
   "cell_type": "code",
   "execution_count": 99,
   "metadata": {},
   "outputs": [
    {
     "data": {
      "text/plain": [
       "45"
      ]
     },
     "execution_count": 99,
     "metadata": {},
     "output_type": "execute_result"
    }
   ],
   "source": [
    "db.releases.count()"
   ]
  },
  {
   "cell_type": "code",
   "execution_count": 108,
   "metadata": {
    "scrolled": false
   },
   "outputs": [],
   "source": [
    "a_release = releases.find_one()"
   ]
  },
  {
   "cell_type": "code",
   "execution_count": 113,
   "metadata": {},
   "outputs": [],
   "source": [
    "tracks = a_release['medium-list'][0]['track-list']"
   ]
  },
  {
   "cell_type": "code",
   "execution_count": 115,
   "metadata": {},
   "outputs": [],
   "source": [
    "media = a_release['medium-list']"
   ]
  },
  {
   "cell_type": "code",
   "execution_count": 116,
   "metadata": {},
   "outputs": [
    {
     "data": {
      "text/plain": [
       "1"
      ]
     },
     "execution_count": 116,
     "metadata": {},
     "output_type": "execute_result"
    }
   ],
   "source": [
    "len(media)"
   ]
  },
  {
   "cell_type": "code",
   "execution_count": 117,
   "metadata": {},
   "outputs": [
    {
     "name": "stdout",
     "output_type": "stream",
     "text": [
      "6\n"
     ]
    }
   ],
   "source": [
    "for each in media:\n",
    "    tracks = each['track-list']\n",
    "    print(len(tracks))"
   ]
  },
  {
   "cell_type": "code",
   "execution_count": 119,
   "metadata": {},
   "outputs": [],
   "source": [
    "tracks = media[0]['track-list']"
   ]
  },
  {
   "cell_type": "code",
   "execution_count": 120,
   "metadata": {},
   "outputs": [
    {
     "data": {
      "text/plain": [
       "{'id': '37e8f384-fd8f-3980-ab99-c69271a21204',\n",
       " 'length': '220360',\n",
       " 'number': '1',\n",
       " 'position': '1',\n",
       " 'recording': {'artist-relation-list': [{'artist': {'id': '534362cd-66ed-45a8-9cba-b847dbf75b6f',\n",
       "     'name': 'Percy Heath',\n",
       "     'sort-name': 'Heath, Percy'},\n",
       "    'attribute-list': ['bass'],\n",
       "    'attributes': [{'attribute': 'bass'}],\n",
       "    'begin': '1954-03-06',\n",
       "    'direction': 'backward',\n",
       "    'end': '1954-03-06',\n",
       "    'ended': 'true',\n",
       "    'target': '534362cd-66ed-45a8-9cba-b847dbf75b6f',\n",
       "    'type': 'instrument',\n",
       "    'type-id': '59054b12-01ac-43ee-a618-285fd397e461'},\n",
       "   {'artist': {'disambiguation': 'jazz trumpeter, bandleader, songwriter',\n",
       "     'id': '561d854a-6a28-4aa7-8c99-323e6ce46c2a',\n",
       "     'name': 'Miles Davis',\n",
       "     'sort-name': 'Davis, Miles'},\n",
       "    'attribute-list': ['trumpet'],\n",
       "    'attributes': [{'attribute': 'trumpet'}],\n",
       "    'begin': '1954-03-06',\n",
       "    'direction': 'backward',\n",
       "    'end': '1954-03-06',\n",
       "    'ended': 'true',\n",
       "    'target': '561d854a-6a28-4aa7-8c99-323e6ce46c2a',\n",
       "    'type': 'instrument',\n",
       "    'type-id': '59054b12-01ac-43ee-a618-285fd397e461'},\n",
       "   {'artist': {'id': '601e7466-eaf5-4a91-9909-ffd770b7e04a',\n",
       "     'name': 'Art Blakey',\n",
       "     'sort-name': 'Blakey, Art'},\n",
       "    'attribute-list': ['drums (drum set)'],\n",
       "    'attributes': [{'attribute': 'drums (drum set)'}],\n",
       "    'begin': '1954-03-06',\n",
       "    'direction': 'backward',\n",
       "    'end': '1954-03-06',\n",
       "    'ended': 'true',\n",
       "    'target': '601e7466-eaf5-4a91-9909-ffd770b7e04a',\n",
       "    'type': 'instrument',\n",
       "    'type-id': '59054b12-01ac-43ee-a618-285fd397e461'},\n",
       "   {'artist': {'id': 'c332fcf2-cc5c-424e-a5ea-317b31f6c035',\n",
       "     'name': 'Alfred Lion',\n",
       "     'sort-name': 'Lion, Alfred'},\n",
       "    'direction': 'backward',\n",
       "    'target': 'c332fcf2-cc5c-424e-a5ea-317b31f6c035',\n",
       "    'type': 'producer',\n",
       "    'type-id': '5c0ceac3-feb4-41f0-868d-dc06f6e27fc0'},\n",
       "   {'artist': {'id': 'd185d986-ee96-4fd3-bd61-8c848a4765b6',\n",
       "     'name': 'Horace Silver',\n",
       "     'sort-name': 'Silver, Horace'},\n",
       "    'attribute-list': ['piano'],\n",
       "    'attributes': [{'attribute': 'piano'}],\n",
       "    'begin': '1954-03-06',\n",
       "    'direction': 'backward',\n",
       "    'end': '1954-03-06',\n",
       "    'ended': 'true',\n",
       "    'target': 'd185d986-ee96-4fd3-bd61-8c848a4765b6',\n",
       "    'type': 'instrument',\n",
       "    'type-id': '59054b12-01ac-43ee-a618-285fd397e461'}],\n",
       "  'id': 'd94bc993-7d18-4bb9-a95e-a1eb2ed309d4',\n",
       "  'length': '220360',\n",
       "  'title': 'Take Off'},\n",
       " 'track_or_recording_length': '220360'}"
      ]
     },
     "execution_count": 120,
     "metadata": {},
     "output_type": "execute_result"
    }
   ],
   "source": [
    "tracks[0]"
   ]
  },
  {
   "cell_type": "code",
   "execution_count": 122,
   "metadata": {},
   "outputs": [],
   "source": [
    "# avoid duplicate requests later - make a set of IDs\n",
    "\n",
    "artist_ids = set()\n",
    "artist_count = 0\n",
    "\n",
    "for each in tracks:\n",
    "    if 'recording' in each.keys():\n",
    "        if 'artist-relation-list' in each['recording'].keys():\n",
    "            artist_list = each['recording']['artist-relation-list']\n",
    "            for a in artist_list:\n",
    "                artist_count += 1\n",
    "                artist_id = a['artist']['id']\n",
    "                artist_name = a['artist']['name']\n",
    "                artist_ids.add(artist_id)"
   ]
  },
  {
   "cell_type": "code",
   "execution_count": 123,
   "metadata": {},
   "outputs": [
    {
     "name": "stdout",
     "output_type": "stream",
     "text": [
      "15\n"
     ]
    }
   ],
   "source": [
    "print(artist_count)"
   ]
  },
  {
   "cell_type": "code",
   "execution_count": 124,
   "metadata": {},
   "outputs": [
    {
     "data": {
      "text/plain": [
       "5"
      ]
     },
     "execution_count": 124,
     "metadata": {},
     "output_type": "execute_result"
    }
   ],
   "source": [
    "len(artist_ids)"
   ]
  },
  {
   "cell_type": "code",
   "execution_count": 125,
   "metadata": {},
   "outputs": [
    {
     "data": {
      "text/plain": [
       "{'534362cd-66ed-45a8-9cba-b847dbf75b6f',\n",
       " '561d854a-6a28-4aa7-8c99-323e6ce46c2a',\n",
       " '601e7466-eaf5-4a91-9909-ffd770b7e04a',\n",
       " 'c332fcf2-cc5c-424e-a5ea-317b31f6c035',\n",
       " 'd185d986-ee96-4fd3-bd61-8c848a4765b6'}"
      ]
     },
     "execution_count": 125,
     "metadata": {},
     "output_type": "execute_result"
    }
   ],
   "source": [
    "artist_ids"
   ]
  },
  {
   "cell_type": "code",
   "execution_count": 127,
   "metadata": {},
   "outputs": [
    {
     "data": {
      "text/plain": [
       "['561d854a-6a28-4aa7-8c99-323e6ce46c2a',\n",
       " 'fe7245e7-d734-4ca1-8e26-691883f58201']"
      ]
     },
     "execution_count": 127,
     "metadata": {},
     "output_type": "execute_result"
    }
   ],
   "source": [
    "artists.distinct('id')"
   ]
  },
  {
   "cell_type": "code",
   "execution_count": 128,
   "metadata": {
    "collapsed": true
   },
   "outputs": [],
   "source": [
    "current_artist_ids = set(artists.distinct('id'))"
   ]
  },
  {
   "cell_type": "code",
   "execution_count": 131,
   "metadata": {
    "collapsed": true
   },
   "outputs": [],
   "source": [
    "new_artist_search_ids = artist_ids - current_artist_ids"
   ]
  },
  {
   "cell_type": "code",
   "execution_count": 132,
   "metadata": {},
   "outputs": [
    {
     "data": {
      "text/plain": [
       "{'534362cd-66ed-45a8-9cba-b847dbf75b6f',\n",
       " '601e7466-eaf5-4a91-9909-ffd770b7e04a',\n",
       " 'c332fcf2-cc5c-424e-a5ea-317b31f6c035',\n",
       " 'd185d986-ee96-4fd3-bd61-8c848a4765b6'}"
      ]
     },
     "execution_count": 132,
     "metadata": {},
     "output_type": "execute_result"
    }
   ],
   "source": [
    "new_artist_search_ids"
   ]
  },
  {
   "cell_type": "code",
   "execution_count": 133,
   "metadata": {
    "collapsed": true
   },
   "outputs": [],
   "source": [
    "# so now get all artists info for all tracks on all releases\n",
    "\n",
    "artist_ids = set()\n",
    "artist_count = 0\n",
    "\n",
    "for r in releases.find():\n",
    "    if 'medium-list' in r:\n",
    "        media = r['medium-list']\n",
    "        for m in media:\n",
    "            if 'track-list' in m:\n",
    "                tracks = m['track-list']\n",
    "                for each in tracks:\n",
    "                    if 'recording' in each.keys():\n",
    "                        if 'artist-relation-list' in each['recording'].keys():\n",
    "                            artist_list = each['recording']['artist-relation-list']\n",
    "                            for a in artist_list:\n",
    "                                artist_count += 1\n",
    "                                artist_id = a['artist']['id']\n",
    "                                artist_ids.add(artist_id)"
   ]
  },
  {
   "cell_type": "code",
   "execution_count": 134,
   "metadata": {},
   "outputs": [
    {
     "data": {
      "text/plain": [
       "1455"
      ]
     },
     "execution_count": 134,
     "metadata": {},
     "output_type": "execute_result"
    }
   ],
   "source": [
    "artist_count"
   ]
  },
  {
   "cell_type": "code",
   "execution_count": 136,
   "metadata": {},
   "outputs": [
    {
     "data": {
      "text/plain": [
       "86"
      ]
     },
     "execution_count": 136,
     "metadata": {},
     "output_type": "execute_result"
    }
   ],
   "source": [
    "len(artist_ids)"
   ]
  },
  {
   "cell_type": "code",
   "execution_count": null,
   "metadata": {
    "collapsed": true
   },
   "outputs": [],
   "source": []
  }
 ],
 "metadata": {
  "kernelspec": {
   "display_name": "Python 3",
   "language": "python",
   "name": "python3"
  },
  "language_info": {
   "codemirror_mode": {
    "name": "ipython",
    "version": 3
   },
   "file_extension": ".py",
   "mimetype": "text/x-python",
   "name": "python",
   "nbconvert_exporter": "python",
   "pygments_lexer": "ipython3",
   "version": "3.6.1"
  }
 },
 "nbformat": 4,
 "nbformat_minor": 2
}
