{
 "cells": [
  {
   "cell_type": "code",
   "execution_count": 2,
   "metadata": {},
   "outputs": [],
   "source": [
    "#!pip3 install neo4j-driver\n",
    "#!pip3 install py2neo\n",
    "#!pip3 install neo4j-driver===1.6.2"
   ]
  },
  {
   "cell_type": "code",
   "execution_count": 3,
   "metadata": {
    "collapsed": true
   },
   "outputs": [],
   "source": [
    "from neo4j import *\n",
    "from py2neo import *\n",
    "from pymongo import MongoClient"
   ]
  },
  {
   "cell_type": "code",
   "execution_count": 4,
   "metadata": {
    "collapsed": true
   },
   "outputs": [],
   "source": [
    "# http://localhost:7474\n",
    "# default password: neo4j\n",
    "# updated password: neo4j2\n",
    "\n",
    "# https://neo4j.com/docs/cypher-refcard/3.2/\n",
    "# https://neo4j.com/docs/cypher-manual/3.5/"
   ]
  },
  {
   "cell_type": "code",
   "execution_count": 5,
   "metadata": {
    "collapsed": true
   },
   "outputs": [],
   "source": [
    "db = Database(\"http://localhost:7474/db/data/\", user=\"neo4j\", password=\"neo4j2\")"
   ]
  },
  {
   "cell_type": "code",
   "execution_count": 6,
   "metadata": {
    "collapsed": true
   },
   "outputs": [],
   "source": [
    "from py2neo import Graph, Path\n",
    "graph = Graph(password=\"neo4j2\")"
   ]
  },
  {
   "cell_type": "code",
   "execution_count": 7,
   "metadata": {
    "collapsed": true
   },
   "outputs": [],
   "source": [
    "client = MongoClient('localhost', 27017)"
   ]
  },
  {
   "cell_type": "code",
   "execution_count": 8,
   "metadata": {
    "collapsed": true
   },
   "outputs": [],
   "source": [
    "db = client.jazz_catalog"
   ]
  },
  {
   "cell_type": "code",
   "execution_count": 9,
   "metadata": {},
   "outputs": [
    {
     "data": {
      "text/plain": [
       "1504"
      ]
     },
     "execution_count": 9,
     "metadata": {},
     "output_type": "execute_result"
    }
   ],
   "source": [
    "db.artists.count()"
   ]
  },
  {
   "cell_type": "code",
   "execution_count": 10,
   "metadata": {
    "collapsed": true
   },
   "outputs": [],
   "source": [
    "# use MERGE for unique\n",
    "\n",
    "for artist in db.artists.find():\n",
    "    graph.run(\"MERGE (artist:Artist {name:{name}, id:{id}}) RETURN artist\", name=artist['name'], id=artist['id'])"
   ]
  },
  {
   "cell_type": "code",
   "execution_count": 11,
   "metadata": {
    "collapsed": true
   },
   "outputs": [],
   "source": [
    "c = graph.run(\"MATCH (n:Artist) WHERE n.name = 'Miles Davis' RETURN n.id\")"
   ]
  },
  {
   "cell_type": "code",
   "execution_count": 12,
   "metadata": {},
   "outputs": [
    {
     "name": "stdout",
     "output_type": "stream",
     "text": [
      "<Record n.id='561d854a-6a28-4aa7-8c99-323e6ce46c2a'>\n"
     ]
    }
   ],
   "source": [
    "for i in c:\n",
    "    print(i)"
   ]
  },
  {
   "cell_type": "code",
   "execution_count": 13,
   "metadata": {
    "collapsed": true
   },
   "outputs": [],
   "source": [
    "# MERGE (instrument:Instrument {name: 'trumpet'}) RETURN instrument.name\n",
    "# MATCH (a:Artist),(b:Instrument) \n",
    "# WHERE a.name = 'Miles Davis' AND b.name = 'trumpet' MERGE (a)-[r:PLAYS { name: a.name + '->' + b.name }]->(b) RETURN type(r), r.name"
   ]
  },
  {
   "cell_type": "code",
   "execution_count": 14,
   "metadata": {
    "collapsed": true
   },
   "outputs": [],
   "source": [
    "# set instruments for artists\n",
    "# create node for instruments and add 'plays' relationship\n",
    "\n",
    "run_merge = \"MERGE (instrument:Instrument {name: {name}}) RETURN instrument.name\"\n",
    "run_match = \"MATCH (a:Artist), (b:Instrument) WHERE a.id = {aid} AND b.name = {name} MERGE (a)-[r:PLAYS {name: a.name + '->' + b.name}]->(b)\"\n",
    "\n",
    "for r in db.releases.find():\n",
    "    if 'medium-list' in r:\n",
    "        media = r['medium-list']\n",
    "        for m in media:\n",
    "            if 'track-list' in m:\n",
    "                tracks = m['track-list']\n",
    "                for each in tracks:\n",
    "                    if 'recording' in each.keys():\n",
    "                        if 'artist-relation-list' in each['recording'].keys():\n",
    "                            artist_list = each['recording']['artist-relation-list']\n",
    "                            for a in artist_list:\n",
    "                                artist_id = a['artist']['id']\n",
    "                                if 'attribute-list' in a.keys():\n",
    "                                    instruments = a['attribute-list']\n",
    "                                    for inst in instruments:\n",
    "                                        graph.run(run_merge, name=inst)\n",
    "                                        graph.run(run_match, aid=artist_id, name=inst)\n",
    "                                "
   ]
  },
  {
   "cell_type": "markdown",
   "metadata": {
    "collapsed": true
   },
   "source": [
    "## CRUD Operations\n",
    "\n",
    "The basic operations can be demonstrated in the Neo4j browser: [http://localhost:7474/browser/](http://localhost:7474/browser/).\n",
    "\n",
    "**Create**\n",
    "\n",
    "Neo4j's _Cypher_ query language provides a CREATE clause, but we use the MERGE statement to enforce uniqueness.\n",
    "\n",
    "```\n",
    "MERGE (artist:Artist {name: 'Billie Holiday', id: 'd59c4cda-11d9-48db-8bfe-b557ee602aed'}) RETURN artist\n",
    "\n",
    "MERGE (instrument:Instrument {name: 'voice'}) RETURN instrument\n",
    "\n",
    "MATCH (a:Artist), (b:Instrument) WHERE a.name = 'Billie Holiday' AND b.name = 'voice' MERGE (a)-[r:PLAYS {name: a.name + '->' + b.name}]->(b)\"\n",
    "```\n",
    "\n",
    "**Retrieve**\n",
    "\n",
    "```\n",
    "MATCH (n) RETURN n LIMIT 100\n",
    "\n",
    "MATCH (n:Instrument) RETURN n LIMIT 100\n",
    "\n",
    "MATCH (:Artist { name: 'Billie Holiday' })--(instrument) RETURN instrument.name\n",
    "\n",
    "MATCH (:Artist { name: 'Ron Carter' })--(instrument) RETURN instrument.name\n",
    "```\n",
    "\n",
    "That last query in pseudo-SQL:\n",
    "\n",
    "```\n",
    "SELECT artist.name, instrument.name\n",
    "FROM artist\n",
    "INNER JOIN instrument ON artist.id = instrument.artist_id\n",
    "WHERE artist.name == 'Ron Carter'\n",
    "```\n",
    "\n",
    "Retrieve relationships:\n",
    "\n",
    "```\n",
    "MATCH (:Artist { name: 'Billie Holiday' })-[r]->(instrument) RETURN type(r)\n",
    "\n",
    "MATCH (:Artist { name: 'Ron Carter' })-[r]->(instrument) RETURN type(r)\n",
    "\n",
    "MATCH p=(:Artist { name: 'Billie Holiday' })-[r:PLAYS]->() RETURN p\n",
    "\n",
    "MATCH p=(:Artist { name: 'Ron Carter' })-[r:PLAYS]->() RETURN p\n",
    "\n",
    "MATCH p=()-[r:PLAYS]->(:Instrument { name: 'bass' }) RETURN p LIMIT 50\n",
    "```\n",
    "\n",
    "**Update**\n",
    "\n"
   ]
  },
  {
   "cell_type": "code",
   "execution_count": null,
   "metadata": {
    "collapsed": true
   },
   "outputs": [],
   "source": []
  }
 ],
 "metadata": {
  "kernelspec": {
   "display_name": "Python 3",
   "language": "python",
   "name": "python3"
  },
  "language_info": {
   "codemirror_mode": {
    "name": "ipython",
    "version": 3
   },
   "file_extension": ".py",
   "mimetype": "text/x-python",
   "name": "python",
   "nbconvert_exporter": "python",
   "pygments_lexer": "ipython3",
   "version": "3.6.1"
  }
 },
 "nbformat": 4,
 "nbformat_minor": 2
}
