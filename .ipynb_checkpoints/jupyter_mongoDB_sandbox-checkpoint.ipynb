{
 "cells": [
  {
   "cell_type": "code",
   "execution_count": 77,
   "metadata": {
    "collapsed": true
   },
   "outputs": [],
   "source": [
    "#!pip install pymongo"
   ]
  },
  {
   "cell_type": "code",
   "execution_count": 78,
   "metadata": {
    "collapsed": true
   },
   "outputs": [],
   "source": [
    "import pandas as pd\n",
    "import os\n",
    "import time\n",
    "from pymongo import MongoClient\n",
    "\n",
    "# https://api.mongodb.com/python/current/tutorial.html\n",
    "# in a shell run 'docker run -p 27017:27017 --name jupyter-mongo -d mongo'\n",
    "# https://api.mongodb.com/python/current/api/pymongo/index.html"
   ]
  },
  {
   "cell_type": "code",
   "execution_count": 79,
   "metadata": {
    "collapsed": true
   },
   "outputs": [],
   "source": [
    "client = MongoClient('localhost', 27017)"
   ]
  },
  {
   "cell_type": "code",
   "execution_count": 80,
   "metadata": {
    "collapsed": true
   },
   "outputs": [],
   "source": [
    "db = client.test_database"
   ]
  },
  {
   "cell_type": "code",
   "execution_count": 81,
   "metadata": {
    "collapsed": true
   },
   "outputs": [],
   "source": [
    "import datetime"
   ]
  },
  {
   "cell_type": "code",
   "execution_count": 82,
   "metadata": {
    "collapsed": true
   },
   "outputs": [],
   "source": [
    "post = {\"author\": \"Mike\", \"text\": \"My first blog post!\", \"tags\": [\"mongodb\", \"python\", \"pymongo\"],\n",
    "        \"date\": datetime.datetime.utcnow()}"
   ]
  },
  {
   "cell_type": "code",
   "execution_count": 83,
   "metadata": {
    "collapsed": true
   },
   "outputs": [],
   "source": [
    "posts = db.posts"
   ]
  },
  {
   "cell_type": "code",
   "execution_count": 84,
   "metadata": {
    "collapsed": true
   },
   "outputs": [],
   "source": [
    "post_id = posts.insert_one(post).inserted_id"
   ]
  },
  {
   "cell_type": "code",
   "execution_count": 85,
   "metadata": {},
   "outputs": [
    {
     "data": {
      "text/plain": [
       "ObjectId('5c06c6df66267d29e44ba83c')"
      ]
     },
     "execution_count": 85,
     "metadata": {},
     "output_type": "execute_result"
    }
   ],
   "source": [
    "post_id"
   ]
  },
  {
   "cell_type": "code",
   "execution_count": 86,
   "metadata": {},
   "outputs": [
    {
     "data": {
      "text/plain": [
       "['posts']"
      ]
     },
     "execution_count": 86,
     "metadata": {},
     "output_type": "execute_result"
    }
   ],
   "source": [
    "db.collection_names(include_system_collections=False)"
   ]
  },
  {
   "cell_type": "code",
   "execution_count": 87,
   "metadata": {},
   "outputs": [
    {
     "data": {
      "text/plain": [
       "{'_id': ObjectId('5c06c6df66267d29e44ba83c'),\n",
       " 'author': 'Mike',\n",
       " 'date': datetime.datetime(2018, 12, 4, 18, 26, 39, 527000),\n",
       " 'tags': ['mongodb', 'python', 'pymongo'],\n",
       " 'text': 'My first blog post!'}"
      ]
     },
     "execution_count": 87,
     "metadata": {},
     "output_type": "execute_result"
    }
   ],
   "source": [
    "posts.find_one()"
   ]
  },
  {
   "cell_type": "code",
   "execution_count": 88,
   "metadata": {
    "collapsed": true
   },
   "outputs": [],
   "source": [
    "post = {\"author\": \"Mike\", \"text\": \"My second blog post!\", \"tags\": [\"mongodb\", \"python\", \"pymongo\"],\n",
    "        \"date\": datetime.datetime.utcnow()}\n",
    "post_id = posts.insert_one(post).inserted_id"
   ]
  },
  {
   "cell_type": "code",
   "execution_count": 89,
   "metadata": {
    "collapsed": true
   },
   "outputs": [],
   "source": [
    "post = {\"author\": \"Stacy\", \"text\": \"My third blog post!\", \"tags\": [\"mongodb\", \"python\", \"pymongo\"],\n",
    "        \"date\": datetime.datetime.utcnow()}\n",
    "post_id = posts.insert_one(post).inserted_id"
   ]
  },
  {
   "cell_type": "code",
   "execution_count": 90,
   "metadata": {},
   "outputs": [],
   "source": [
    "s1 = posts.find({\"author\": \"Mike\" })\n",
    "s2 = posts.find({\"author\": \"Stacy\" })\n",
    "s3 = posts.find({\"text\": {'$regex':'blog'} }) # note need regex for like matching\n",
    "s4 = posts.find({\"tags\": \"python\" })"
   ]
  },
  {
   "cell_type": "code",
   "execution_count": 91,
   "metadata": {},
   "outputs": [
    {
     "name": "stdout",
     "output_type": "stream",
     "text": [
      "{'_id': ObjectId('5c06c6df66267d29e44ba83c'), 'author': 'Mike', 'text': 'My first blog post!', 'tags': ['mongodb', 'python', 'pymongo'], 'date': datetime.datetime(2018, 12, 4, 18, 26, 39, 527000)}\n",
      "{'_id': ObjectId('5c06c6e066267d29e44ba83d'), 'author': 'Mike', 'text': 'My second blog post!', 'tags': ['mongodb', 'python', 'pymongo'], 'date': datetime.datetime(2018, 12, 4, 18, 26, 40, 376000)}\n"
     ]
    }
   ],
   "source": [
    "for i in s1:\n",
    "    print(i)"
   ]
  },
  {
   "cell_type": "code",
   "execution_count": 92,
   "metadata": {},
   "outputs": [
    {
     "name": "stdout",
     "output_type": "stream",
     "text": [
      "{'_id': ObjectId('5c06c6e066267d29e44ba83e'), 'author': 'Stacy', 'text': 'My third blog post!', 'tags': ['mongodb', 'python', 'pymongo'], 'date': datetime.datetime(2018, 12, 4, 18, 26, 40, 431000)}\n"
     ]
    }
   ],
   "source": [
    "for i in s2:\n",
    "    print(i)"
   ]
  },
  {
   "cell_type": "code",
   "execution_count": 93,
   "metadata": {},
   "outputs": [
    {
     "name": "stdout",
     "output_type": "stream",
     "text": [
      "{'_id': ObjectId('5c06c6df66267d29e44ba83c'), 'author': 'Mike', 'text': 'My first blog post!', 'tags': ['mongodb', 'python', 'pymongo'], 'date': datetime.datetime(2018, 12, 4, 18, 26, 39, 527000)}\n",
      "{'_id': ObjectId('5c06c6e066267d29e44ba83d'), 'author': 'Mike', 'text': 'My second blog post!', 'tags': ['mongodb', 'python', 'pymongo'], 'date': datetime.datetime(2018, 12, 4, 18, 26, 40, 376000)}\n",
      "{'_id': ObjectId('5c06c6e066267d29e44ba83e'), 'author': 'Stacy', 'text': 'My third blog post!', 'tags': ['mongodb', 'python', 'pymongo'], 'date': datetime.datetime(2018, 12, 4, 18, 26, 40, 431000)}\n"
     ]
    }
   ],
   "source": [
    "for i in s3:\n",
    "    print(i)"
   ]
  },
  {
   "cell_type": "code",
   "execution_count": 94,
   "metadata": {},
   "outputs": [
    {
     "name": "stdout",
     "output_type": "stream",
     "text": [
      "{'_id': ObjectId('5c06c6df66267d29e44ba83c'), 'author': 'Mike', 'text': 'My first blog post!', 'tags': ['mongodb', 'python', 'pymongo'], 'date': datetime.datetime(2018, 12, 4, 18, 26, 39, 527000)}\n",
      "{'_id': ObjectId('5c06c6e066267d29e44ba83d'), 'author': 'Mike', 'text': 'My second blog post!', 'tags': ['mongodb', 'python', 'pymongo'], 'date': datetime.datetime(2018, 12, 4, 18, 26, 40, 376000)}\n",
      "{'_id': ObjectId('5c06c6e066267d29e44ba83e'), 'author': 'Stacy', 'text': 'My third blog post!', 'tags': ['mongodb', 'python', 'pymongo'], 'date': datetime.datetime(2018, 12, 4, 18, 26, 40, 431000)}\n"
     ]
    }
   ],
   "source": [
    "for i in s4:\n",
    "    print(i)"
   ]
  },
  {
   "cell_type": "markdown",
   "metadata": {},
   "source": [
    "## CRUD"
   ]
  },
  {
   "cell_type": "code",
   "execution_count": 95,
   "metadata": {},
   "outputs": [
    {
     "data": {
      "text/plain": [
       "Collection(Database(MongoClient(host=['localhost:27017'], document_class=dict, tz_aware=False, connect=True), 'test_database'), 'posts')"
      ]
     },
     "execution_count": 95,
     "metadata": {},
     "output_type": "execute_result"
    }
   ],
   "source": [
    "# create and read are demonstrated above\n",
    "\n",
    "db.get_collection('posts')"
   ]
  },
  {
   "cell_type": "code",
   "execution_count": 96,
   "metadata": {},
   "outputs": [
    {
     "data": {
      "text/plain": [
       "['posts']"
      ]
     },
     "execution_count": 96,
     "metadata": {},
     "output_type": "execute_result"
    }
   ],
   "source": [
    "db.list_collection_names()"
   ]
  },
  {
   "cell_type": "code",
   "execution_count": 97,
   "metadata": {},
   "outputs": [
    {
     "data": {
      "text/plain": [
       "<pymongo.command_cursor.CommandCursor at 0x1b75bb1eeb8>"
      ]
     },
     "execution_count": 97,
     "metadata": {},
     "output_type": "execute_result"
    }
   ],
   "source": [
    "db.list_collections()"
   ]
  },
  {
   "cell_type": "code",
   "execution_count": 98,
   "metadata": {},
   "outputs": [
    {
     "data": {
      "text/plain": [
       "'posts'"
      ]
     },
     "execution_count": 98,
     "metadata": {},
     "output_type": "execute_result"
    }
   ],
   "source": [
    "posts.name"
   ]
  },
  {
   "cell_type": "code",
   "execution_count": 99,
   "metadata": {},
   "outputs": [
    {
     "data": {
      "text/plain": [
       "Database(MongoClient(host=['localhost:27017'], document_class=dict, tz_aware=False, connect=True), 'test_database')"
      ]
     },
     "execution_count": 99,
     "metadata": {},
     "output_type": "execute_result"
    }
   ],
   "source": [
    "posts.database"
   ]
  },
  {
   "cell_type": "code",
   "execution_count": 100,
   "metadata": {},
   "outputs": [],
   "source": [
    "# Update one\n",
    "\n",
    "update = db.posts.update_one({\"author\": \"Mike\"}, {'$set': {'author': 'Michael'}})"
   ]
  },
  {
   "cell_type": "code",
   "execution_count": 101,
   "metadata": {},
   "outputs": [
    {
     "name": "stdout",
     "output_type": "stream",
     "text": [
      "{'_id': ObjectId('5c06c6df66267d29e44ba83c'), 'author': 'Michael', 'text': 'My first blog post!', 'tags': ['mongodb', 'python', 'pymongo'], 'date': datetime.datetime(2018, 12, 4, 18, 26, 39, 527000)}\n",
      "{'_id': ObjectId('5c06c6e066267d29e44ba83d'), 'author': 'Mike', 'text': 'My second blog post!', 'tags': ['mongodb', 'python', 'pymongo'], 'date': datetime.datetime(2018, 12, 4, 18, 26, 40, 376000)}\n",
      "{'_id': ObjectId('5c06c6e066267d29e44ba83e'), 'author': 'Stacy', 'text': 'My third blog post!', 'tags': ['mongodb', 'python', 'pymongo'], 'date': datetime.datetime(2018, 12, 4, 18, 26, 40, 431000)}\n"
     ]
    }
   ],
   "source": [
    "for post in db.posts.find():\n",
    "    print(post)"
   ]
  },
  {
   "cell_type": "code",
   "execution_count": 102,
   "metadata": {
    "collapsed": true
   },
   "outputs": [],
   "source": [
    "update = db.posts.update_one({\"author\": \"Mike\"}, {'$set': {'text': 'One of many blog posts!'}})"
   ]
  },
  {
   "cell_type": "code",
   "execution_count": 103,
   "metadata": {},
   "outputs": [
    {
     "name": "stdout",
     "output_type": "stream",
     "text": [
      "{'_id': ObjectId('5c06c6df66267d29e44ba83c'), 'author': 'Michael', 'text': 'My first blog post!', 'tags': ['mongodb', 'python', 'pymongo'], 'date': datetime.datetime(2018, 12, 4, 18, 26, 39, 527000)}\n",
      "{'_id': ObjectId('5c06c6e066267d29e44ba83d'), 'author': 'Mike', 'text': 'One of many blog posts!', 'tags': ['mongodb', 'python', 'pymongo'], 'date': datetime.datetime(2018, 12, 4, 18, 26, 40, 376000)}\n",
      "{'_id': ObjectId('5c06c6e066267d29e44ba83e'), 'author': 'Stacy', 'text': 'My third blog post!', 'tags': ['mongodb', 'python', 'pymongo'], 'date': datetime.datetime(2018, 12, 4, 18, 26, 40, 431000)}\n"
     ]
    }
   ],
   "source": [
    "for post in db.posts.find():\n",
    "    print(post)"
   ]
  },
  {
   "cell_type": "code",
   "execution_count": 104,
   "metadata": {},
   "outputs": [],
   "source": [
    "update = db.posts.update_many({\"tags\": \"mongodb\"}, { '$addToSet': { 'tags': 'noSQL'} })"
   ]
  },
  {
   "cell_type": "code",
   "execution_count": 105,
   "metadata": {},
   "outputs": [
    {
     "name": "stdout",
     "output_type": "stream",
     "text": [
      "{'_id': ObjectId('5c06c6df66267d29e44ba83c'), 'author': 'Michael', 'text': 'My first blog post!', 'tags': ['mongodb', 'python', 'pymongo', 'noSQL'], 'date': datetime.datetime(2018, 12, 4, 18, 26, 39, 527000)}\n",
      "{'_id': ObjectId('5c06c6e066267d29e44ba83d'), 'author': 'Mike', 'text': 'One of many blog posts!', 'tags': ['mongodb', 'python', 'pymongo', 'noSQL'], 'date': datetime.datetime(2018, 12, 4, 18, 26, 40, 376000)}\n",
      "{'_id': ObjectId('5c06c6e066267d29e44ba83e'), 'author': 'Stacy', 'text': 'My third blog post!', 'tags': ['mongodb', 'python', 'pymongo', 'noSQL'], 'date': datetime.datetime(2018, 12, 4, 18, 26, 40, 431000)}\n"
     ]
    }
   ],
   "source": [
    "for post in db.posts.find():\n",
    "    print(post)"
   ]
  },
  {
   "cell_type": "code",
   "execution_count": 106,
   "metadata": {},
   "outputs": [],
   "source": [
    "update = db.posts.update_many({\"tags\": \"mongodb\"}, { '$currentDate': { 'date': True }})"
   ]
  },
  {
   "cell_type": "code",
   "execution_count": 107,
   "metadata": {},
   "outputs": [
    {
     "name": "stdout",
     "output_type": "stream",
     "text": [
      "{'_id': ObjectId('5c06c6df66267d29e44ba83c'), 'author': 'Michael', 'text': 'My first blog post!', 'tags': ['mongodb', 'python', 'pymongo', 'noSQL'], 'date': datetime.datetime(2018, 12, 4, 18, 26, 41, 477000)}\n",
      "{'_id': ObjectId('5c06c6e066267d29e44ba83d'), 'author': 'Mike', 'text': 'One of many blog posts!', 'tags': ['mongodb', 'python', 'pymongo', 'noSQL'], 'date': datetime.datetime(2018, 12, 4, 18, 26, 41, 477000)}\n",
      "{'_id': ObjectId('5c06c6e066267d29e44ba83e'), 'author': 'Stacy', 'text': 'My third blog post!', 'tags': ['mongodb', 'python', 'pymongo', 'noSQL'], 'date': datetime.datetime(2018, 12, 4, 18, 26, 41, 477000)}\n"
     ]
    }
   ],
   "source": [
    "for post in db.posts.find():\n",
    "    print(post)"
   ]
  },
  {
   "cell_type": "code",
   "execution_count": 108,
   "metadata": {
    "collapsed": true
   },
   "outputs": [],
   "source": [
    "# Delete\n",
    "\n",
    "delete = db.posts.delete_one({'tags': 'python'})"
   ]
  },
  {
   "cell_type": "code",
   "execution_count": 109,
   "metadata": {},
   "outputs": [
    {
     "name": "stdout",
     "output_type": "stream",
     "text": [
      "{'_id': ObjectId('5c06c6e066267d29e44ba83d'), 'author': 'Mike', 'text': 'One of many blog posts!', 'tags': ['mongodb', 'python', 'pymongo', 'noSQL'], 'date': datetime.datetime(2018, 12, 4, 18, 26, 41, 477000)}\n",
      "{'_id': ObjectId('5c06c6e066267d29e44ba83e'), 'author': 'Stacy', 'text': 'My third blog post!', 'tags': ['mongodb', 'python', 'pymongo', 'noSQL'], 'date': datetime.datetime(2018, 12, 4, 18, 26, 41, 477000)}\n"
     ]
    }
   ],
   "source": [
    "for post in db.posts.find():\n",
    "    print(post)"
   ]
  },
  {
   "cell_type": "code",
   "execution_count": 110,
   "metadata": {
    "collapsed": true
   },
   "outputs": [],
   "source": [
    "delete = db.posts.delete_many({'tags': 'python'})"
   ]
  },
  {
   "cell_type": "code",
   "execution_count": 111,
   "metadata": {
    "collapsed": true
   },
   "outputs": [],
   "source": [
    "for post in db.posts.find():\n",
    "    print(post)"
   ]
  },
  {
   "cell_type": "code",
   "execution_count": 112,
   "metadata": {},
   "outputs": [
    {
     "data": {
      "text/plain": [
       "{'nIndexesWas': 1, 'ns': 'test_database.posts', 'ok': 1.0}"
      ]
     },
     "execution_count": 112,
     "metadata": {},
     "output_type": "execute_result"
    }
   ],
   "source": [
    "db.drop_collection('posts')"
   ]
  },
  {
   "cell_type": "code",
   "execution_count": 114,
   "metadata": {},
   "outputs": [
    {
     "data": {
      "text/plain": [
       "Collection(Database(MongoClient(host=['localhost:27017'], document_class=dict, tz_aware=False, connect=True), 'test_database'), 'dropDatabase')"
      ]
     },
     "execution_count": 114,
     "metadata": {},
     "output_type": "execute_result"
    }
   ],
   "source": [
    "db.dropDatabase"
   ]
  },
  {
   "cell_type": "code",
   "execution_count": 117,
   "metadata": {},
   "outputs": [
    {
     "data": {
      "text/plain": [
       "['admin', 'config', 'local']"
      ]
     },
     "execution_count": 117,
     "metadata": {},
     "output_type": "execute_result"
    }
   ],
   "source": [
    "client.database_names()"
   ]
  },
  {
   "cell_type": "code",
   "execution_count": null,
   "metadata": {
    "collapsed": true
   },
   "outputs": [],
   "source": []
  }
 ],
 "metadata": {
  "kernelspec": {
   "display_name": "Python 3",
   "language": "python",
   "name": "python3"
  },
  "language_info": {
   "codemirror_mode": {
    "name": "ipython",
    "version": 3
   },
   "file_extension": ".py",
   "mimetype": "text/x-python",
   "name": "python",
   "nbconvert_exporter": "python",
   "pygments_lexer": "ipython3",
   "version": "3.6.1"
  }
 },
 "nbformat": 4,
 "nbformat_minor": 2
}
