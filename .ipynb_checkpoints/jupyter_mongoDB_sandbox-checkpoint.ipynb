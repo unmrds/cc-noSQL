{
 "cells": [
  {
   "cell_type": "code",
   "execution_count": null,
   "metadata": {
    "collapsed": true
   },
   "outputs": [],
   "source": [
    "#!pip install pymongo"
   ]
  },
  {
   "cell_type": "code",
   "execution_count": 1,
   "metadata": {
    "collapsed": true
   },
   "outputs": [],
   "source": [
    "import pandas as pd\n",
    "import os\n",
    "import time\n",
    "from pymongo import MongoClient\n",
    "\n",
    "# https://api.mongodb.com/python/current/tutorial.html\n",
    "# in a shell run 'docker run -p 27017:27017 --name jupyter-mongo -d mongo'\n",
    "# https://api.mongodb.com/python/current/api/pymongo/index.html"
   ]
  },
  {
   "cell_type": "code",
   "execution_count": 2,
   "metadata": {
    "collapsed": true
   },
   "outputs": [],
   "source": [
    "client = MongoClient('localhost', 27017)"
   ]
  },
  {
   "cell_type": "code",
   "execution_count": 3,
   "metadata": {
    "collapsed": true
   },
   "outputs": [],
   "source": [
    "db = client.test_database"
   ]
  },
  {
   "cell_type": "code",
   "execution_count": 4,
   "metadata": {
    "collapsed": true
   },
   "outputs": [],
   "source": [
    "import datetime"
   ]
  },
  {
   "cell_type": "code",
   "execution_count": 5,
   "metadata": {
    "collapsed": true
   },
   "outputs": [],
   "source": [
    "post = {\"author\": \"Mike\", \"text\": \"My first blog post!\", \"tags\": [\"mongodb\", \"python\", \"pymongo\"],\n",
    "        \"date\": datetime.datetime.utcnow()}"
   ]
  },
  {
   "cell_type": "code",
   "execution_count": 6,
   "metadata": {
    "collapsed": true
   },
   "outputs": [],
   "source": [
    "posts = db.posts"
   ]
  },
  {
   "cell_type": "code",
   "execution_count": 7,
   "metadata": {
    "collapsed": true
   },
   "outputs": [],
   "source": [
    "post_id = posts.insert_one(post).inserted_id"
   ]
  },
  {
   "cell_type": "code",
   "execution_count": 8,
   "metadata": {},
   "outputs": [
    {
     "data": {
      "text/plain": [
       "ObjectId('5c06bbbc66267d29e44ba838')"
      ]
     },
     "execution_count": 8,
     "metadata": {},
     "output_type": "execute_result"
    }
   ],
   "source": [
    "post_id"
   ]
  },
  {
   "cell_type": "code",
   "execution_count": 9,
   "metadata": {},
   "outputs": [
    {
     "data": {
      "text/plain": [
       "['posts']"
      ]
     },
     "execution_count": 9,
     "metadata": {},
     "output_type": "execute_result"
    }
   ],
   "source": [
    "db.collection_names(include_system_collections=False)"
   ]
  },
  {
   "cell_type": "code",
   "execution_count": 10,
   "metadata": {},
   "outputs": [
    {
     "data": {
      "text/plain": [
       "{'_id': ObjectId('5c06bbbc66267d29e44ba838'),\n",
       " 'author': 'Mike',\n",
       " 'date': datetime.datetime(2018, 12, 4, 17, 39, 5, 20000),\n",
       " 'tags': ['mongodb', 'python', 'pymongo'],\n",
       " 'text': 'My first blog post!'}"
      ]
     },
     "execution_count": 10,
     "metadata": {},
     "output_type": "execute_result"
    }
   ],
   "source": [
    "posts.find_one()"
   ]
  },
  {
   "cell_type": "code",
   "execution_count": 11,
   "metadata": {
    "collapsed": true
   },
   "outputs": [],
   "source": [
    "post = {\"author\": \"Mike\", \"text\": \"My second blog post!\", \"tags\": [\"mongodb\", \"python\", \"pymongo\"],\n",
    "        \"date\": datetime.datetime.utcnow()}\n",
    "post_id = posts.insert_one(post).inserted_id"
   ]
  },
  {
   "cell_type": "code",
   "execution_count": 12,
   "metadata": {
    "collapsed": true
   },
   "outputs": [],
   "source": [
    "post = {\"author\": \"Stacy\", \"text\": \"My third blog post!\", \"tags\": [\"mongodb\", \"python\", \"pymongo\"],\n",
    "        \"date\": datetime.datetime.utcnow()}\n",
    "post_id = posts.insert_one(post).inserted_id"
   ]
  },
  {
   "cell_type": "code",
   "execution_count": 45,
   "metadata": {},
   "outputs": [],
   "source": [
    "s1 = posts.find({\"author\": \"Mike\" })\n",
    "s2 = posts.find({\"author\": \"Stacy\" })\n",
    "s3 = posts.find({\"text\": {'$regex':'blog'} }) # note need regex for like matching\n",
    "s4 = posts.find({\"tags\": \"python\" })"
   ]
  },
  {
   "cell_type": "code",
   "execution_count": 46,
   "metadata": {},
   "outputs": [
    {
     "name": "stdout",
     "output_type": "stream",
     "text": [
      "{'_id': ObjectId('5c06bbbc66267d29e44ba838'), 'author': 'Mike', 'text': 'My first blog post!', 'tags': ['mongodb', 'python', 'pymongo'], 'date': datetime.datetime(2018, 12, 4, 17, 39, 5, 20000)}\n",
      "{'_id': ObjectId('5c06bc1066267d29e44ba839'), 'author': 'Mike', 'text': 'My second blog post!', 'tags': ['mongodb', 'python', 'pymongo'], 'date': datetime.datetime(2018, 12, 4, 17, 40, 32, 166000)}\n"
     ]
    }
   ],
   "source": [
    "for i in s1:\n",
    "    print(i)"
   ]
  },
  {
   "cell_type": "code",
   "execution_count": 47,
   "metadata": {},
   "outputs": [
    {
     "name": "stdout",
     "output_type": "stream",
     "text": [
      "{'_id': ObjectId('5c06bc2266267d29e44ba83a'), 'author': 'Stacy', 'text': 'My third blog post!', 'tags': ['mongodb', 'python', 'pymongo'], 'date': datetime.datetime(2018, 12, 4, 17, 40, 50, 789000)}\n"
     ]
    }
   ],
   "source": [
    "for i in s2:\n",
    "    print(i)"
   ]
  },
  {
   "cell_type": "code",
   "execution_count": 48,
   "metadata": {},
   "outputs": [
    {
     "name": "stdout",
     "output_type": "stream",
     "text": [
      "{'_id': ObjectId('5c06bbbc66267d29e44ba838'), 'author': 'Mike', 'text': 'My first blog post!', 'tags': ['mongodb', 'python', 'pymongo'], 'date': datetime.datetime(2018, 12, 4, 17, 39, 5, 20000)}\n",
      "{'_id': ObjectId('5c06bc1066267d29e44ba839'), 'author': 'Mike', 'text': 'My second blog post!', 'tags': ['mongodb', 'python', 'pymongo'], 'date': datetime.datetime(2018, 12, 4, 17, 40, 32, 166000)}\n",
      "{'_id': ObjectId('5c06bc2266267d29e44ba83a'), 'author': 'Stacy', 'text': 'My third blog post!', 'tags': ['mongodb', 'python', 'pymongo'], 'date': datetime.datetime(2018, 12, 4, 17, 40, 50, 789000)}\n"
     ]
    }
   ],
   "source": [
    "for i in s3:\n",
    "    print(i)"
   ]
  },
  {
   "cell_type": "code",
   "execution_count": 49,
   "metadata": {},
   "outputs": [
    {
     "name": "stdout",
     "output_type": "stream",
     "text": [
      "{'_id': ObjectId('5c06bbbc66267d29e44ba838'), 'author': 'Mike', 'text': 'My first blog post!', 'tags': ['mongodb', 'python', 'pymongo'], 'date': datetime.datetime(2018, 12, 4, 17, 39, 5, 20000)}\n",
      "{'_id': ObjectId('5c06bc1066267d29e44ba839'), 'author': 'Mike', 'text': 'My second blog post!', 'tags': ['mongodb', 'python', 'pymongo'], 'date': datetime.datetime(2018, 12, 4, 17, 40, 32, 166000)}\n",
      "{'_id': ObjectId('5c06bc2266267d29e44ba83a'), 'author': 'Stacy', 'text': 'My third blog post!', 'tags': ['mongodb', 'python', 'pymongo'], 'date': datetime.datetime(2018, 12, 4, 17, 40, 50, 789000)}\n"
     ]
    }
   ],
   "source": [
    "for i in s4:\n",
    "    print(i)"
   ]
  },
  {
   "cell_type": "markdown",
   "metadata": {},
   "source": [
    "## CRUD"
   ]
  },
  {
   "cell_type": "code",
   "execution_count": 50,
   "metadata": {},
   "outputs": [
    {
     "data": {
      "text/plain": [
       "Collection(Database(MongoClient(host=['localhost:27017'], document_class=dict, tz_aware=False, connect=True), 'test_database'), 'posts')"
      ]
     },
     "execution_count": 50,
     "metadata": {},
     "output_type": "execute_result"
    }
   ],
   "source": [
    "# create and read are demonstrated above\n",
    "\n",
    "db.get_collection('posts')"
   ]
  },
  {
   "cell_type": "code",
   "execution_count": 51,
   "metadata": {},
   "outputs": [
    {
     "data": {
      "text/plain": [
       "['posts']"
      ]
     },
     "execution_count": 51,
     "metadata": {},
     "output_type": "execute_result"
    }
   ],
   "source": [
    "db.list_collection_names()"
   ]
  },
  {
   "cell_type": "code",
   "execution_count": 52,
   "metadata": {},
   "outputs": [
    {
     "data": {
      "text/plain": [
       "<pymongo.command_cursor.CommandCursor at 0x1b758ddff98>"
      ]
     },
     "execution_count": 52,
     "metadata": {},
     "output_type": "execute_result"
    }
   ],
   "source": [
    "db.list_collections()"
   ]
  },
  {
   "cell_type": "code",
   "execution_count": 53,
   "metadata": {},
   "outputs": [
    {
     "data": {
      "text/plain": [
       "'posts'"
      ]
     },
     "execution_count": 53,
     "metadata": {},
     "output_type": "execute_result"
    }
   ],
   "source": [
    "posts.name"
   ]
  },
  {
   "cell_type": "code",
   "execution_count": 54,
   "metadata": {},
   "outputs": [
    {
     "data": {
      "text/plain": [
       "Database(MongoClient(host=['localhost:27017'], document_class=dict, tz_aware=False, connect=True), 'test_database')"
      ]
     },
     "execution_count": 54,
     "metadata": {},
     "output_type": "execute_result"
    }
   ],
   "source": [
    "posts.database"
   ]
  },
  {
   "cell_type": "code",
   "execution_count": 57,
   "metadata": {},
   "outputs": [],
   "source": [
    "# Update one\n",
    "\n",
    "update = db.posts.update_one({\"author\": \"Mike\"}, {'$set': {'author': 'Michael'}})"
   ]
  },
  {
   "cell_type": "code",
   "execution_count": 58,
   "metadata": {},
   "outputs": [
    {
     "name": "stdout",
     "output_type": "stream",
     "text": [
      "{'_id': ObjectId('5c06bbbc66267d29e44ba838'), 'author': 'Michael', 'text': 'My first blog post!', 'tags': ['mongodb', 'python', 'pymongo'], 'date': datetime.datetime(2018, 12, 4, 17, 39, 5, 20000)}\n",
      "{'_id': ObjectId('5c06bc1066267d29e44ba839'), 'author': 'Mike', 'text': 'My second blog post!', 'tags': ['mongodb', 'python', 'pymongo'], 'date': datetime.datetime(2018, 12, 4, 17, 40, 32, 166000)}\n",
      "{'_id': ObjectId('5c06bc2266267d29e44ba83a'), 'author': 'Stacy', 'text': 'My third blog post!', 'tags': ['mongodb', 'python', 'pymongo'], 'date': datetime.datetime(2018, 12, 4, 17, 40, 50, 789000)}\n"
     ]
    }
   ],
   "source": [
    "for post in db.posts.find():\n",
    "    print(post)"
   ]
  },
  {
   "cell_type": "code",
   "execution_count": 59,
   "metadata": {
    "collapsed": true
   },
   "outputs": [],
   "source": [
    "update = db.posts.update_one({\"author\": \"Mike\"}, {'$set': {'text': 'One of many blog posts!'}})"
   ]
  },
  {
   "cell_type": "code",
   "execution_count": 60,
   "metadata": {},
   "outputs": [
    {
     "name": "stdout",
     "output_type": "stream",
     "text": [
      "{'_id': ObjectId('5c06bbbc66267d29e44ba838'), 'author': 'Michael', 'text': 'My first blog post!', 'tags': ['mongodb', 'python', 'pymongo'], 'date': datetime.datetime(2018, 12, 4, 17, 39, 5, 20000)}\n",
      "{'_id': ObjectId('5c06bc1066267d29e44ba839'), 'author': 'Mike', 'text': 'One of many blog posts!', 'tags': ['mongodb', 'python', 'pymongo'], 'date': datetime.datetime(2018, 12, 4, 17, 40, 32, 166000)}\n",
      "{'_id': ObjectId('5c06bc2266267d29e44ba83a'), 'author': 'Stacy', 'text': 'My third blog post!', 'tags': ['mongodb', 'python', 'pymongo'], 'date': datetime.datetime(2018, 12, 4, 17, 40, 50, 789000)}\n"
     ]
    }
   ],
   "source": [
    "for post in db.posts.find():\n",
    "    print(post)"
   ]
  },
  {
   "cell_type": "code",
   "execution_count": 64,
   "metadata": {},
   "outputs": [],
   "source": [
    "update = db.posts.update_many({\"tags\": \"mongodb\"}, { '$addToSet': { 'tags': 'noSQL'} })"
   ]
  },
  {
   "cell_type": "code",
   "execution_count": 65,
   "metadata": {},
   "outputs": [
    {
     "name": "stdout",
     "output_type": "stream",
     "text": [
      "{'_id': ObjectId('5c06bbbc66267d29e44ba838'), 'author': 'Michael', 'text': 'My first blog post!', 'tags': ['mongodb', 'python', 'pymongo', 'noSQL'], 'date': datetime.datetime(2018, 12, 4, 17, 39, 5, 20000)}\n",
      "{'_id': ObjectId('5c06bc1066267d29e44ba839'), 'author': 'Mike', 'text': 'One of many blog posts!', 'tags': ['mongodb', 'python', 'pymongo', 'noSQL'], 'date': datetime.datetime(2018, 12, 4, 17, 40, 32, 166000)}\n",
      "{'_id': ObjectId('5c06bc2266267d29e44ba83a'), 'author': 'Stacy', 'text': 'My third blog post!', 'tags': ['mongodb', 'python', 'pymongo', 'noSQL'], 'date': datetime.datetime(2018, 12, 4, 17, 40, 50, 789000)}\n"
     ]
    }
   ],
   "source": [
    "for post in db.posts.find():\n",
    "    print(post)"
   ]
  },
  {
   "cell_type": "code",
   "execution_count": 68,
   "metadata": {},
   "outputs": [],
   "source": [
    "update = db.posts.update_many({\"tags\": \"mongodb\"}, { '$currentDate': { 'date': True }})"
   ]
  },
  {
   "cell_type": "code",
   "execution_count": 69,
   "metadata": {},
   "outputs": [
    {
     "name": "stdout",
     "output_type": "stream",
     "text": [
      "{'_id': ObjectId('5c06bbbc66267d29e44ba838'), 'author': 'Michael', 'text': 'My first blog post!', 'tags': ['mongodb', 'python', 'pymongo', 'noSQL'], 'date': datetime.datetime(2018, 12, 4, 18, 20, 9, 876000)}\n",
      "{'_id': ObjectId('5c06bc1066267d29e44ba839'), 'author': 'Mike', 'text': 'One of many blog posts!', 'tags': ['mongodb', 'python', 'pymongo', 'noSQL'], 'date': datetime.datetime(2018, 12, 4, 18, 20, 9, 876000)}\n",
      "{'_id': ObjectId('5c06bc2266267d29e44ba83a'), 'author': 'Stacy', 'text': 'My third blog post!', 'tags': ['mongodb', 'python', 'pymongo', 'noSQL'], 'date': datetime.datetime(2018, 12, 4, 18, 20, 9, 876000)}\n"
     ]
    }
   ],
   "source": [
    "for post in db.posts.find():\n",
    "    print(post)"
   ]
  },
  {
   "cell_type": "code",
   "execution_count": null,
   "metadata": {
    "collapsed": true
   },
   "outputs": [],
   "source": []
  }
 ],
 "metadata": {
  "kernelspec": {
   "display_name": "Python 3",
   "language": "python",
   "name": "python3"
  },
  "language_info": {
   "codemirror_mode": {
    "name": "ipython",
    "version": 3
   },
   "file_extension": ".py",
   "mimetype": "text/x-python",
   "name": "python",
   "nbconvert_exporter": "python",
   "pygments_lexer": "ipython3",
   "version": "3.6.1"
  }
 },
 "nbformat": 4,
 "nbformat_minor": 2
}
