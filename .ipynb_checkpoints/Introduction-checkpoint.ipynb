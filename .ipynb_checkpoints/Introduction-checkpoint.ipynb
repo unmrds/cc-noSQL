{
 "cells": [
  {
   "cell_type": "markdown",
   "metadata": {},
   "source": [
    "# NoSQL\n",
    "-----------------------------------------------------------------\n",
    "\n",
    "\n",
    "\n",
    "## Resources\n",
    "\n",
    "Vaish, Gaurav. NoSQL Starter. Olton : Packt Publishing, 2013., 2013. http://libproxy.unm.edu/login?url=https://search.ebscohost.com/login.aspx?direct=true&db=cat06111a&AN=unm.EBC1142875&site=eds-live&scope=site.\n"
   ]
  }
 ],
 "metadata": {
  "kernelspec": {
   "display_name": "Python 3",
   "language": "python",
   "name": "python3"
  },
  "language_info": {
   "codemirror_mode": {
    "name": "ipython",
    "version": 3
   },
   "file_extension": ".py",
   "mimetype": "text/x-python",
   "name": "python",
   "nbconvert_exporter": "python",
   "pygments_lexer": "ipython3",
   "version": "3.6.7"
  }
 },
 "nbformat": 4,
 "nbformat_minor": 2
}
