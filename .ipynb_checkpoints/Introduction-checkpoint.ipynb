{
 "cells": [
  {
   "cell_type": "markdown",
   "metadata": {},
   "source": [
    "# NoSQL\n",
    "-----------------------------------------------------------------\n",
    "\n",
    "In previous sessions we have looked at use cases for relational database management systems (RDBMS), which predominantly make use of SQL. Today's session provides an overview of NoSQL databases. **NoSQL** can be understood to mean \"no SQL\" or, alternatively, \"not only SQL.\" NoSQL databases are non-relational, which in the simplest terms means they are not made up of tables.\n",
    "\n",
    "Topics we will cover include:\n",
    "\n",
    "* Differences between SQL and NoSQL databases\n",
    "* Types of NoSQL databases and their use cases\n",
    "* Document database basics with MongoDB\n",
    "* Graph database basics with Neo4j\n",
    "\n",
    "## Why NoSQL?\n",
    "\n",
    "The highly structured table schema and relationships in RDBMS make them excellent for applications which require maximum consistency and integrity such as banking. However, integrity comes with overhead, with scalability being a particular problem of trying to use traditional RDBMS systems for certain types of web-scale applications such as social media and some aspects of e-commerce. \n",
    "\n",
    "Transactions occurring within traditional RDBMS systems are ideally compliant with **ACID** properties:\n",
    "\n",
    "* Atomicity - transactions succeed completely or fail completely. That is, if a transaction consists of multiple operations, all operations must succeed for the transaction to succeed.\n",
    "* Consistency - all data are valid, satisfying all rules and constraints. Every transaction leaves the database in a valid state.\n",
    "* Isolation - transactions do not interfere with or affect each other.\n",
    "* Durability - completed transactions are persistent.\n",
    "\n",
    "NoSQL systems may be ACID compliant, but are more generally designed according to an alternative set of **BASE** properties. \n",
    "\n",
    "* Basic Availability - the database usually works as expected.\n",
    "* Soft state - every transaction does not have to leave the database in a consistent state.\n",
    "* Eventual consistency - consistency can occur at some point following a transaction.\n",
    "\n",
    "As noted, there are times when ACID compliance is essential\n",
    "\n",
    "* Online banking\n",
    "* Stock exchanges\n",
    "* Airline passenger data\n",
    "\n",
    "And other time when we are less concerned with consistency\n",
    "\n",
    "* Retweets and likes\n",
    "* Blog edits\n",
    "\n",
    "\n",
    "\n",
    "## Resources\n",
    "\n",
    "Vaish, Gaurav. **NoSQL Starter**. Olton : Packt Publishing, 2013.\n"
   ]
  },
  {
   "cell_type": "code",
   "execution_count": null,
   "metadata": {},
   "outputs": [],
   "source": []
  }
 ],
 "metadata": {
  "kernelspec": {
   "display_name": "Python 3",
   "language": "python",
   "name": "python3"
  },
  "language_info": {
   "codemirror_mode": {
    "name": "ipython",
    "version": 3
   },
   "file_extension": ".py",
   "mimetype": "text/x-python",
   "name": "python",
   "nbconvert_exporter": "python",
   "pygments_lexer": "ipython3",
   "version": "3.6.7"
  }
 },
 "nbformat": 4,
 "nbformat_minor": 2
}
